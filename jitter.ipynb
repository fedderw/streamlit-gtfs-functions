{
 "cells": [
  {
   "cell_type": "code",
   "execution_count": 6,
   "metadata": {},
   "outputs": [],
   "source": [
    "from gtfs_functions import Feed\n",
    "import pandas as pd\n",
    "import geopandas as gpd\n",
    "import plotly.express as px\n",
    "import plotly.graph_objects as go\n",
    "import plotly.io as pio\n"
   ]
  },
  {
   "cell_type": "code",
   "execution_count": 31,
   "metadata": {},
   "outputs": [
    {
     "name": "stderr",
     "output_type": "stream",
     "text": [
      "INFO:root:Reading \"routes.txt\".\n",
      "INFO:root:Reading \"stop_times.txt\".\n",
      "INFO:root:get trips in stop_times\n",
      "INFO:root:accessing trips\n",
      "INFO:root:Start date is None. You should either specify a start date or set busiest_date to True.\n",
      "INFO:root:Reading \"trips.txt\".\n",
      "INFO:root:Reading \"calendar.txt\".\n",
      "INFO:root:Reading \"calendar_dates.txt\".\n",
      "INFO:root:The busiest date/s of this feed or your selected date range is/are:  ['2024-05-27'] with 9185 trips.\n",
      "INFO:root:In the case that more than one busiest date was found, the first one will be considered.\n",
      "INFO:root:In this case is 2024-05-27.\n",
      "INFO:root:Reading \"stop_times.txt\".\n",
      "INFO:root:_trips is defined in stop_times\n",
      "INFO:root:Reading \"stops.txt\".\n",
      "INFO:root:computing patterns\n",
      "INFO:root:Reading \"shapes.txt\".\n"
     ]
    },
    {
     "data": {
      "text/html": [
       "<div>\n",
       "<style scoped>\n",
       "    .dataframe tbody tr th:only-of-type {\n",
       "        vertical-align: middle;\n",
       "    }\n",
       "\n",
       "    .dataframe tbody tr th {\n",
       "        vertical-align: top;\n",
       "    }\n",
       "\n",
       "    .dataframe thead th {\n",
       "        text-align: right;\n",
       "    }\n",
       "</style>\n",
       "<table border=\"1\" class=\"dataframe\">\n",
       "  <thead>\n",
       "    <tr style=\"text-align: right;\">\n",
       "      <th></th>\n",
       "      <th>route_id</th>\n",
       "      <th>route_name</th>\n",
       "      <th>direction_id</th>\n",
       "      <th>window</th>\n",
       "      <th>min_per_trip</th>\n",
       "      <th>ntrips</th>\n",
       "      <th>geometry</th>\n",
       "      <th>window_start</th>\n",
       "      <th>window_end</th>\n",
       "      <th>tph</th>\n",
       "    </tr>\n",
       "  </thead>\n",
       "  <tbody>\n",
       "    <tr>\n",
       "      <th>0</th>\n",
       "      <td>11638</td>\n",
       "      <td>21 Woodberry - Canton Crossing</td>\n",
       "      <td>0</td>\n",
       "      <td>6:00-9:00</td>\n",
       "      <td>180</td>\n",
       "      <td>1</td>\n",
       "      <td>LINESTRING (-76.56925 39.27539, -76.56928 39.2...</td>\n",
       "      <td>6</td>\n",
       "      <td>9</td>\n",
       "      <td>0.333333</td>\n",
       "    </tr>\n",
       "    <tr>\n",
       "      <th>1</th>\n",
       "      <td>11638</td>\n",
       "      <td>21 Woodberry - Canton Crossing</td>\n",
       "      <td>0</td>\n",
       "      <td>0:00-6:00</td>\n",
       "      <td>40</td>\n",
       "      <td>9</td>\n",
       "      <td>LINESTRING (-76.56925 39.27539, -76.56928 39.2...</td>\n",
       "      <td>0</td>\n",
       "      <td>6</td>\n",
       "      <td>1.500000</td>\n",
       "    </tr>\n",
       "  </tbody>\n",
       "</table>\n",
       "</div>"
      ],
      "text/plain": [
       "  route_id                      route_name  direction_id     window  \\\n",
       "0    11638  21 Woodberry - Canton Crossing             0  6:00-9:00   \n",
       "1    11638  21 Woodberry - Canton Crossing             0  0:00-6:00   \n",
       "\n",
       "   min_per_trip  ntrips                                           geometry  \\\n",
       "0           180       1  LINESTRING (-76.56925 39.27539, -76.56928 39.2...   \n",
       "1            40       9  LINESTRING (-76.56925 39.27539, -76.56928 39.2...   \n",
       "\n",
       "   window_start  window_end       tph  \n",
       "0             6           9  0.333333  \n",
       "1             0           6  1.500000  "
      ]
     },
     "execution_count": 31,
     "metadata": {},
     "output_type": "execute_result"
    }
   ],
   "source": [
    "gtfs_path = \"https://feeds.mta.maryland.gov/gtfs/local-bus\"\n",
    "feed = Feed(gtfs_path, time_windows=[0, 6, 9, 12, 15, 19, 24])\n",
    "routes = feed.routes\n",
    "routes.head(2)\n",
    "stop_freq = feed.stops_freq\n",
    "stop_freq[\"window_start\"] = stop_freq.window.str.extract(\n",
    "    r\"(\\d+):\"\n",
    ").astype(int)\n",
    "stop_freq[\"window_end\"] = stop_freq.window.str.extract(\n",
    "    r\"-(\\d+):\"\n",
    ").astype(int)\n",
    "stop_freq[\"tph\"] = stop_freq.ntrips / (\n",
    "    stop_freq.window_end - stop_freq.window_start\n",
    ")\n",
    "line_freq = feed.lines_freq\n",
    "line_freq['window_start'] = line_freq.window.str.extract(r\"(\\d+):\").astype(int)\n",
    "line_freq['window_end'] = line_freq.window.str.extract(r\"-(\\d+):\").astype(int)\n",
    "line_freq['tph'] = line_freq.ntrips / (line_freq.window_end - line_freq.window_start)\n",
    "line_freq.head(2)"
   ]
  },
  {
   "cell_type": "code",
   "execution_count": 32,
   "metadata": {},
   "outputs": [
    {
     "data": {
      "application/vnd.plotly.v1+json": {
       "config": {
        "plotlyServerURL": "https://plot.ly"
       },
       "data": [
        {
         "boxmean": "sd",
         "boxpoints": "all",
         "fillcolor": "rgba(255,255,255,0)",
         "hoveron": "points",
         "hovertemplate": "Time window=%{x}<br>Trips per hour=%{y}<br>Route=%{name}<extra></extra>",
         "line": {
          "color": "rgba(255,255,255,0)"
         },
         "marker": {
          "color": "black",
          "size": 4
         },
         "name": "CityLink BROWN Overlea - Downtown",
         "pointpos": 0,
         "showlegend": false,
         "type": "box",
         "x": [
          "0:00-6:00",
          "0:00-6:00",
          "6:00-9:00",
          "6:00-9:00",
          "6:00-9:00",
          "9:00-12:00",
          "9:00-12:00",
          "12:00-15:00",
          "12:00-15:00",
          "12:00-15:00",
          "15:00-19:00",
          "15:00-19:00",
          "15:00-19:00",
          "19:00-24:00",
          "19:00-24:00"
         ],
         "y": [
          2.8333333333333335,
          2.6666666666666665,
          5.333333333333333,
          5,
          0.3333333333333333,
          5.666666666666667,
          6,
          6,
          0.3333333333333333,
          6,
          5.75,
          0.25,
          5.5,
          3.8,
          3.6
         ]
        },
        {
         "boxmean": "sd",
         "boxpoints": "all",
         "fillcolor": "rgba(255,255,255,0)",
         "hoveron": "points",
         "hovertemplate": "Time window=%{x}<br>Trips per hour=%{y}<br>Route=%{name}<extra></extra>",
         "line": {
          "color": "rgba(255,255,255,0)"
         },
         "marker": {
          "color": "black",
          "size": 4
         },
         "name": "CityLink NAVY Mondawmin - Dundalk",
         "pointpos": 0,
         "showlegend": false,
         "type": "box",
         "x": [
          "0:00-6:00",
          "0:00-6:00",
          "0:00-6:00",
          "0:00-6:00",
          "0:00-6:00",
          "0:00-6:00",
          "0:00-6:00",
          "0:00-6:00",
          "6:00-9:00",
          "6:00-9:00",
          "6:00-9:00",
          "6:00-9:00",
          "9:00-12:00",
          "9:00-12:00",
          "9:00-12:00",
          "9:00-12:00",
          "9:00-12:00",
          "9:00-12:00",
          "12:00-15:00",
          "12:00-15:00",
          "12:00-15:00",
          "12:00-15:00",
          "12:00-15:00",
          "12:00-15:00",
          "12:00-15:00",
          "15:00-19:00",
          "15:00-19:00",
          "19:00-24:00",
          "19:00-24:00",
          "19:00-24:00",
          "19:00-24:00"
         ],
         "y": [
          1.1666666666666667,
          0.16666666666666666,
          1.5,
          0.16666666666666666,
          1.1666666666666667,
          0.3333333333333333,
          1,
          0.3333333333333333,
          7,
          0.3333333333333333,
          7.666666666666667,
          0.3333333333333333,
          0.6666666666666666,
          1,
          4,
          1,
          4.333333333333333,
          0.6666666666666666,
          0.6666666666666666,
          4.333333333333333,
          1,
          4,
          1,
          0.3333333333333333,
          1.3333333333333333,
          8.25,
          8.25,
          0.8,
          2.6,
          2,
          1.8
         ]
        },
        {
         "boxmean": "sd",
         "boxpoints": "all",
         "fillcolor": "rgba(255,255,255,0)",
         "hoveron": "points",
         "hovertemplate": "Time window=%{x}<br>Trips per hour=%{y}<br>Route=%{name}<extra></extra>",
         "line": {
          "color": "rgba(255,255,255,0)"
         },
         "marker": {
          "color": "black",
          "size": 4
         },
         "name": "63 Gardenville - Tradepoint Atlantic",
         "pointpos": 0,
         "showlegend": false,
         "type": "box",
         "x": [
          "0:00-6:00",
          "0:00-6:00",
          "0:00-6:00",
          "0:00-6:00",
          "6:00-9:00",
          "6:00-9:00",
          "9:00-12:00",
          "9:00-12:00",
          "12:00-15:00",
          "12:00-15:00",
          "15:00-19:00",
          "15:00-19:00",
          "19:00-24:00",
          "19:00-24:00"
         ],
         "y": [
          1.3333333333333333,
          0.8333333333333334,
          1.5,
          1.3333333333333333,
          3.3333333333333335,
          3.3333333333333335,
          2,
          2,
          2.6666666666666665,
          2.6666666666666665,
          3.75,
          4,
          2.4,
          2.2
         ]
        },
        {
         "boxmean": "sd",
         "boxpoints": "all",
         "fillcolor": "rgba(255,255,255,0)",
         "hoveron": "points",
         "hovertemplate": "Time window=%{x}<br>Trips per hour=%{y}<br>Route=%{name}<extra></extra>",
         "line": {
          "color": "rgba(255,255,255,0)"
         },
         "marker": {
          "color": "black",
          "size": 4
         },
         "name": "31 Sinai Hospital - Security Square",
         "pointpos": 0,
         "showlegend": false,
         "type": "box",
         "x": [
          "0:00-6:00",
          "0:00-6:00",
          "0:00-6:00",
          "0:00-6:00",
          "0:00-6:00",
          "0:00-6:00",
          "6:00-9:00",
          "6:00-9:00",
          "6:00-9:00",
          "6:00-9:00",
          "9:00-12:00",
          "9:00-12:00",
          "9:00-12:00",
          "9:00-12:00",
          "12:00-15:00",
          "12:00-15:00",
          "12:00-15:00",
          "12:00-15:00",
          "15:00-19:00",
          "15:00-19:00",
          "15:00-19:00",
          "15:00-19:00",
          "19:00-24:00",
          "19:00-24:00",
          "19:00-24:00"
         ],
         "y": [
          0.5,
          0.3333333333333333,
          1,
          0.5,
          1.3333333333333333,
          0.3333333333333333,
          2.3333333333333335,
          2,
          2,
          2,
          3.3333333333333335,
          0.3333333333333333,
          0.3333333333333333,
          3.3333333333333335,
          1,
          3,
          3,
          0.3333333333333333,
          2.75,
          1.25,
          2.75,
          1.25,
          3.4,
          0.2,
          3.4
         ]
        },
        {
         "boxmean": "sd",
         "boxpoints": "all",
         "fillcolor": "rgba(255,255,255,0)",
         "hoveron": "points",
         "hovertemplate": "Time window=%{x}<br>Trips per hour=%{y}<br>Route=%{name}<extra></extra>",
         "line": {
          "color": "rgba(255,255,255,0)"
         },
         "marker": {
          "color": "black",
          "size": 4
         },
         "name": "85 Penn-North - Milford Mill",
         "pointpos": 0,
         "showlegend": false,
         "type": "box",
         "x": [
          "0:00-6:00",
          "0:00-6:00",
          "6:00-9:00",
          "6:00-9:00",
          "6:00-9:00",
          "9:00-12:00",
          "9:00-12:00",
          "12:00-15:00",
          "12:00-15:00",
          "12:00-15:00",
          "15:00-19:00",
          "15:00-19:00",
          "15:00-19:00",
          "19:00-24:00",
          "19:00-24:00"
         ],
         "y": [
          2.5,
          2.3333333333333335,
          5.333333333333333,
          5.666666666666667,
          0.6666666666666666,
          6.333333333333333,
          5.666666666666667,
          6,
          0.3333333333333333,
          6,
          5.75,
          6,
          0.5,
          3.6,
          3.8
         ]
        },
        {
         "boxmean": "sd",
         "boxpoints": "all",
         "fillcolor": "rgba(255,255,255,0)",
         "hoveron": "points",
         "hovertemplate": "Time window=%{x}<br>Trips per hour=%{y}<br>Route=%{name}<extra></extra>",
         "line": {
          "color": "rgba(255,255,255,0)"
         },
         "marker": {
          "color": "black",
          "size": 4
         },
         "name": "CityLink ORANGE Essex - West Baltimore MARC",
         "pointpos": 0,
         "showlegend": false,
         "type": "box",
         "x": [
          "0:00-6:00",
          "0:00-6:00",
          "6:00-9:00",
          "6:00-9:00",
          "9:00-12:00",
          "9:00-12:00",
          "12:00-15:00",
          "12:00-15:00",
          "12:00-15:00",
          "12:00-15:00",
          "12:00-15:00",
          "12:00-15:00",
          "15:00-19:00",
          "15:00-19:00",
          "15:00-19:00",
          "19:00-24:00",
          "19:00-24:00"
         ],
         "y": [
          2.3333333333333335,
          1.8333333333333333,
          8,
          7,
          7.333333333333333,
          7.666666666666667,
          8,
          1.3333333333333333,
          0.6666666666666666,
          8.666666666666666,
          0.3333333333333333,
          0.6666666666666666,
          8.75,
          0.25,
          9,
          4.2,
          4.6
         ]
        },
        {
         "boxmean": "sd",
         "boxpoints": "all",
         "fillcolor": "rgba(255,255,255,0)",
         "hoveron": "points",
         "hovertemplate": "Time window=%{x}<br>Trips per hour=%{y}<br>Route=%{name}<extra></extra>",
         "line": {
          "color": "rgba(255,255,255,0)"
         },
         "marker": {
          "color": "black",
          "size": 4
         },
         "name": "62 CCBC Essex - Turner Station",
         "pointpos": 0,
         "showlegend": false,
         "type": "box",
         "x": [
          "0:00-6:00",
          "0:00-6:00",
          "6:00-9:00",
          "6:00-9:00",
          "9:00-12:00",
          "9:00-12:00",
          "12:00-15:00",
          "12:00-15:00",
          "15:00-19:00",
          "15:00-19:00",
          "19:00-24:00",
          "19:00-24:00"
         ],
         "y": [
          0.5,
          0.16666666666666666,
          2.3333333333333335,
          2.6666666666666665,
          2.6666666666666665,
          2.6666666666666665,
          2.3333333333333335,
          2.3333333333333335,
          3,
          3,
          2,
          1.8
         ]
        },
        {
         "boxmean": "sd",
         "boxpoints": "all",
         "fillcolor": "rgba(255,255,255,0)",
         "hoveron": "points",
         "hovertemplate": "Time window=%{x}<br>Trips per hour=%{y}<br>Route=%{name}<extra></extra>",
         "line": {
          "color": "rgba(255,255,255,0)"
         },
         "marker": {
          "color": "black",
          "size": 4
         },
         "name": "33 Mt Washington Station - Overlea",
         "pointpos": 0,
         "showlegend": false,
         "type": "box",
         "x": [
          "0:00-6:00",
          "0:00-6:00",
          "6:00-9:00",
          "6:00-9:00",
          "6:00-9:00",
          "9:00-12:00",
          "9:00-12:00",
          "12:00-15:00",
          "12:00-15:00",
          "12:00-15:00",
          "15:00-19:00",
          "15:00-19:00",
          "19:00-24:00",
          "19:00-24:00"
         ],
         "y": [
          0.3333333333333333,
          0.3333333333333333,
          0.3333333333333333,
          2,
          2,
          2.3333333333333335,
          2.6666666666666665,
          2.6666666666666665,
          0.3333333333333333,
          2.3333333333333335,
          2.5,
          2.5,
          2.2,
          2
         ]
        },
        {
         "boxmean": "sd",
         "boxpoints": "all",
         "fillcolor": "rgba(255,255,255,0)",
         "hoveron": "points",
         "hovertemplate": "Time window=%{x}<br>Trips per hour=%{y}<br>Route=%{name}<extra></extra>",
         "line": {
          "color": "rgba(255,255,255,0)"
         },
         "marker": {
          "color": "black",
          "size": 4
         },
         "name": "87 Glyndon - Owings Mills",
         "pointpos": 0,
         "showlegend": false,
         "type": "box",
         "x": [
          "0:00-6:00",
          "0:00-6:00",
          "6:00-9:00",
          "6:00-9:00",
          "9:00-12:00",
          "9:00-12:00",
          "12:00-15:00",
          "12:00-15:00",
          "15:00-19:00",
          "15:00-19:00",
          "19:00-24:00",
          "19:00-24:00"
         ],
         "y": [
          1,
          0.8333333333333334,
          2.6666666666666665,
          3,
          3.3333333333333335,
          3.3333333333333335,
          2.6666666666666665,
          3,
          3.25,
          3.5,
          2.8,
          2.6
         ]
        },
        {
         "boxmean": "sd",
         "boxpoints": "all",
         "fillcolor": "rgba(255,255,255,0)",
         "hoveron": "points",
         "hovertemplate": "Time window=%{x}<br>Trips per hour=%{y}<br>Route=%{name}<extra></extra>",
         "line": {
          "color": "rgba(255,255,255,0)"
         },
         "marker": {
          "color": "black",
          "size": 4
         },
         "name": "CityLink PURPLE City Hall - Paradise/Catonsville",
         "pointpos": 0,
         "showlegend": false,
         "type": "box",
         "x": [
          "0:00-6:00",
          "0:00-6:00",
          "0:00-6:00",
          "0:00-6:00",
          "6:00-9:00",
          "6:00-9:00",
          "6:00-9:00",
          "6:00-9:00",
          "6:00-9:00",
          "9:00-12:00",
          "9:00-12:00",
          "9:00-12:00",
          "9:00-12:00",
          "12:00-15:00",
          "12:00-15:00",
          "12:00-15:00",
          "12:00-15:00",
          "12:00-15:00",
          "15:00-19:00",
          "15:00-19:00",
          "15:00-19:00",
          "15:00-19:00",
          "19:00-24:00",
          "19:00-24:00",
          "19:00-24:00",
          "19:00-24:00"
         ],
         "y": [
          1.3333333333333333,
          1,
          1.1666666666666667,
          0.6666666666666666,
          4.333333333333333,
          4,
          2.6666666666666665,
          2.6666666666666665,
          0.3333333333333333,
          2,
          2,
          4,
          4,
          0.3333333333333333,
          4,
          2.3333333333333335,
          4.333333333333333,
          2,
          2.5,
          5,
          4.5,
          2.5,
          0.8,
          1.2,
          2.4,
          2.4
         ]
        },
        {
         "boxmean": "sd",
         "boxpoints": "all",
         "fillcolor": "rgba(255,255,255,0)",
         "hoveron": "points",
         "hovertemplate": "Time window=%{x}<br>Trips per hour=%{y}<br>Route=%{name}<extra></extra>",
         "line": {
          "color": "rgba(255,255,255,0)"
         },
         "marker": {
          "color": "black",
          "size": 4
         },
         "name": "67 Downtown - Marley Neck",
         "pointpos": 0,
         "showlegend": false,
         "type": "box",
         "x": [
          "0:00-6:00",
          "0:00-6:00",
          "6:00-9:00",
          "6:00-9:00",
          "9:00-12:00",
          "12:00-15:00",
          "12:00-15:00",
          "15:00-19:00",
          "15:00-19:00",
          "19:00-24:00",
          "19:00-24:00"
         ],
         "y": [
          0.6666666666666666,
          0.3333333333333333,
          3,
          2.3333333333333335,
          0.3333333333333333,
          1.3333333333333333,
          2,
          3,
          2.75,
          1,
          1.4
         ]
        },
        {
         "boxmean": "sd",
         "boxpoints": "all",
         "fillcolor": "rgba(255,255,255,0)",
         "hoveron": "points",
         "hovertemplate": "Time window=%{x}<br>Trips per hour=%{y}<br>Route=%{name}<extra></extra>",
         "line": {
          "color": "rgba(255,255,255,0)"
         },
         "marker": {
          "color": "black",
          "size": 4
         },
         "name": "29 Mondawmin - Brooklyn",
         "pointpos": 0,
         "showlegend": false,
         "type": "box",
         "x": [
          "0:00-6:00",
          "0:00-6:00",
          "0:00-6:00",
          "0:00-6:00",
          "0:00-6:00",
          "0:00-6:00",
          "0:00-6:00",
          "0:00-6:00",
          "6:00-9:00",
          "6:00-9:00",
          "6:00-9:00",
          "6:00-9:00",
          "6:00-9:00",
          "9:00-12:00",
          "9:00-12:00",
          "9:00-12:00",
          "9:00-12:00",
          "9:00-12:00",
          "9:00-12:00",
          "12:00-15:00",
          "12:00-15:00",
          "12:00-15:00",
          "12:00-15:00",
          "12:00-15:00",
          "12:00-15:00",
          "15:00-19:00",
          "15:00-19:00",
          "15:00-19:00",
          "15:00-19:00",
          "15:00-19:00",
          "19:00-24:00",
          "19:00-24:00",
          "19:00-24:00",
          "19:00-24:00"
         ],
         "y": [
          0.5,
          0.3333333333333333,
          0.6666666666666666,
          0.3333333333333333,
          0.3333333333333333,
          0.3333333333333333,
          0.16666666666666666,
          0.16666666666666666,
          3,
          1,
          3,
          1,
          0.3333333333333333,
          0.3333333333333333,
          1.3333333333333333,
          0.6666666666666666,
          1.6666666666666667,
          1,
          0.3333333333333333,
          1,
          2,
          0.3333333333333333,
          0.3333333333333333,
          1,
          2.3333333333333335,
          1,
          1,
          3,
          0.25,
          3,
          1,
          1.2,
          1,
          1.2
         ]
        },
        {
         "boxmean": "sd",
         "boxpoints": "all",
         "fillcolor": "rgba(255,255,255,0)",
         "hoveron": "points",
         "hovertemplate": "Time window=%{x}<br>Trips per hour=%{y}<br>Route=%{name}<extra></extra>",
         "line": {
          "color": "rgba(255,255,255,0)"
         },
         "marker": {
          "color": "black",
          "size": 4
         },
         "name": "81 Deer Park - Milford Mill Station",
         "pointpos": 0,
         "showlegend": false,
         "type": "box",
         "x": [
          "0:00-6:00",
          "0:00-6:00",
          "6:00-9:00",
          "6:00-9:00",
          "6:00-9:00",
          "6:00-9:00",
          "9:00-12:00",
          "9:00-12:00",
          "12:00-15:00",
          "12:00-15:00",
          "15:00-19:00",
          "15:00-19:00",
          "19:00-24:00",
          "19:00-24:00",
          "19:00-24:00",
          "19:00-24:00"
         ],
         "y": [
          1.6666666666666667,
          1.6666666666666667,
          0.6666666666666666,
          0.6666666666666666,
          2,
          2,
          3,
          3,
          3.3333333333333335,
          3.3333333333333335,
          3.75,
          4,
          1.6,
          1.4,
          1.6,
          1.4
         ]
        },
        {
         "boxmean": "sd",
         "boxpoints": "all",
         "fillcolor": "rgba(255,255,255,0)",
         "hoveron": "points",
         "hovertemplate": "Time window=%{x}<br>Trips per hour=%{y}<br>Route=%{name}<extra></extra>",
         "line": {
          "color": "rgba(255,255,255,0)"
         },
         "marker": {
          "color": "black",
          "size": 4
         },
         "name": "82 Park Circle - Reisterstown Plaza",
         "pointpos": 0,
         "showlegend": false,
         "type": "box",
         "x": [
          "0:00-6:00",
          "0:00-6:00",
          "6:00-9:00",
          "6:00-9:00",
          "9:00-12:00",
          "9:00-12:00",
          "12:00-15:00",
          "12:00-15:00",
          "15:00-19:00",
          "15:00-19:00",
          "19:00-24:00",
          "19:00-24:00"
         ],
         "y": [
          1,
          1.1666666666666667,
          3,
          3,
          3.6666666666666665,
          3.3333333333333335,
          3.3333333333333335,
          3.6666666666666665,
          3.5,
          3.5,
          2.4,
          2.4
         ]
        },
        {
         "boxmean": "sd",
         "boxpoints": "all",
         "fillcolor": "rgba(255,255,255,0)",
         "hoveron": "points",
         "hovertemplate": "Time window=%{x}<br>Trips per hour=%{y}<br>Route=%{name}<extra></extra>",
         "line": {
          "color": "rgba(255,255,255,0)"
         },
         "marker": {
          "color": "black",
          "size": 4
         },
         "name": "30 Rogers Ave - Hollander Ridge",
         "pointpos": 0,
         "showlegend": false,
         "type": "box",
         "x": [
          "0:00-6:00",
          "0:00-6:00",
          "6:00-9:00",
          "6:00-9:00",
          "6:00-9:00",
          "6:00-9:00",
          "6:00-9:00",
          "6:00-9:00",
          "6:00-9:00",
          "9:00-12:00",
          "9:00-12:00",
          "12:00-15:00",
          "12:00-15:00",
          "12:00-15:00",
          "12:00-15:00",
          "12:00-15:00",
          "15:00-19:00",
          "15:00-19:00",
          "15:00-19:00",
          "15:00-19:00",
          "19:00-24:00",
          "19:00-24:00"
         ],
         "y": [
          1.6666666666666667,
          1.8333333333333333,
          5.333333333333333,
          0.3333333333333333,
          0.6666666666666666,
          0.3333333333333333,
          0.3333333333333333,
          0.3333333333333333,
          5,
          5.333333333333333,
          4.666666666666667,
          6,
          0.3333333333333333,
          0.6666666666666666,
          5.666666666666667,
          1,
          0.25,
          5.75,
          5.5,
          0.25,
          2.8,
          3
         ]
        },
        {
         "boxmean": "sd",
         "boxpoints": "all",
         "fillcolor": "rgba(255,255,255,0)",
         "hoveron": "points",
         "hovertemplate": "Time window=%{x}<br>Trips per hour=%{y}<br>Route=%{name}<extra></extra>",
         "line": {
          "color": "rgba(255,255,255,0)"
         },
         "marker": {
          "color": "black",
          "size": 4
         },
         "name": "65 Downtown - Dundalk",
         "pointpos": 0,
         "showlegend": false,
         "type": "box",
         "x": [
          "0:00-6:00",
          "0:00-6:00",
          "0:00-6:00",
          "6:00-9:00",
          "6:00-9:00",
          "6:00-9:00",
          "6:00-9:00",
          "9:00-12:00",
          "9:00-12:00",
          "12:00-15:00",
          "12:00-15:00",
          "15:00-19:00",
          "15:00-19:00",
          "15:00-19:00",
          "15:00-19:00",
          "19:00-24:00",
          "19:00-24:00",
          "19:00-24:00"
         ],
         "y": [
          2,
          1.5,
          0.3333333333333333,
          0.6666666666666666,
          3.3333333333333335,
          1,
          2.3333333333333335,
          2.6666666666666665,
          3,
          2.3333333333333335,
          2,
          0.75,
          1.25,
          3.5,
          3.75,
          2.4,
          2.2,
          0.2
         ]
        },
        {
         "boxmean": "sd",
         "boxpoints": "all",
         "fillcolor": "rgba(255,255,255,0)",
         "hoveron": "points",
         "hovertemplate": "Time window=%{x}<br>Trips per hour=%{y}<br>Route=%{name}<extra></extra>",
         "line": {
          "color": "rgba(255,255,255,0)"
         },
         "marker": {
          "color": "black",
          "size": 4
         },
         "name": "83 Mondawmin - Old Court Station",
         "pointpos": 0,
         "showlegend": false,
         "type": "box",
         "x": [
          "0:00-6:00",
          "0:00-6:00",
          "6:00-9:00",
          "6:00-9:00",
          "9:00-12:00",
          "9:00-12:00",
          "12:00-15:00",
          "12:00-15:00",
          "15:00-19:00",
          "15:00-19:00",
          "19:00-24:00",
          "19:00-24:00"
         ],
         "y": [
          1.6666666666666667,
          1.8333333333333333,
          4,
          4.666666666666667,
          3.6666666666666665,
          4,
          4.666666666666667,
          4.666666666666667,
          5,
          5.25,
          3,
          2.8
         ]
        },
        {
         "boxmean": "sd",
         "boxpoints": "all",
         "fillcolor": "rgba(255,255,255,0)",
         "hoveron": "points",
         "hovertemplate": "Time window=%{x}<br>Trips per hour=%{y}<br>Route=%{name}<extra></extra>",
         "line": {
          "color": "rgba(255,255,255,0)"
         },
         "marker": {
          "color": "black",
          "size": 4
         },
         "name": "CityLink PINK Cedonia - West Baltimore MARC",
         "pointpos": 0,
         "showlegend": false,
         "type": "box",
         "x": [
          "0:00-6:00",
          "0:00-6:00",
          "6:00-9:00",
          "6:00-9:00",
          "9:00-12:00",
          "9:00-12:00",
          "12:00-15:00",
          "12:00-15:00",
          "12:00-15:00",
          "15:00-19:00",
          "15:00-19:00",
          "19:00-24:00",
          "19:00-24:00"
         ],
         "y": [
          2.6666666666666665,
          2.8333333333333335,
          6,
          5.666666666666667,
          7,
          7,
          7,
          7,
          0.3333333333333333,
          7,
          7,
          4.4,
          4.8
         ]
        },
        {
         "boxmean": "sd",
         "boxpoints": "all",
         "fillcolor": "rgba(255,255,255,0)",
         "hoveron": "points",
         "hovertemplate": "Time window=%{x}<br>Trips per hour=%{y}<br>Route=%{name}<extra></extra>",
         "line": {
          "color": "rgba(255,255,255,0)"
         },
         "marker": {
          "color": "black",
          "size": 4
         },
         "name": "150 Columbia - Downtown/Harbor East",
         "pointpos": 0,
         "showlegend": false,
         "type": "box",
         "x": [
          "0:00-6:00",
          "6:00-9:00",
          "6:00-9:00",
          "15:00-19:00",
          "15:00-19:00",
          "19:00-24:00"
         ],
         "y": [
          0.16666666666666666,
          1,
          0.3333333333333333,
          0.25,
          0.75,
          0.2
         ]
        },
        {
         "boxmean": "sd",
         "boxpoints": "all",
         "fillcolor": "rgba(255,255,255,0)",
         "hoveron": "points",
         "hovertemplate": "Time window=%{x}<br>Trips per hour=%{y}<br>Route=%{name}<extra></extra>",
         "line": {
          "color": "rgba(255,255,255,0)"
         },
         "marker": {
          "color": "black",
          "size": 4
         },
         "name": "89 Rogers Ave - Owings Mills",
         "pointpos": 0,
         "showlegend": false,
         "type": "box",
         "x": [
          "0:00-6:00",
          "0:00-6:00",
          "0:00-6:00",
          "6:00-9:00",
          "6:00-9:00",
          "6:00-9:00",
          "6:00-9:00",
          "9:00-12:00",
          "9:00-12:00",
          "12:00-15:00",
          "12:00-15:00",
          "12:00-15:00",
          "15:00-19:00",
          "15:00-19:00",
          "15:00-19:00",
          "15:00-19:00",
          "19:00-24:00",
          "19:00-24:00"
         ],
         "y": [
          0.6666666666666666,
          0.5,
          0.16666666666666666,
          1.3333333333333333,
          1.6666666666666667,
          1,
          1.3333333333333333,
          2.6666666666666665,
          2.6666666666666665,
          3,
          2.3333333333333335,
          0.6666666666666666,
          1.5,
          1.5,
          2,
          1,
          2.4,
          2.4
         ]
        },
        {
         "boxmean": "sd",
         "boxpoints": "all",
         "fillcolor": "rgba(255,255,255,0)",
         "hoveron": "points",
         "hovertemplate": "Time window=%{x}<br>Trips per hour=%{y}<br>Route=%{name}<extra></extra>",
         "line": {
          "color": "rgba(255,255,255,0)"
         },
         "marker": {
          "color": "black",
          "size": 4
         },
         "name": "34 Falls Rd/Greenspring- Westview",
         "pointpos": 0,
         "showlegend": false,
         "type": "box",
         "x": [
          "0:00-6:00",
          "0:00-6:00",
          "6:00-9:00",
          "6:00-9:00",
          "6:00-9:00",
          "6:00-9:00",
          "9:00-12:00",
          "9:00-12:00",
          "12:00-15:00",
          "12:00-15:00",
          "15:00-19:00",
          "15:00-19:00",
          "15:00-19:00",
          "15:00-19:00",
          "19:00-24:00",
          "19:00-24:00"
         ],
         "y": [
          0.5,
          0.3333333333333333,
          1.3333333333333333,
          1,
          1.3333333333333333,
          1,
          2.3333333333333335,
          2.3333333333333335,
          2.3333333333333335,
          2.3333333333333335,
          0.5,
          0.5,
          1.75,
          1.75,
          2,
          2.2
         ]
        },
        {
         "boxmean": "sd",
         "boxpoints": "all",
         "fillcolor": "rgba(255,255,255,0)",
         "hoveron": "points",
         "hovertemplate": "Time window=%{x}<br>Trips per hour=%{y}<br>Route=%{name}<extra></extra>",
         "line": {
          "color": "rgba(255,255,255,0)"
         },
         "marker": {
          "color": "black",
          "size": 4
         },
         "name": "CityLink GOLD Walbrook Junction - Canton",
         "pointpos": 0,
         "showlegend": false,
         "type": "box",
         "x": [
          "0:00-6:00",
          "0:00-6:00",
          "0:00-6:00",
          "0:00-6:00",
          "6:00-9:00",
          "6:00-9:00",
          "6:00-9:00",
          "6:00-9:00",
          "6:00-9:00",
          "6:00-9:00",
          "9:00-12:00",
          "9:00-12:00",
          "9:00-12:00",
          "9:00-12:00",
          "12:00-15:00",
          "12:00-15:00",
          "12:00-15:00",
          "12:00-15:00",
          "12:00-15:00",
          "12:00-15:00",
          "12:00-15:00",
          "12:00-15:00",
          "15:00-19:00",
          "15:00-19:00",
          "15:00-19:00",
          "15:00-19:00",
          "15:00-19:00",
          "15:00-19:00",
          "19:00-24:00",
          "19:00-24:00",
          "19:00-24:00",
          "19:00-24:00"
         ],
         "y": [
          1.5,
          1.3333333333333333,
          1.5,
          1.6666666666666667,
          3.3333333333333335,
          5.333333333333333,
          3.3333333333333335,
          6.666666666666667,
          0.6666666666666666,
          0.3333333333333333,
          6.333333333333333,
          3.6666666666666665,
          6,
          4,
          0.6666666666666666,
          0.3333333333333333,
          0.3333333333333333,
          4,
          4,
          0.6666666666666666,
          6,
          6,
          4,
          5.5,
          3.75,
          0.25,
          0.25,
          5.5,
          2.2,
          2.4,
          2.2,
          2.4
         ]
        },
        {
         "boxmean": "sd",
         "boxpoints": "all",
         "fillcolor": "rgba(255,255,255,0)",
         "hoveron": "points",
         "hovertemplate": "Time window=%{x}<br>Trips per hour=%{y}<br>Route=%{name}<extra></extra>",
         "line": {
          "color": "rgba(255,255,255,0)"
         },
         "marker": {
          "color": "black",
          "size": 4
         },
         "name": "37 Old Court - UMBC/Catonsville",
         "pointpos": 0,
         "showlegend": false,
         "type": "box",
         "x": [
          "0:00-6:00",
          "0:00-6:00",
          "0:00-6:00",
          "0:00-6:00",
          "6:00-9:00",
          "6:00-9:00",
          "6:00-9:00",
          "6:00-9:00",
          "9:00-12:00",
          "9:00-12:00",
          "9:00-12:00",
          "9:00-12:00",
          "12:00-15:00",
          "12:00-15:00",
          "12:00-15:00",
          "12:00-15:00",
          "15:00-19:00",
          "15:00-19:00",
          "15:00-19:00",
          "15:00-19:00",
          "19:00-24:00",
          "19:00-24:00",
          "19:00-24:00",
          "19:00-24:00"
         ],
         "y": [
          0.3333333333333333,
          0.5,
          0.6666666666666666,
          0.5,
          2,
          2,
          2,
          2,
          2.3333333333333335,
          2.6666666666666665,
          2.3333333333333335,
          2.3333333333333335,
          2.3333333333333335,
          2.3333333333333335,
          2.6666666666666665,
          2.3333333333333335,
          2.5,
          2,
          2,
          2.25,
          1,
          1.2,
          1.4,
          1.2
         ]
        },
        {
         "boxmean": "sd",
         "boxpoints": "all",
         "fillcolor": "rgba(255,255,255,0)",
         "hoveron": "points",
         "hovertemplate": "Time window=%{x}<br>Trips per hour=%{y}<br>Route=%{name}<extra></extra>",
         "line": {
          "color": "rgba(255,255,255,0)"
         },
         "marker": {
          "color": "black",
          "size": 4
         },
         "name": "94 Fort McHenry - Sinai Hospital",
         "pointpos": 0,
         "showlegend": false,
         "type": "box",
         "x": [
          "0:00-6:00",
          "0:00-6:00",
          "6:00-9:00",
          "6:00-9:00",
          "6:00-9:00",
          "9:00-12:00",
          "9:00-12:00",
          "12:00-15:00",
          "12:00-15:00",
          "12:00-15:00",
          "12:00-15:00",
          "15:00-19:00",
          "15:00-19:00",
          "15:00-19:00",
          "19:00-24:00",
          "19:00-24:00"
         ],
         "y": [
          1.3333333333333333,
          1.6666666666666667,
          2.6666666666666665,
          2.6666666666666665,
          0.6666666666666666,
          2.6666666666666665,
          3,
          3,
          0.3333333333333333,
          0.3333333333333333,
          3,
          3,
          0.5,
          3,
          2.4,
          2.2
         ]
        },
        {
         "boxmean": "sd",
         "boxpoints": "all",
         "fillcolor": "rgba(255,255,255,0)",
         "hoveron": "points",
         "hovertemplate": "Time window=%{x}<br>Trips per hour=%{y}<br>Route=%{name}<extra></extra>",
         "line": {
          "color": "rgba(255,255,255,0)"
         },
         "marker": {
          "color": "black",
          "size": 4
         },
         "name": "51 Towson - Downtown",
         "pointpos": 0,
         "showlegend": false,
         "type": "box",
         "x": [
          "0:00-6:00",
          "0:00-6:00",
          "6:00-9:00",
          "6:00-9:00",
          "9:00-12:00",
          "9:00-12:00",
          "12:00-15:00",
          "12:00-15:00",
          "15:00-19:00",
          "15:00-19:00",
          "19:00-24:00",
          "19:00-24:00"
         ],
         "y": [
          0.5,
          0.5,
          3,
          3,
          2.3333333333333335,
          2.3333333333333335,
          2.6666666666666665,
          2.6666666666666665,
          3.5,
          3.25,
          2.4,
          2.2
         ]
        },
        {
         "boxmean": "sd",
         "boxpoints": "all",
         "fillcolor": "rgba(255,255,255,0)",
         "hoveron": "points",
         "hovertemplate": "Time window=%{x}<br>Trips per hour=%{y}<br>Route=%{name}<extra></extra>",
         "line": {
          "color": "rgba(255,255,255,0)"
         },
         "marker": {
          "color": "black",
          "size": 4
         },
         "name": "54 State Center - Carney/Hillendale",
         "pointpos": 0,
         "showlegend": false,
         "type": "box",
         "x": [
          "0:00-6:00",
          "0:00-6:00",
          "0:00-6:00",
          "0:00-6:00",
          "6:00-9:00",
          "6:00-9:00",
          "6:00-9:00",
          "6:00-9:00",
          "6:00-9:00",
          "6:00-9:00",
          "6:00-9:00",
          "9:00-12:00",
          "9:00-12:00",
          "9:00-12:00",
          "9:00-12:00",
          "12:00-15:00",
          "12:00-15:00",
          "12:00-15:00",
          "12:00-15:00",
          "12:00-15:00",
          "15:00-19:00",
          "15:00-19:00",
          "15:00-19:00",
          "15:00-19:00",
          "15:00-19:00",
          "15:00-19:00",
          "15:00-19:00",
          "15:00-19:00",
          "19:00-24:00",
          "19:00-24:00",
          "19:00-24:00",
          "19:00-24:00"
         ],
         "y": [
          1.5,
          1.1666666666666667,
          1.5,
          1.6666666666666667,
          3,
          2.6666666666666665,
          0.3333333333333333,
          3,
          0.3333333333333333,
          0.3333333333333333,
          3,
          3,
          3,
          3,
          3,
          3,
          0.3333333333333333,
          3,
          3,
          3,
          2.75,
          0.25,
          2.75,
          2.75,
          0.25,
          0.25,
          2.5,
          0.25,
          2,
          2,
          2,
          2
         ]
        },
        {
         "boxmean": "sd",
         "boxpoints": "all",
         "fillcolor": "rgba(255,255,255,0)",
         "hoveron": "points",
         "hovertemplate": "Time window=%{x}<br>Trips per hour=%{y}<br>Route=%{name}<extra></extra>",
         "line": {
          "color": "rgba(255,255,255,0)"
         },
         "marker": {
          "color": "black",
          "size": 4
         },
         "name": "75 Patapsco Station - Arundel Mills",
         "pointpos": 0,
         "showlegend": false,
         "type": "box",
         "x": [
          "0:00-6:00",
          "0:00-6:00",
          "0:00-6:00",
          "0:00-6:00",
          "6:00-9:00",
          "6:00-9:00",
          "6:00-9:00",
          "6:00-9:00",
          "9:00-12:00",
          "9:00-12:00",
          "9:00-12:00",
          "12:00-15:00",
          "12:00-15:00",
          "15:00-19:00",
          "15:00-19:00",
          "19:00-24:00",
          "19:00-24:00",
          "19:00-24:00",
          "19:00-24:00"
         ],
         "y": [
          0.5,
          2,
          2,
          0.5,
          1,
          1.3333333333333333,
          1.6666666666666667,
          1.6666666666666667,
          2,
          2,
          0.3333333333333333,
          3.3333333333333335,
          2.6666666666666665,
          2.75,
          3,
          1.4,
          0.8,
          0.8,
          1.4
         ]
        },
        {
         "boxmean": "sd",
         "boxpoints": "all",
         "fillcolor": "rgba(255,255,255,0)",
         "hoveron": "points",
         "hovertemplate": "Time window=%{x}<br>Trips per hour=%{y}<br>Route=%{name}<extra></extra>",
         "line": {
          "color": "rgba(255,255,255,0)"
         },
         "marker": {
          "color": "black",
          "size": 4
         },
         "name": "95 Downtown - Roland Park",
         "pointpos": 0,
         "showlegend": false,
         "type": "box",
         "x": [
          "0:00-6:00",
          "0:00-6:00",
          "6:00-9:00",
          "6:00-9:00",
          "6:00-9:00",
          "12:00-15:00",
          "15:00-19:00",
          "15:00-19:00",
          "19:00-24:00",
          "19:00-24:00"
         ],
         "y": [
          0.16666666666666666,
          0.3333333333333333,
          2,
          2,
          0.3333333333333333,
          0.3333333333333333,
          2,
          1.75,
          0.2,
          0.2
         ]
        },
        {
         "boxmean": "sd",
         "boxpoints": "all",
         "fillcolor": "rgba(255,255,255,0)",
         "hoveron": "points",
         "hovertemplate": "Time window=%{x}<br>Trips per hour=%{y}<br>Route=%{name}<extra></extra>",
         "line": {
          "color": "rgba(255,255,255,0)"
         },
         "marker": {
          "color": "black",
          "size": 4
         },
         "name": "CityLink BLUE CMS - Johns Hopkins Bayview",
         "pointpos": 0,
         "showlegend": false,
         "type": "box",
         "x": [
          "0:00-6:00",
          "0:00-6:00",
          "0:00-6:00",
          "0:00-6:00",
          "6:00-9:00",
          "6:00-9:00",
          "6:00-9:00",
          "6:00-9:00",
          "6:00-9:00",
          "9:00-12:00",
          "9:00-12:00",
          "9:00-12:00",
          "9:00-12:00",
          "12:00-15:00",
          "12:00-15:00",
          "12:00-15:00",
          "12:00-15:00",
          "12:00-15:00",
          "12:00-15:00",
          "15:00-19:00",
          "15:00-19:00",
          "15:00-19:00",
          "15:00-19:00",
          "15:00-19:00",
          "19:00-24:00",
          "19:00-24:00",
          "19:00-24:00",
          "19:00-24:00"
         ],
         "y": [
          1.1666666666666667,
          1.6666666666666667,
          1,
          1.5,
          0.3333333333333333,
          5,
          1.3333333333333333,
          4.333333333333333,
          1,
          2,
          6,
          5.666666666666667,
          2,
          6.333333333333333,
          0.3333333333333333,
          6,
          2,
          0.3333333333333333,
          2,
          0.25,
          5.75,
          1.75,
          5.75,
          2,
          1.2,
          2.8,
          2.6,
          1.4
         ]
        },
        {
         "boxmean": "sd",
         "boxpoints": "all",
         "fillcolor": "rgba(255,255,255,0)",
         "hoveron": "points",
         "hovertemplate": "Time window=%{x}<br>Trips per hour=%{y}<br>Route=%{name}<extra></extra>",
         "line": {
          "color": "rgba(255,255,255,0)"
         },
         "marker": {
          "color": "black",
          "size": 4
         },
         "name": "53 State Center - Towson",
         "pointpos": 0,
         "showlegend": false,
         "type": "box",
         "x": [
          "0:00-6:00",
          "0:00-6:00",
          "0:00-6:00",
          "0:00-6:00",
          "6:00-9:00",
          "6:00-9:00",
          "6:00-9:00",
          "6:00-9:00",
          "6:00-9:00",
          "6:00-9:00",
          "9:00-12:00",
          "9:00-12:00",
          "9:00-12:00",
          "9:00-12:00",
          "12:00-15:00",
          "12:00-15:00",
          "12:00-15:00",
          "12:00-15:00",
          "12:00-15:00",
          "12:00-15:00",
          "12:00-15:00",
          "15:00-19:00",
          "15:00-19:00",
          "15:00-19:00",
          "15:00-19:00",
          "15:00-19:00",
          "19:00-24:00",
          "19:00-24:00",
          "19:00-24:00",
          "19:00-24:00"
         ],
         "y": [
          0.8333333333333334,
          1,
          0.6666666666666666,
          0.8333333333333334,
          3,
          3,
          0.3333333333333333,
          0.3333333333333333,
          2.6666666666666665,
          3,
          2,
          2,
          2,
          1.6666666666666667,
          2,
          2.3333333333333335,
          2.6666666666666665,
          2.3333333333333335,
          0.6666666666666666,
          0.6666666666666666,
          0.3333333333333333,
          2.5,
          0.25,
          2.75,
          2.5,
          2.75,
          1.4,
          1.8,
          2,
          1.8
         ]
        },
        {
         "boxmean": "sd",
         "boxpoints": "all",
         "fillcolor": "rgba(255,255,255,0)",
         "hoveron": "points",
         "hovertemplate": "Time window=%{x}<br>Trips per hour=%{y}<br>Route=%{name}<extra></extra>",
         "line": {
          "color": "rgba(255,255,255,0)"
         },
         "marker": {
          "color": "black",
          "size": 4
         },
         "name": "115 Downtown - Perry Hall",
         "pointpos": 0,
         "showlegend": false,
         "type": "box",
         "x": [
          "0:00-6:00",
          "6:00-9:00",
          "6:00-9:00",
          "15:00-19:00",
          "15:00-19:00"
         ],
         "y": [
          0.16666666666666666,
          1,
          1.3333333333333333,
          1,
          1
         ]
        },
        {
         "boxmean": "sd",
         "boxpoints": "all",
         "fillcolor": "rgba(255,255,255,0)",
         "hoveron": "points",
         "hovertemplate": "Time window=%{x}<br>Trips per hour=%{y}<br>Route=%{name}<extra></extra>",
         "line": {
          "color": "rgba(255,255,255,0)"
         },
         "marker": {
          "color": "black",
          "size": 4
         },
         "name": "93 Towson - Hunt Valley",
         "pointpos": 0,
         "showlegend": false,
         "type": "box",
         "x": [
          "0:00-6:00",
          "0:00-6:00",
          "6:00-9:00",
          "6:00-9:00",
          "9:00-12:00",
          "9:00-12:00",
          "12:00-15:00",
          "12:00-15:00",
          "15:00-19:00",
          "15:00-19:00",
          "19:00-24:00",
          "19:00-24:00"
         ],
         "y": [
          0.5,
          0.6666666666666666,
          3.3333333333333335,
          3,
          2.3333333333333335,
          2.6666666666666665,
          2.6666666666666665,
          2.3333333333333335,
          2.75,
          3.25,
          2.4,
          2.4
         ]
        },
        {
         "boxmean": "sd",
         "boxpoints": "all",
         "fillcolor": "rgba(255,255,255,0)",
         "hoveron": "points",
         "hovertemplate": "Time window=%{x}<br>Trips per hour=%{y}<br>Route=%{name}<extra></extra>",
         "line": {
          "color": "rgba(255,255,255,0)"
         },
         "marker": {
          "color": "black",
          "size": 4
         },
         "name": "CityLink LIME NW Hospital - Harbor East",
         "pointpos": 0,
         "showlegend": false,
         "type": "box",
         "x": [
          "0:00-6:00",
          "0:00-6:00",
          "0:00-6:00",
          "0:00-6:00",
          "6:00-9:00",
          "6:00-9:00",
          "6:00-9:00",
          "6:00-9:00",
          "9:00-12:00",
          "9:00-12:00",
          "9:00-12:00",
          "9:00-12:00",
          "12:00-15:00",
          "12:00-15:00",
          "12:00-15:00",
          "12:00-15:00",
          "15:00-19:00",
          "15:00-19:00",
          "15:00-19:00",
          "15:00-19:00",
          "19:00-24:00",
          "19:00-24:00",
          "19:00-24:00",
          "19:00-24:00"
         ],
         "y": [
          1,
          1.6666666666666667,
          0.8333333333333334,
          1.6666666666666667,
          4,
          4,
          3.6666666666666665,
          3.3333333333333335,
          4.666666666666667,
          3.3333333333333335,
          4.333333333333333,
          3,
          3.3333333333333335,
          3.3333333333333335,
          5.333333333333333,
          4.666666666666667,
          4,
          3.5,
          3.75,
          3.75,
          2.2,
          2.6,
          2.2,
          2.2
         ]
        },
        {
         "boxmean": "sd",
         "boxpoints": "all",
         "fillcolor": "rgba(255,255,255,0)",
         "hoveron": "points",
         "hovertemplate": "Time window=%{x}<br>Trips per hour=%{y}<br>Route=%{name}<extra></extra>",
         "line": {
          "color": "rgba(255,255,255,0)"
         },
         "marker": {
          "color": "black",
          "size": 4
         },
         "name": "59 Moravia - Whispering Woods",
         "pointpos": 0,
         "showlegend": false,
         "type": "box",
         "x": [
          "0:00-6:00",
          "0:00-6:00",
          "6:00-9:00",
          "6:00-9:00",
          "6:00-9:00",
          "9:00-12:00",
          "9:00-12:00",
          "12:00-15:00",
          "12:00-15:00",
          "12:00-15:00",
          "15:00-19:00",
          "15:00-19:00",
          "19:00-24:00",
          "19:00-24:00"
         ],
         "y": [
          0.16666666666666666,
          0.16666666666666666,
          2,
          0.6666666666666666,
          2,
          2.3333333333333335,
          2,
          2,
          2,
          1,
          1.75,
          2.25,
          2,
          2
         ]
        },
        {
         "boxmean": "sd",
         "boxpoints": "all",
         "fillcolor": "rgba(255,255,255,0)",
         "hoveron": "points",
         "hovertemplate": "Time window=%{x}<br>Trips per hour=%{y}<br>Route=%{name}<extra></extra>",
         "line": {
          "color": "rgba(255,255,255,0)"
         },
         "marker": {
          "color": "black",
          "size": 4
         },
         "name": "91 Mondawmin - Sinai Hospital",
         "pointpos": 0,
         "showlegend": false,
         "type": "box",
         "x": [
          "0:00-6:00",
          "0:00-6:00",
          "6:00-9:00",
          "6:00-9:00",
          "9:00-12:00",
          "9:00-12:00",
          "12:00-15:00",
          "12:00-15:00",
          "15:00-19:00",
          "15:00-19:00",
          "19:00-24:00",
          "19:00-24:00"
         ],
         "y": [
          1.3333333333333333,
          1.1666666666666667,
          3,
          2.6666666666666665,
          3,
          3,
          2.6666666666666665,
          2.6666666666666665,
          2.75,
          3,
          2.6,
          2.8
         ]
        },
        {
         "boxmean": "sd",
         "boxpoints": "all",
         "fillcolor": "rgba(255,255,255,0)",
         "hoveron": "points",
         "hovertemplate": "Time window=%{x}<br>Trips per hour=%{y}<br>Route=%{name}<extra></extra>",
         "line": {
          "color": "rgba(255,255,255,0)"
         },
         "marker": {
          "color": "black",
          "size": 4
         },
         "name": "36 Towson Town Center - Fox Ridge",
         "pointpos": 0,
         "showlegend": false,
         "type": "box",
         "x": [
          "0:00-6:00",
          "0:00-6:00",
          "6:00-9:00",
          "6:00-9:00",
          "9:00-12:00",
          "9:00-12:00",
          "12:00-15:00",
          "12:00-15:00",
          "15:00-19:00",
          "15:00-19:00",
          "19:00-24:00",
          "19:00-24:00"
         ],
         "y": [
          0.3333333333333333,
          0.5,
          3,
          3,
          2,
          2,
          2.6666666666666665,
          2.6666666666666665,
          2.5,
          2.75,
          1.8,
          2
         ]
        },
        {
         "boxmean": "sd",
         "boxpoints": "all",
         "fillcolor": "rgba(255,255,255,0)",
         "hoveron": "points",
         "hovertemplate": "Time window=%{x}<br>Trips per hour=%{y}<br>Route=%{name}<extra></extra>",
         "line": {
          "color": "rgba(255,255,255,0)"
         },
         "marker": {
          "color": "black",
          "size": 4
         },
         "name": "CityLink GREEN Downtown - Towson",
         "pointpos": 0,
         "showlegend": false,
         "type": "box",
         "x": [
          "0:00-6:00",
          "0:00-6:00",
          "6:00-9:00",
          "6:00-9:00",
          "6:00-9:00",
          "9:00-12:00",
          "9:00-12:00",
          "12:00-15:00",
          "12:00-15:00",
          "12:00-15:00",
          "12:00-15:00",
          "12:00-15:00",
          "12:00-15:00",
          "15:00-19:00",
          "15:00-19:00",
          "19:00-24:00",
          "19:00-24:00"
         ],
         "y": [
          2,
          2.1666666666666665,
          5.333333333333333,
          0.3333333333333333,
          5,
          7,
          7,
          0.3333333333333333,
          7,
          7,
          0.3333333333333333,
          0.3333333333333333,
          0.3333333333333333,
          6.25,
          6.25,
          3.2,
          3.2
         ]
        },
        {
         "boxmean": "sd",
         "boxpoints": "all",
         "fillcolor": "rgba(255,255,255,0)",
         "hoveron": "points",
         "hovertemplate": "Time window=%{x}<br>Trips per hour=%{y}<br>Route=%{name}<extra></extra>",
         "line": {
          "color": "rgba(255,255,255,0)"
         },
         "marker": {
          "color": "black",
          "size": 4
         },
         "name": "56 Downtown - White Marsh",
         "pointpos": 0,
         "showlegend": false,
         "type": "box",
         "x": [
          "0:00-6:00",
          "6:00-9:00",
          "9:00-12:00",
          "12:00-15:00",
          "15:00-19:00",
          "19:00-24:00"
         ],
         "y": [
          1.8333333333333333,
          5,
          4.333333333333333,
          5.333333333333333,
          5,
          2.8
         ]
        },
        {
         "boxmean": "sd",
         "boxpoints": "all",
         "fillcolor": "rgba(255,255,255,0)",
         "hoveron": "points",
         "hovertemplate": "Time window=%{x}<br>Trips per hour=%{y}<br>Route=%{name}<extra></extra>",
         "line": {
          "color": "rgba(255,255,255,0)"
         },
         "marker": {
          "color": "black",
          "size": 4
         },
         "name": "73 State Center - Patapsco Station",
         "pointpos": 0,
         "showlegend": false,
         "type": "box",
         "x": [
          "0:00-6:00",
          "0:00-6:00",
          "6:00-9:00",
          "6:00-9:00",
          "9:00-12:00",
          "9:00-12:00",
          "12:00-15:00",
          "12:00-15:00",
          "15:00-19:00",
          "15:00-19:00",
          "19:00-24:00",
          "19:00-24:00"
         ],
         "y": [
          1.3333333333333333,
          1.5,
          3.3333333333333335,
          3.3333333333333335,
          2.6666666666666665,
          2.6666666666666665,
          2.6666666666666665,
          3,
          2.75,
          3.25,
          2.4,
          2.6
         ]
        },
        {
         "boxmean": "sd",
         "boxpoints": "all",
         "fillcolor": "rgba(255,255,255,0)",
         "hoveron": "points",
         "hovertemplate": "Time window=%{x}<br>Trips per hour=%{y}<br>Route=%{name}<extra></extra>",
         "line": {
          "color": "rgba(255,255,255,0)"
         },
         "marker": {
          "color": "black",
          "size": 4
         },
         "name": "78 Downtown - CMS",
         "pointpos": 0,
         "showlegend": false,
         "type": "box",
         "x": [
          "0:00-6:00",
          "0:00-6:00",
          "6:00-9:00",
          "6:00-9:00",
          "9:00-12:00",
          "9:00-12:00",
          "12:00-15:00",
          "12:00-15:00",
          "12:00-15:00",
          "15:00-19:00",
          "15:00-19:00",
          "19:00-24:00",
          "19:00-24:00"
         ],
         "y": [
          1.3333333333333333,
          1.5,
          5.333333333333333,
          6,
          5,
          5,
          5.333333333333333,
          5,
          0.3333333333333333,
          5.5,
          5.75,
          3,
          3.4
         ]
        },
        {
         "boxmean": "sd",
         "boxpoints": "all",
         "fillcolor": "rgba(255,255,255,0)",
         "hoveron": "points",
         "hovertemplate": "Time window=%{x}<br>Trips per hour=%{y}<br>Route=%{name}<extra></extra>",
         "line": {
          "color": "rgba(255,255,255,0)"
         },
         "marker": {
          "color": "black",
          "size": 4
         },
         "name": "CityLink SILVER Curtis Bay - Hopkins/Morgan State",
         "pointpos": 0,
         "showlegend": false,
         "type": "box",
         "x": [
          "0:00-6:00",
          "0:00-6:00",
          "0:00-6:00",
          "0:00-6:00",
          "6:00-9:00",
          "6:00-9:00",
          "6:00-9:00",
          "6:00-9:00",
          "6:00-9:00",
          "9:00-12:00",
          "9:00-12:00",
          "9:00-12:00",
          "9:00-12:00",
          "12:00-15:00",
          "12:00-15:00",
          "12:00-15:00",
          "12:00-15:00",
          "12:00-15:00",
          "12:00-15:00",
          "12:00-15:00",
          "15:00-19:00",
          "15:00-19:00",
          "15:00-19:00",
          "15:00-19:00",
          "19:00-24:00",
          "19:00-24:00",
          "19:00-24:00",
          "19:00-24:00"
         ],
         "y": [
          1.5,
          0.8333333333333334,
          1.5,
          1,
          3.3333333333333335,
          4,
          4,
          3.3333333333333335,
          0.3333333333333333,
          3.3333333333333335,
          3.6666666666666665,
          3.6666666666666665,
          3.6666666666666665,
          0.3333333333333333,
          3.3333333333333335,
          3.3333333333333335,
          4,
          0.6666666666666666,
          0.3333333333333333,
          3.3333333333333335,
          3.75,
          4,
          3.75,
          4,
          2.6,
          2.2,
          2.8,
          1.8
         ]
        },
        {
         "boxmean": "sd",
         "boxpoints": "all",
         "fillcolor": "rgba(255,255,255,0)",
         "hoveron": "points",
         "hovertemplate": "Time window=%{x}<br>Trips per hour=%{y}<br>Route=%{name}<extra></extra>",
         "line": {
          "color": "rgba(255,255,255,0)"
         },
         "marker": {
          "color": "black",
          "size": 4
         },
         "name": "76 CCBC - Downtown",
         "pointpos": 0,
         "showlegend": false,
         "type": "box",
         "x": [
          "0:00-6:00",
          "0:00-6:00",
          "0:00-6:00",
          "0:00-6:00",
          "6:00-9:00",
          "6:00-9:00",
          "6:00-9:00",
          "6:00-9:00",
          "9:00-12:00",
          "9:00-12:00",
          "12:00-15:00",
          "12:00-15:00",
          "12:00-15:00",
          "12:00-15:00",
          "15:00-19:00",
          "15:00-19:00",
          "15:00-19:00",
          "15:00-19:00",
          "19:00-24:00",
          "19:00-24:00",
          "19:00-24:00",
          "19:00-24:00"
         ],
         "y": [
          0.5,
          1.1666666666666667,
          0.5,
          1.1666666666666667,
          2.6666666666666665,
          3.3333333333333335,
          1,
          1.3333333333333333,
          4,
          3.6666666666666665,
          3.6666666666666665,
          0.6666666666666666,
          3,
          0.6666666666666666,
          1,
          3.25,
          1,
          3.25,
          2.2,
          2.8,
          0.8,
          0.4
         ]
        },
        {
         "boxmean": "sd",
         "boxpoints": "all",
         "fillcolor": "rgba(255,255,255,0)",
         "hoveron": "points",
         "hovertemplate": "Time window=%{x}<br>Trips per hour=%{y}<br>Route=%{name}<extra></extra>",
         "line": {
          "color": "rgba(255,255,255,0)"
         },
         "marker": {
          "color": "black",
          "size": 4
         },
         "name": "70 Patapsco Station - Annapolis",
         "pointpos": 0,
         "showlegend": false,
         "type": "box",
         "x": [
          "0:00-6:00",
          "0:00-6:00",
          "0:00-6:00",
          "0:00-6:00",
          "0:00-6:00",
          "0:00-6:00",
          "6:00-9:00",
          "6:00-9:00",
          "6:00-9:00",
          "6:00-9:00",
          "9:00-12:00",
          "9:00-12:00",
          "12:00-15:00",
          "12:00-15:00",
          "15:00-19:00",
          "15:00-19:00",
          "19:00-24:00",
          "19:00-24:00",
          "19:00-24:00",
          "19:00-24:00",
          "19:00-24:00"
         ],
         "y": [
          0.3333333333333333,
          0.16666666666666666,
          0.3333333333333333,
          0.16666666666666666,
          0.16666666666666666,
          0.16666666666666666,
          1,
          0.6666666666666666,
          1,
          0.6666666666666666,
          2,
          1.6666666666666667,
          2,
          2,
          2,
          1.75,
          0.6,
          0.4,
          0.6,
          0.6,
          1
         ]
        },
        {
         "boxmean": "sd",
         "boxpoints": "all",
         "fillcolor": "rgba(255,255,255,0)",
         "hoveron": "points",
         "hovertemplate": "Time window=%{x}<br>Trips per hour=%{y}<br>Route=%{name}<extra></extra>",
         "line": {
          "color": "rgba(255,255,255,0)"
         },
         "marker": {
          "color": "black",
          "size": 4
         },
         "name": "163 West Baltimore MARC - Tradepoint",
         "pointpos": 0,
         "showlegend": false,
         "type": "box",
         "x": [
          "0:00-6:00",
          "0:00-6:00",
          "6:00-9:00",
          "6:00-9:00",
          "9:00-12:00",
          "9:00-12:00",
          "12:00-15:00",
          "12:00-15:00",
          "15:00-19:00",
          "15:00-19:00",
          "19:00-24:00",
          "19:00-24:00"
         ],
         "y": [
          3,
          2.6666666666666665,
          5.333333333333333,
          4.666666666666667,
          2.3333333333333335,
          2.3333333333333335,
          2,
          2.6666666666666665,
          6,
          6,
          2.4,
          2
         ]
        },
        {
         "boxmean": "sd",
         "boxpoints": "all",
         "fillcolor": "rgba(255,255,255,0)",
         "hoveron": "points",
         "hovertemplate": "Time window=%{x}<br>Trips per hour=%{y}<br>Route=%{name}<extra></extra>",
         "line": {
          "color": "rgba(255,255,255,0)"
         },
         "marker": {
          "color": "black",
          "size": 4
         },
         "name": "79 Mondawmin - CMS",
         "pointpos": 0,
         "showlegend": false,
         "type": "box",
         "x": [
          "0:00-6:00",
          "0:00-6:00",
          "6:00-9:00",
          "6:00-9:00",
          "9:00-12:00",
          "9:00-12:00",
          "12:00-15:00",
          "12:00-15:00",
          "15:00-19:00",
          "15:00-19:00",
          "19:00-24:00",
          "19:00-24:00"
         ],
         "y": [
          0.3333333333333333,
          0.3333333333333333,
          3.3333333333333335,
          3.3333333333333335,
          2.3333333333333335,
          2.3333333333333335,
          2.6666666666666665,
          2.6666666666666665,
          3,
          3,
          2.4,
          2.4
         ]
        },
        {
         "boxmean": "sd",
         "boxpoints": "all",
         "fillcolor": "rgba(255,255,255,0)",
         "hoveron": "points",
         "hovertemplate": "Time window=%{x}<br>Trips per hour=%{y}<br>Route=%{name}<extra></extra>",
         "line": {
          "color": "rgba(255,255,255,0)"
         },
         "marker": {
          "color": "black",
          "size": 4
         },
         "name": "CityLink YELLOW Mondawmin - Patapsco",
         "pointpos": 0,
         "showlegend": false,
         "type": "box",
         "x": [
          "0:00-6:00",
          "0:00-6:00",
          "0:00-6:00",
          "0:00-6:00",
          "0:00-6:00",
          "6:00-9:00",
          "6:00-9:00",
          "6:00-9:00",
          "6:00-9:00",
          "6:00-9:00",
          "6:00-9:00",
          "9:00-12:00",
          "9:00-12:00",
          "9:00-12:00",
          "9:00-12:00",
          "9:00-12:00",
          "12:00-15:00",
          "12:00-15:00",
          "12:00-15:00",
          "12:00-15:00",
          "15:00-19:00",
          "15:00-19:00",
          "15:00-19:00",
          "15:00-19:00",
          "19:00-24:00",
          "19:00-24:00",
          "19:00-24:00",
          "19:00-24:00",
          "19:00-24:00",
          "19:00-24:00"
         ],
         "y": [
          0.16666666666666666,
          2.1666666666666665,
          2,
          0.3333333333333333,
          0.16666666666666666,
          2.3333333333333335,
          3,
          2,
          1.3333333333333333,
          3,
          2.3333333333333335,
          4,
          0.3333333333333333,
          3,
          3,
          3.6666666666666665,
          3.6666666666666665,
          3.6666666666666665,
          3.6666666666666665,
          3.6666666666666665,
          3.75,
          3.75,
          3.25,
          4,
          1.8,
          1.6,
          1.6,
          1.2,
          0.8,
          1
         ]
        },
        {
         "boxmean": "sd",
         "boxpoints": "all",
         "fillcolor": "rgba(255,255,255,0)",
         "hoveron": "points",
         "hovertemplate": "Time window=%{x}<br>Trips per hour=%{y}<br>Route=%{name}<extra></extra>",
         "line": {
          "color": "rgba(255,255,255,0)"
         },
         "marker": {
          "color": "black",
          "size": 4
         },
         "name": "32 Catonsville - Patapsco Station",
         "pointpos": 0,
         "showlegend": false,
         "type": "box",
         "x": [
          "0:00-6:00",
          "0:00-6:00",
          "6:00-9:00",
          "6:00-9:00",
          "9:00-12:00",
          "9:00-12:00",
          "12:00-15:00",
          "12:00-15:00",
          "15:00-19:00",
          "15:00-19:00",
          "19:00-24:00",
          "19:00-24:00"
         ],
         "y": [
          0.3333333333333333,
          0.3333333333333333,
          2.6666666666666665,
          2.6666666666666665,
          2.6666666666666665,
          3,
          2.6666666666666665,
          2.6666666666666665,
          2.75,
          2.5,
          2.2,
          2.2
         ]
        },
        {
         "boxmean": "sd",
         "boxpoints": "all",
         "fillcolor": "rgba(255,255,255,0)",
         "hoveron": "points",
         "hovertemplate": "Time window=%{x}<br>Trips per hour=%{y}<br>Route=%{name}<extra></extra>",
         "line": {
          "color": "rgba(255,255,255,0)"
         },
         "marker": {
          "color": "black",
          "size": 4
         },
         "name": "28 Moravia - Rogers Ave Station",
         "pointpos": 0,
         "showlegend": false,
         "type": "box",
         "x": [
          "0:00-6:00",
          "0:00-6:00",
          "6:00-9:00",
          "6:00-9:00",
          "6:00-9:00",
          "6:00-9:00",
          "9:00-12:00",
          "9:00-12:00",
          "12:00-15:00",
          "12:00-15:00",
          "12:00-15:00",
          "12:00-15:00",
          "12:00-15:00",
          "15:00-19:00",
          "15:00-19:00",
          "19:00-24:00",
          "19:00-24:00"
         ],
         "y": [
          0.5,
          0.6666666666666666,
          4.666666666666667,
          0.6666666666666666,
          4.333333333333333,
          1,
          3,
          3,
          0.6666666666666666,
          3,
          3,
          0.6666666666666666,
          0.3333333333333333,
          4.75,
          4.75,
          2.8,
          2.8
         ]
        },
        {
         "boxmean": "sd",
         "boxpoints": "all",
         "fillcolor": "rgba(255,255,255,0)",
         "hoveron": "points",
         "hovertemplate": "Time window=%{x}<br>Trips per hour=%{y}<br>Route=%{name}<extra></extra>",
         "line": {
          "color": "rgba(255,255,255,0)"
         },
         "marker": {
          "color": "black",
          "size": 4
         },
         "name": "26 Patapsco Station - Mondawmin",
         "pointpos": 0,
         "showlegend": false,
         "type": "box",
         "x": [
          "0:00-6:00",
          "0:00-6:00",
          "6:00-9:00",
          "6:00-9:00",
          "6:00-9:00",
          "9:00-12:00",
          "9:00-12:00",
          "12:00-15:00",
          "12:00-15:00",
          "12:00-15:00",
          "12:00-15:00",
          "15:00-19:00",
          "15:00-19:00",
          "19:00-24:00",
          "19:00-24:00"
         ],
         "y": [
          1.3333333333333333,
          1.5,
          5.333333333333333,
          5,
          0.3333333333333333,
          5.666666666666667,
          6,
          5.666666666666667,
          0.3333333333333333,
          5.666666666666667,
          0.3333333333333333,
          5.5,
          5.25,
          3,
          3.2
         ]
        },
        {
         "boxmean": "sd",
         "boxpoints": "all",
         "fillcolor": "rgba(255,255,255,0)",
         "hoveron": "points",
         "hovertemplate": "Time window=%{x}<br>Trips per hour=%{y}<br>Route=%{name}<extra></extra>",
         "line": {
          "color": "rgba(255,255,255,0)"
         },
         "marker": {
          "color": "black",
          "size": 4
         },
         "name": "22 Mondawmin - Bayview",
         "pointpos": 0,
         "showlegend": false,
         "type": "box",
         "x": [
          "0:00-6:00",
          "0:00-6:00",
          "6:00-9:00",
          "6:00-9:00",
          "6:00-9:00",
          "6:00-9:00",
          "6:00-9:00",
          "6:00-9:00",
          "9:00-12:00",
          "9:00-12:00",
          "12:00-15:00",
          "12:00-15:00",
          "12:00-15:00",
          "12:00-15:00",
          "12:00-15:00",
          "12:00-15:00",
          "12:00-15:00",
          "12:00-15:00",
          "12:00-15:00",
          "12:00-15:00",
          "15:00-19:00",
          "15:00-19:00",
          "15:00-19:00",
          "15:00-19:00",
          "15:00-19:00",
          "19:00-24:00",
          "19:00-24:00"
         ],
         "y": [
          2.1666666666666665,
          2.3333333333333335,
          1,
          7.333333333333333,
          0.6666666666666666,
          0.6666666666666666,
          0.3333333333333333,
          7,
          5.666666666666667,
          5.666666666666667,
          6,
          0.3333333333333333,
          0.6666666666666666,
          0.6666666666666666,
          0.3333333333333333,
          6,
          0.3333333333333333,
          1,
          1,
          0.3333333333333333,
          7.25,
          0.25,
          0.25,
          0.25,
          7.25,
          3.6,
          3.4
         ]
        },
        {
         "boxmean": "sd",
         "boxpoints": "all",
         "fillcolor": "rgba(255,255,255,0)",
         "hoveron": "points",
         "hovertemplate": "Time window=%{x}<br>Trips per hour=%{y}<br>Route=%{name}<extra></extra>",
         "line": {
          "color": "rgba(255,255,255,0)"
         },
         "marker": {
          "color": "black",
          "size": 4
         },
         "name": "77 West Baltimore MARC - Catonsville",
         "pointpos": 0,
         "showlegend": false,
         "type": "box",
         "x": [
          "0:00-6:00",
          "0:00-6:00",
          "6:00-9:00",
          "6:00-9:00",
          "9:00-12:00",
          "9:00-12:00",
          "12:00-15:00",
          "12:00-15:00",
          "15:00-19:00",
          "15:00-19:00",
          "19:00-24:00",
          "19:00-24:00"
         ],
         "y": [
          1.5,
          1.5,
          3.6666666666666665,
          3.6666666666666665,
          3.3333333333333335,
          3.3333333333333335,
          3.3333333333333335,
          3,
          3.75,
          3.75,
          2.8,
          3
         ]
        },
        {
         "boxmean": "sd",
         "boxpoints": "all",
         "fillcolor": "rgba(255,255,255,0)",
         "hoveron": "points",
         "hovertemplate": "Time window=%{x}<br>Trips per hour=%{y}<br>Route=%{name}<extra></extra>",
         "line": {
          "color": "rgba(255,255,255,0)"
         },
         "marker": {
          "color": "black",
          "size": 4
         },
         "name": "71 Downtown - Patapsco Station",
         "pointpos": 0,
         "showlegend": false,
         "type": "box",
         "x": [
          "0:00-6:00",
          "0:00-6:00",
          "6:00-9:00",
          "6:00-9:00",
          "6:00-9:00",
          "9:00-12:00",
          "9:00-12:00",
          "12:00-15:00",
          "12:00-15:00",
          "15:00-19:00",
          "15:00-19:00",
          "19:00-24:00",
          "19:00-24:00"
         ],
         "y": [
          1.3333333333333333,
          1.5,
          3,
          3.6666666666666665,
          1,
          3.6666666666666665,
          3.6666666666666665,
          3.6666666666666665,
          3.3333333333333335,
          4,
          3.75,
          2.6,
          2.4
         ]
        },
        {
         "boxmean": "sd",
         "boxpoints": "all",
         "fillcolor": "rgba(255,255,255,0)",
         "hoveron": "points",
         "hovertemplate": "Time window=%{x}<br>Trips per hour=%{y}<br>Route=%{name}<extra></extra>",
         "line": {
          "color": "rgba(255,255,255,0)"
         },
         "marker": {
          "color": "black",
          "size": 4
         },
         "name": "CityLink RED Downtown - Towson/Lutherville",
         "pointpos": 0,
         "showlegend": false,
         "type": "box",
         "x": [
          "0:00-6:00",
          "0:00-6:00",
          "0:00-6:00",
          "0:00-6:00",
          "0:00-6:00",
          "0:00-6:00",
          "6:00-9:00",
          "6:00-9:00",
          "6:00-9:00",
          "6:00-9:00",
          "6:00-9:00",
          "6:00-9:00",
          "6:00-9:00",
          "6:00-9:00",
          "9:00-12:00",
          "9:00-12:00",
          "9:00-12:00",
          "9:00-12:00",
          "9:00-12:00",
          "9:00-12:00",
          "12:00-15:00",
          "12:00-15:00",
          "12:00-15:00",
          "12:00-15:00",
          "12:00-15:00",
          "12:00-15:00",
          "12:00-15:00",
          "15:00-19:00",
          "15:00-19:00",
          "15:00-19:00",
          "15:00-19:00",
          "15:00-19:00",
          "15:00-19:00",
          "15:00-19:00",
          "19:00-24:00",
          "19:00-24:00",
          "19:00-24:00",
          "19:00-24:00"
         ],
         "y": [
          0.3333333333333333,
          0.6666666666666666,
          0.5,
          0.6666666666666666,
          2.1666666666666665,
          2.3333333333333335,
          4.333333333333333,
          4.666666666666667,
          1,
          0.6666666666666666,
          0.3333333333333333,
          0.3333333333333333,
          5,
          4,
          4.333333333333333,
          4,
          0.3333333333333333,
          3.6666666666666665,
          4.333333333333333,
          0.6666666666666666,
          5,
          0.3333333333333333,
          0.3333333333333333,
          3.6666666666666665,
          4.333333333333333,
          0.6666666666666666,
          4,
          4.5,
          4.5,
          1.25,
          0.75,
          0.25,
          4.5,
          4.25,
          1.8,
          2.6,
          1.4,
          2.8
         ]
        },
        {
         "boxmean": "sd",
         "boxpoints": "all",
         "fillcolor": "rgba(255,255,255,0)",
         "hoveron": "points",
         "hovertemplate": "Time window=%{x}<br>Trips per hour=%{y}<br>Route=%{name}<extra></extra>",
         "line": {
          "color": "rgba(255,255,255,0)"
         },
         "marker": {
          "color": "black",
          "size": 4
         },
         "name": "69 Patapsco Station - Jumpers Hole",
         "pointpos": 0,
         "showlegend": false,
         "type": "box",
         "x": [
          "0:00-6:00",
          "0:00-6:00",
          "0:00-6:00",
          "0:00-6:00",
          "6:00-9:00",
          "6:00-9:00",
          "6:00-9:00",
          "6:00-9:00",
          "9:00-12:00",
          "9:00-12:00",
          "9:00-12:00",
          "12:00-15:00",
          "12:00-15:00",
          "15:00-19:00",
          "15:00-19:00",
          "19:00-24:00",
          "19:00-24:00",
          "19:00-24:00",
          "19:00-24:00"
         ],
         "y": [
          0.3333333333333333,
          0.3333333333333333,
          0.3333333333333333,
          0.16666666666666666,
          0.6666666666666666,
          1.3333333333333333,
          0.3333333333333333,
          1.3333333333333333,
          0.3333333333333333,
          1.6666666666666667,
          1.3333333333333333,
          2,
          2,
          1.75,
          2,
          1.2,
          0.2,
          0.4,
          1.4
         ]
        },
        {
         "boxmean": "sd",
         "boxpoints": "all",
         "fillcolor": "rgba(255,255,255,0)",
         "hoveron": "points",
         "hovertemplate": "Time window=%{x}<br>Trips per hour=%{y}<br>Route=%{name}<extra></extra>",
         "line": {
          "color": "rgba(255,255,255,0)"
         },
         "marker": {
          "color": "black",
          "size": 4
         },
         "name": "21 Woodberry - Canton Crossing",
         "pointpos": 0,
         "showlegend": false,
         "type": "box",
         "x": [
          "0:00-6:00",
          "0:00-6:00",
          "6:00-9:00",
          "6:00-9:00",
          "6:00-9:00",
          "9:00-12:00",
          "9:00-12:00",
          "12:00-15:00",
          "12:00-15:00",
          "15:00-19:00",
          "15:00-19:00",
          "15:00-19:00",
          "19:00-24:00",
          "19:00-24:00"
         ],
         "y": [
          1.5,
          1.5,
          0.3333333333333333,
          2.6666666666666665,
          3.3333333333333335,
          3,
          3.6666666666666665,
          3.6666666666666665,
          3.3333333333333335,
          3.5,
          0.25,
          3.5,
          2.6,
          2.8
         ]
        },
        {
         "boxmean": "sd",
         "boxpoints": "all",
         "fillcolor": "rgba(255,255,255,0)",
         "hoveron": "points",
         "hovertemplate": "Time window=%{x}<br>Trips per hour=%{y}<br>Route=%{name}<extra></extra>",
         "line": {
          "color": "rgba(255,255,255,0)"
         },
         "marker": {
          "color": "black",
          "size": 4
         },
         "name": "80 Downtown - Rogers Ave Station",
         "pointpos": 0,
         "showlegend": false,
         "type": "box",
         "x": [
          "0:00-6:00",
          "0:00-6:00",
          "6:00-9:00",
          "6:00-9:00",
          "6:00-9:00",
          "9:00-12:00",
          "9:00-12:00",
          "12:00-15:00",
          "12:00-15:00",
          "12:00-15:00",
          "15:00-19:00",
          "15:00-19:00",
          "19:00-24:00",
          "19:00-24:00"
         ],
         "y": [
          3,
          3,
          4,
          0.3333333333333333,
          4.666666666666667,
          6,
          6,
          6,
          0.3333333333333333,
          6,
          6,
          6,
          4.4,
          4.2
         ]
        },
        {
         "boxmean": "sd",
         "boxpoints": "all",
         "fillcolor": "rgba(255,255,255,0)",
         "hoveron": "points",
         "hovertemplate": "Time window=%{x}<br>Trips per hour=%{y}<br>Route=%{name}<extra></extra>",
         "line": {
          "color": "rgba(255,255,255,0)"
         },
         "marker": {
          "color": "black",
          "size": 4
         },
         "name": "92 Glen - Baas & Talmudical",
         "pointpos": 0,
         "showlegend": false,
         "type": "box",
         "x": [
          "6:00-9:00",
          "6:00-9:00",
          "6:00-9:00",
          "6:00-9:00",
          "12:00-15:00",
          "12:00-15:00",
          "15:00-19:00",
          "15:00-19:00",
          "15:00-19:00",
          "15:00-19:00",
          "19:00-24:00"
         ],
         "y": [
          0.3333333333333333,
          0.3333333333333333,
          1.3333333333333333,
          1.3333333333333333,
          1,
          0.6666666666666666,
          0.5,
          0.25,
          0.25,
          0.5,
          0.2
         ]
        },
        {
         "boxmean": "sd",
         "boxpoints": "all",
         "fillcolor": "rgba(255,255,255,0)",
         "hoveron": "points",
         "hovertemplate": "Time window=%{x}<br>Trips per hour=%{y}<br>Route=%{name}<extra></extra>",
         "line": {
          "color": "rgba(255,255,255,0)"
         },
         "marker": {
          "color": "black",
          "size": 4
         },
         "name": "120 White Marsh - Downtown/Hopkins",
         "pointpos": 0,
         "showlegend": false,
         "type": "box",
         "x": [
          "6:00-9:00",
          "6:00-9:00",
          "15:00-19:00",
          "15:00-19:00"
         ],
         "y": [
          0.6666666666666666,
          3.3333333333333335,
          0.5,
          2.25
         ]
        },
        {
         "boxmean": "sd",
         "boxpoints": "all",
         "fillcolor": "rgba(255,255,255,0)",
         "hoveron": "points",
         "hovertemplate": "Time window=%{x}<br>Trips per hour=%{y}<br>Route=%{name}<extra></extra>",
         "line": {
          "color": "rgba(255,255,255,0)"
         },
         "marker": {
          "color": "black",
          "size": 4
         },
         "name": "105 Cedonia - Downtown",
         "pointpos": 0,
         "showlegend": false,
         "type": "box",
         "x": [
          "6:00-9:00",
          "15:00-19:00"
         ],
         "y": [
          1.3333333333333333,
          0.75
         ]
        },
        {
         "boxmean": "sd",
         "boxpoints": "all",
         "fillcolor": "rgba(255,255,255,0)",
         "hoveron": "points",
         "hovertemplate": "Time window=%{x}<br>Trips per hour=%{y}<br>Route=%{name}<extra></extra>",
         "line": {
          "color": "rgba(255,255,255,0)"
         },
         "marker": {
          "color": "black",
          "size": 4
         },
         "name": "103 Downtown - Cromwell Bridge",
         "pointpos": 0,
         "showlegend": false,
         "type": "box",
         "x": [
          "6:00-9:00",
          "15:00-19:00"
         ],
         "y": [
          1.3333333333333333,
          1
         ]
        },
        {
         "boxmean": "sd",
         "boxpoints": "all",
         "fillcolor": "rgba(255,255,255,0)",
         "hoveron": "points",
         "hovertemplate": "Time window=%{x}<br>Trips per hour=%{y}<br>Route=%{name}<extra></extra>",
         "line": {
          "color": "rgba(255,255,255,0)"
         },
         "marker": {
          "color": "black",
          "size": 4
         },
         "name": "40 Westgate - Selig",
         "pointpos": 0,
         "showlegend": false,
         "type": "box",
         "x": [
          "6:00-9:00",
          "6:00-9:00",
          "9:00-12:00",
          "9:00-12:00",
          "12:00-15:00",
          "12:00-15:00",
          "15:00-19:00",
          "15:00-19:00"
         ],
         "y": [
          3,
          3,
          2,
          2,
          2.3333333333333335,
          2.3333333333333335,
          2.5,
          2.5
         ]
        },
        {
         "boxmean": "sd",
         "boxpoints": "all",
         "fillcolor": "rgba(255,255,255,0)",
         "hoveron": "points",
         "hovertemplate": "Time window=%{x}<br>Trips per hour=%{y}<br>Route=%{name}<extra></extra>",
         "line": {
          "color": "rgba(255,255,255,0)"
         },
         "marker": {
          "color": "black",
          "size": 4
         },
         "name": "57 Belair - Edison Circulator",
         "pointpos": 0,
         "showlegend": false,
         "type": "box",
         "x": [
          "6:00-9:00",
          "6:00-9:00",
          "9:00-12:00",
          "12:00-15:00",
          "15:00-19:00",
          "15:00-19:00"
         ],
         "y": [
          0.6666666666666666,
          2,
          2.6666666666666665,
          3.3333333333333335,
          2,
          2
         ]
        },
        {
         "boxmean": "sd",
         "boxpoints": "all",
         "fillcolor": "rgba(255,255,255,0)",
         "hoveron": "points",
         "hovertemplate": "Time window=%{x}<br>Trips per hour=%{y}<br>Route=%{name}<extra></extra>",
         "line": {
          "color": "rgba(255,255,255,0)"
         },
         "marker": {
          "color": "black",
          "size": 4
         },
         "name": "52 Greenmount North - Stella Maris",
         "pointpos": 0,
         "showlegend": false,
         "type": "box",
         "x": [
          "6:00-9:00",
          "9:00-12:00",
          "15:00-19:00",
          "19:00-24:00"
         ],
         "y": [
          0.6666666666666666,
          0.6666666666666666,
          0.5,
          0.8
         ]
        },
        {
         "boxmean": "sd",
         "boxpoints": "all",
         "fillcolor": "rgba(255,255,255,0)",
         "hoveron": "points",
         "hovertemplate": "Time window=%{x}<br>Trips per hour=%{y}<br>Route=%{name}<extra></extra>",
         "line": {
          "color": "rgba(255,255,255,0)"
         },
         "marker": {
          "color": "black",
          "size": 4
         },
         "name": "38 Westgate - Medfield",
         "pointpos": 0,
         "showlegend": false,
         "type": "box",
         "x": [
          "6:00-9:00",
          "12:00-15:00"
         ],
         "y": [
          0.6666666666666666,
          0.6666666666666666
         ]
        },
        {
         "boxmean": "sd",
         "boxpoints": "all",
         "fillcolor": "rgba(255,255,255,0)",
         "hoveron": "points",
         "hovertemplate": "Time window=%{x}<br>Trips per hour=%{y}<br>Route=%{name}<extra></extra>",
         "line": {
          "color": "rgba(255,255,255,0)"
         },
         "marker": {
          "color": "black",
          "size": 4
         },
         "name": "160 Downtown/Hopkins - Essex",
         "pointpos": 0,
         "showlegend": false,
         "type": "box",
         "x": [
          "6:00-9:00",
          "6:00-9:00",
          "15:00-19:00",
          "15:00-19:00"
         ],
         "y": [
          0.6666666666666666,
          0.3333333333333333,
          0.5,
          0.25
         ]
        },
        {
         "boxmean": "sd",
         "boxpoints": "all",
         "fillcolor": "rgba(255,255,255,0)",
         "hoveron": "points",
         "hovertemplate": "Time window=%{x}<br>Trips per hour=%{y}<br>Route=%{name}<extra></extra>",
         "line": {
          "color": "rgba(255,255,255,0)"
         },
         "marker": {
          "color": "black",
          "size": 4
         },
         "name": "154 State Center - Carney/Hillendale",
         "pointpos": 0,
         "showlegend": false,
         "type": "box",
         "x": [
          "6:00-9:00",
          "6:00-9:00",
          "15:00-19:00",
          "15:00-19:00"
         ],
         "y": [
          1.6666666666666667,
          1.3333333333333333,
          0.75,
          1
         ]
        },
        {
         "line": {
          "color": "red"
         },
         "mode": "lines",
         "name": "Median",
         "type": "scatter",
         "x": [
          "0:00-6:00",
          "6:00-9:00",
          "9:00-12:00",
          "12:00-15:00",
          "15:00-19:00",
          "19:00-24:00"
         ],
         "y": [
          1,
          2.166666666666667,
          3,
          2.3333333333333335,
          2.75,
          2.2
         ]
        }
       ],
       "layout": {
        "template": {
         "data": {
          "bar": [
           {
            "error_x": {
             "color": "#2a3f5f"
            },
            "error_y": {
             "color": "#2a3f5f"
            },
            "marker": {
             "line": {
              "color": "#E5ECF6",
              "width": 0.5
             },
             "pattern": {
              "fillmode": "overlay",
              "size": 10,
              "solidity": 0.2
             }
            },
            "type": "bar"
           }
          ],
          "barpolar": [
           {
            "marker": {
             "line": {
              "color": "#E5ECF6",
              "width": 0.5
             },
             "pattern": {
              "fillmode": "overlay",
              "size": 10,
              "solidity": 0.2
             }
            },
            "type": "barpolar"
           }
          ],
          "carpet": [
           {
            "aaxis": {
             "endlinecolor": "#2a3f5f",
             "gridcolor": "white",
             "linecolor": "white",
             "minorgridcolor": "white",
             "startlinecolor": "#2a3f5f"
            },
            "baxis": {
             "endlinecolor": "#2a3f5f",
             "gridcolor": "white",
             "linecolor": "white",
             "minorgridcolor": "white",
             "startlinecolor": "#2a3f5f"
            },
            "type": "carpet"
           }
          ],
          "choropleth": [
           {
            "colorbar": {
             "outlinewidth": 0,
             "ticks": ""
            },
            "type": "choropleth"
           }
          ],
          "contour": [
           {
            "colorbar": {
             "outlinewidth": 0,
             "ticks": ""
            },
            "colorscale": [
             [
              0,
              "#0d0887"
             ],
             [
              0.1111111111111111,
              "#46039f"
             ],
             [
              0.2222222222222222,
              "#7201a8"
             ],
             [
              0.3333333333333333,
              "#9c179e"
             ],
             [
              0.4444444444444444,
              "#bd3786"
             ],
             [
              0.5555555555555556,
              "#d8576b"
             ],
             [
              0.6666666666666666,
              "#ed7953"
             ],
             [
              0.7777777777777778,
              "#fb9f3a"
             ],
             [
              0.8888888888888888,
              "#fdca26"
             ],
             [
              1,
              "#f0f921"
             ]
            ],
            "type": "contour"
           }
          ],
          "contourcarpet": [
           {
            "colorbar": {
             "outlinewidth": 0,
             "ticks": ""
            },
            "type": "contourcarpet"
           }
          ],
          "heatmap": [
           {
            "colorbar": {
             "outlinewidth": 0,
             "ticks": ""
            },
            "colorscale": [
             [
              0,
              "#0d0887"
             ],
             [
              0.1111111111111111,
              "#46039f"
             ],
             [
              0.2222222222222222,
              "#7201a8"
             ],
             [
              0.3333333333333333,
              "#9c179e"
             ],
             [
              0.4444444444444444,
              "#bd3786"
             ],
             [
              0.5555555555555556,
              "#d8576b"
             ],
             [
              0.6666666666666666,
              "#ed7953"
             ],
             [
              0.7777777777777778,
              "#fb9f3a"
             ],
             [
              0.8888888888888888,
              "#fdca26"
             ],
             [
              1,
              "#f0f921"
             ]
            ],
            "type": "heatmap"
           }
          ],
          "heatmapgl": [
           {
            "colorbar": {
             "outlinewidth": 0,
             "ticks": ""
            },
            "colorscale": [
             [
              0,
              "#0d0887"
             ],
             [
              0.1111111111111111,
              "#46039f"
             ],
             [
              0.2222222222222222,
              "#7201a8"
             ],
             [
              0.3333333333333333,
              "#9c179e"
             ],
             [
              0.4444444444444444,
              "#bd3786"
             ],
             [
              0.5555555555555556,
              "#d8576b"
             ],
             [
              0.6666666666666666,
              "#ed7953"
             ],
             [
              0.7777777777777778,
              "#fb9f3a"
             ],
             [
              0.8888888888888888,
              "#fdca26"
             ],
             [
              1,
              "#f0f921"
             ]
            ],
            "type": "heatmapgl"
           }
          ],
          "histogram": [
           {
            "marker": {
             "pattern": {
              "fillmode": "overlay",
              "size": 10,
              "solidity": 0.2
             }
            },
            "type": "histogram"
           }
          ],
          "histogram2d": [
           {
            "colorbar": {
             "outlinewidth": 0,
             "ticks": ""
            },
            "colorscale": [
             [
              0,
              "#0d0887"
             ],
             [
              0.1111111111111111,
              "#46039f"
             ],
             [
              0.2222222222222222,
              "#7201a8"
             ],
             [
              0.3333333333333333,
              "#9c179e"
             ],
             [
              0.4444444444444444,
              "#bd3786"
             ],
             [
              0.5555555555555556,
              "#d8576b"
             ],
             [
              0.6666666666666666,
              "#ed7953"
             ],
             [
              0.7777777777777778,
              "#fb9f3a"
             ],
             [
              0.8888888888888888,
              "#fdca26"
             ],
             [
              1,
              "#f0f921"
             ]
            ],
            "type": "histogram2d"
           }
          ],
          "histogram2dcontour": [
           {
            "colorbar": {
             "outlinewidth": 0,
             "ticks": ""
            },
            "colorscale": [
             [
              0,
              "#0d0887"
             ],
             [
              0.1111111111111111,
              "#46039f"
             ],
             [
              0.2222222222222222,
              "#7201a8"
             ],
             [
              0.3333333333333333,
              "#9c179e"
             ],
             [
              0.4444444444444444,
              "#bd3786"
             ],
             [
              0.5555555555555556,
              "#d8576b"
             ],
             [
              0.6666666666666666,
              "#ed7953"
             ],
             [
              0.7777777777777778,
              "#fb9f3a"
             ],
             [
              0.8888888888888888,
              "#fdca26"
             ],
             [
              1,
              "#f0f921"
             ]
            ],
            "type": "histogram2dcontour"
           }
          ],
          "mesh3d": [
           {
            "colorbar": {
             "outlinewidth": 0,
             "ticks": ""
            },
            "type": "mesh3d"
           }
          ],
          "parcoords": [
           {
            "line": {
             "colorbar": {
              "outlinewidth": 0,
              "ticks": ""
             }
            },
            "type": "parcoords"
           }
          ],
          "pie": [
           {
            "automargin": true,
            "type": "pie"
           }
          ],
          "scatter": [
           {
            "fillpattern": {
             "fillmode": "overlay",
             "size": 10,
             "solidity": 0.2
            },
            "type": "scatter"
           }
          ],
          "scatter3d": [
           {
            "line": {
             "colorbar": {
              "outlinewidth": 0,
              "ticks": ""
             }
            },
            "marker": {
             "colorbar": {
              "outlinewidth": 0,
              "ticks": ""
             }
            },
            "type": "scatter3d"
           }
          ],
          "scattercarpet": [
           {
            "marker": {
             "colorbar": {
              "outlinewidth": 0,
              "ticks": ""
             }
            },
            "type": "scattercarpet"
           }
          ],
          "scattergeo": [
           {
            "marker": {
             "colorbar": {
              "outlinewidth": 0,
              "ticks": ""
             }
            },
            "type": "scattergeo"
           }
          ],
          "scattergl": [
           {
            "marker": {
             "colorbar": {
              "outlinewidth": 0,
              "ticks": ""
             }
            },
            "type": "scattergl"
           }
          ],
          "scattermapbox": [
           {
            "marker": {
             "colorbar": {
              "outlinewidth": 0,
              "ticks": ""
             }
            },
            "type": "scattermapbox"
           }
          ],
          "scatterpolar": [
           {
            "marker": {
             "colorbar": {
              "outlinewidth": 0,
              "ticks": ""
             }
            },
            "type": "scatterpolar"
           }
          ],
          "scatterpolargl": [
           {
            "marker": {
             "colorbar": {
              "outlinewidth": 0,
              "ticks": ""
             }
            },
            "type": "scatterpolargl"
           }
          ],
          "scatterternary": [
           {
            "marker": {
             "colorbar": {
              "outlinewidth": 0,
              "ticks": ""
             }
            },
            "type": "scatterternary"
           }
          ],
          "surface": [
           {
            "colorbar": {
             "outlinewidth": 0,
             "ticks": ""
            },
            "colorscale": [
             [
              0,
              "#0d0887"
             ],
             [
              0.1111111111111111,
              "#46039f"
             ],
             [
              0.2222222222222222,
              "#7201a8"
             ],
             [
              0.3333333333333333,
              "#9c179e"
             ],
             [
              0.4444444444444444,
              "#bd3786"
             ],
             [
              0.5555555555555556,
              "#d8576b"
             ],
             [
              0.6666666666666666,
              "#ed7953"
             ],
             [
              0.7777777777777778,
              "#fb9f3a"
             ],
             [
              0.8888888888888888,
              "#fdca26"
             ],
             [
              1,
              "#f0f921"
             ]
            ],
            "type": "surface"
           }
          ],
          "table": [
           {
            "cells": {
             "fill": {
              "color": "#EBF0F8"
             },
             "line": {
              "color": "white"
             }
            },
            "header": {
             "fill": {
              "color": "#C8D4E3"
             },
             "line": {
              "color": "white"
             }
            },
            "type": "table"
           }
          ]
         },
         "layout": {
          "annotationdefaults": {
           "arrowcolor": "#2a3f5f",
           "arrowhead": 0,
           "arrowwidth": 1
          },
          "autotypenumbers": "strict",
          "coloraxis": {
           "colorbar": {
            "outlinewidth": 0,
            "ticks": ""
           }
          },
          "colorscale": {
           "diverging": [
            [
             0,
             "#8e0152"
            ],
            [
             0.1,
             "#c51b7d"
            ],
            [
             0.2,
             "#de77ae"
            ],
            [
             0.3,
             "#f1b6da"
            ],
            [
             0.4,
             "#fde0ef"
            ],
            [
             0.5,
             "#f7f7f7"
            ],
            [
             0.6,
             "#e6f5d0"
            ],
            [
             0.7,
             "#b8e186"
            ],
            [
             0.8,
             "#7fbc41"
            ],
            [
             0.9,
             "#4d9221"
            ],
            [
             1,
             "#276419"
            ]
           ],
           "sequential": [
            [
             0,
             "#0d0887"
            ],
            [
             0.1111111111111111,
             "#46039f"
            ],
            [
             0.2222222222222222,
             "#7201a8"
            ],
            [
             0.3333333333333333,
             "#9c179e"
            ],
            [
             0.4444444444444444,
             "#bd3786"
            ],
            [
             0.5555555555555556,
             "#d8576b"
            ],
            [
             0.6666666666666666,
             "#ed7953"
            ],
            [
             0.7777777777777778,
             "#fb9f3a"
            ],
            [
             0.8888888888888888,
             "#fdca26"
            ],
            [
             1,
             "#f0f921"
            ]
           ],
           "sequentialminus": [
            [
             0,
             "#0d0887"
            ],
            [
             0.1111111111111111,
             "#46039f"
            ],
            [
             0.2222222222222222,
             "#7201a8"
            ],
            [
             0.3333333333333333,
             "#9c179e"
            ],
            [
             0.4444444444444444,
             "#bd3786"
            ],
            [
             0.5555555555555556,
             "#d8576b"
            ],
            [
             0.6666666666666666,
             "#ed7953"
            ],
            [
             0.7777777777777778,
             "#fb9f3a"
            ],
            [
             0.8888888888888888,
             "#fdca26"
            ],
            [
             1,
             "#f0f921"
            ]
           ]
          },
          "colorway": [
           "#636efa",
           "#EF553B",
           "#00cc96",
           "#ab63fa",
           "#FFA15A",
           "#19d3f3",
           "#FF6692",
           "#B6E880",
           "#FF97FF",
           "#FECB52"
          ],
          "font": {
           "color": "#2a3f5f"
          },
          "geo": {
           "bgcolor": "white",
           "lakecolor": "white",
           "landcolor": "#E5ECF6",
           "showlakes": true,
           "showland": true,
           "subunitcolor": "white"
          },
          "hoverlabel": {
           "align": "left"
          },
          "hovermode": "closest",
          "mapbox": {
           "style": "light"
          },
          "paper_bgcolor": "white",
          "plot_bgcolor": "#E5ECF6",
          "polar": {
           "angularaxis": {
            "gridcolor": "white",
            "linecolor": "white",
            "ticks": ""
           },
           "bgcolor": "#E5ECF6",
           "radialaxis": {
            "gridcolor": "white",
            "linecolor": "white",
            "ticks": ""
           }
          },
          "scene": {
           "xaxis": {
            "backgroundcolor": "#E5ECF6",
            "gridcolor": "white",
            "gridwidth": 2,
            "linecolor": "white",
            "showbackground": true,
            "ticks": "",
            "zerolinecolor": "white"
           },
           "yaxis": {
            "backgroundcolor": "#E5ECF6",
            "gridcolor": "white",
            "gridwidth": 2,
            "linecolor": "white",
            "showbackground": true,
            "ticks": "",
            "zerolinecolor": "white"
           },
           "zaxis": {
            "backgroundcolor": "#E5ECF6",
            "gridcolor": "white",
            "gridwidth": 2,
            "linecolor": "white",
            "showbackground": true,
            "ticks": "",
            "zerolinecolor": "white"
           }
          },
          "shapedefaults": {
           "line": {
            "color": "#2a3f5f"
           }
          },
          "ternary": {
           "aaxis": {
            "gridcolor": "white",
            "linecolor": "white",
            "ticks": ""
           },
           "baxis": {
            "gridcolor": "white",
            "linecolor": "white",
            "ticks": ""
           },
           "bgcolor": "#E5ECF6",
           "caxis": {
            "gridcolor": "white",
            "linecolor": "white",
            "ticks": ""
           }
          },
          "title": {
           "x": 0.05
          },
          "xaxis": {
           "automargin": true,
           "gridcolor": "white",
           "linecolor": "white",
           "ticks": "",
           "title": {
            "standoff": 15
           },
           "zerolinecolor": "white",
           "zerolinewidth": 2
          },
          "yaxis": {
           "automargin": true,
           "gridcolor": "white",
           "linecolor": "white",
           "ticks": "",
           "title": {
            "standoff": 15
           },
           "zerolinecolor": "white",
           "zerolinewidth": 2
          }
         }
        },
        "title": {
         "text": "Categorical X-Axis, with Jitter for Trips per hour and window for each line"
        }
       }
      },
      "text/html": [
       "<div>                            <div id=\"7952a169-4e94-424e-b5ef-e64213a06871\" class=\"plotly-graph-div\" style=\"height:525px; width:100%;\"></div>            <script type=\"text/javascript\">                require([\"plotly\"], function(Plotly) {                    window.PLOTLYENV=window.PLOTLYENV || {};                                    if (document.getElementById(\"7952a169-4e94-424e-b5ef-e64213a06871\")) {                    Plotly.newPlot(                        \"7952a169-4e94-424e-b5ef-e64213a06871\",                        [{\"boxmean\":\"sd\",\"boxpoints\":\"all\",\"fillcolor\":\"rgba(255,255,255,0)\",\"hoveron\":\"points\",\"hovertemplate\":\"Time window=%{x}\\u003cbr\\u003eTrips per hour=%{y}\\u003cbr\\u003eRoute=%{name}\\u003cextra\\u003e\\u003c\\u002fextra\\u003e\",\"line\":{\"color\":\"rgba(255,255,255,0)\"},\"marker\":{\"color\":\"black\",\"size\":4},\"name\":\"CityLink BROWN Overlea - Downtown\",\"pointpos\":0,\"showlegend\":false,\"x\":[\"0:00-6:00\",\"0:00-6:00\",\"6:00-9:00\",\"6:00-9:00\",\"6:00-9:00\",\"9:00-12:00\",\"9:00-12:00\",\"12:00-15:00\",\"12:00-15:00\",\"12:00-15:00\",\"15:00-19:00\",\"15:00-19:00\",\"15:00-19:00\",\"19:00-24:00\",\"19:00-24:00\"],\"y\":[2.8333333333333335,2.6666666666666665,5.333333333333333,5.0,0.3333333333333333,5.666666666666667,6.0,6.0,0.3333333333333333,6.0,5.75,0.25,5.5,3.8,3.6],\"type\":\"box\"},{\"boxmean\":\"sd\",\"boxpoints\":\"all\",\"fillcolor\":\"rgba(255,255,255,0)\",\"hoveron\":\"points\",\"hovertemplate\":\"Time window=%{x}\\u003cbr\\u003eTrips per hour=%{y}\\u003cbr\\u003eRoute=%{name}\\u003cextra\\u003e\\u003c\\u002fextra\\u003e\",\"line\":{\"color\":\"rgba(255,255,255,0)\"},\"marker\":{\"color\":\"black\",\"size\":4},\"name\":\"CityLink NAVY Mondawmin - Dundalk\",\"pointpos\":0,\"showlegend\":false,\"x\":[\"0:00-6:00\",\"0:00-6:00\",\"0:00-6:00\",\"0:00-6:00\",\"0:00-6:00\",\"0:00-6:00\",\"0:00-6:00\",\"0:00-6:00\",\"6:00-9:00\",\"6:00-9:00\",\"6:00-9:00\",\"6:00-9:00\",\"9:00-12:00\",\"9:00-12:00\",\"9:00-12:00\",\"9:00-12:00\",\"9:00-12:00\",\"9:00-12:00\",\"12:00-15:00\",\"12:00-15:00\",\"12:00-15:00\",\"12:00-15:00\",\"12:00-15:00\",\"12:00-15:00\",\"12:00-15:00\",\"15:00-19:00\",\"15:00-19:00\",\"19:00-24:00\",\"19:00-24:00\",\"19:00-24:00\",\"19:00-24:00\"],\"y\":[1.1666666666666667,0.16666666666666666,1.5,0.16666666666666666,1.1666666666666667,0.3333333333333333,1.0,0.3333333333333333,7.0,0.3333333333333333,7.666666666666667,0.3333333333333333,0.6666666666666666,1.0,4.0,1.0,4.333333333333333,0.6666666666666666,0.6666666666666666,4.333333333333333,1.0,4.0,1.0,0.3333333333333333,1.3333333333333333,8.25,8.25,0.8,2.6,2.0,1.8],\"type\":\"box\"},{\"boxmean\":\"sd\",\"boxpoints\":\"all\",\"fillcolor\":\"rgba(255,255,255,0)\",\"hoveron\":\"points\",\"hovertemplate\":\"Time window=%{x}\\u003cbr\\u003eTrips per hour=%{y}\\u003cbr\\u003eRoute=%{name}\\u003cextra\\u003e\\u003c\\u002fextra\\u003e\",\"line\":{\"color\":\"rgba(255,255,255,0)\"},\"marker\":{\"color\":\"black\",\"size\":4},\"name\":\"63 Gardenville - Tradepoint Atlantic\",\"pointpos\":0,\"showlegend\":false,\"x\":[\"0:00-6:00\",\"0:00-6:00\",\"0:00-6:00\",\"0:00-6:00\",\"6:00-9:00\",\"6:00-9:00\",\"9:00-12:00\",\"9:00-12:00\",\"12:00-15:00\",\"12:00-15:00\",\"15:00-19:00\",\"15:00-19:00\",\"19:00-24:00\",\"19:00-24:00\"],\"y\":[1.3333333333333333,0.8333333333333334,1.5,1.3333333333333333,3.3333333333333335,3.3333333333333335,2.0,2.0,2.6666666666666665,2.6666666666666665,3.75,4.0,2.4,2.2],\"type\":\"box\"},{\"boxmean\":\"sd\",\"boxpoints\":\"all\",\"fillcolor\":\"rgba(255,255,255,0)\",\"hoveron\":\"points\",\"hovertemplate\":\"Time window=%{x}\\u003cbr\\u003eTrips per hour=%{y}\\u003cbr\\u003eRoute=%{name}\\u003cextra\\u003e\\u003c\\u002fextra\\u003e\",\"line\":{\"color\":\"rgba(255,255,255,0)\"},\"marker\":{\"color\":\"black\",\"size\":4},\"name\":\"31 Sinai Hospital - Security Square\",\"pointpos\":0,\"showlegend\":false,\"x\":[\"0:00-6:00\",\"0:00-6:00\",\"0:00-6:00\",\"0:00-6:00\",\"0:00-6:00\",\"0:00-6:00\",\"6:00-9:00\",\"6:00-9:00\",\"6:00-9:00\",\"6:00-9:00\",\"9:00-12:00\",\"9:00-12:00\",\"9:00-12:00\",\"9:00-12:00\",\"12:00-15:00\",\"12:00-15:00\",\"12:00-15:00\",\"12:00-15:00\",\"15:00-19:00\",\"15:00-19:00\",\"15:00-19:00\",\"15:00-19:00\",\"19:00-24:00\",\"19:00-24:00\",\"19:00-24:00\"],\"y\":[0.5,0.3333333333333333,1.0,0.5,1.3333333333333333,0.3333333333333333,2.3333333333333335,2.0,2.0,2.0,3.3333333333333335,0.3333333333333333,0.3333333333333333,3.3333333333333335,1.0,3.0,3.0,0.3333333333333333,2.75,1.25,2.75,1.25,3.4,0.2,3.4],\"type\":\"box\"},{\"boxmean\":\"sd\",\"boxpoints\":\"all\",\"fillcolor\":\"rgba(255,255,255,0)\",\"hoveron\":\"points\",\"hovertemplate\":\"Time window=%{x}\\u003cbr\\u003eTrips per hour=%{y}\\u003cbr\\u003eRoute=%{name}\\u003cextra\\u003e\\u003c\\u002fextra\\u003e\",\"line\":{\"color\":\"rgba(255,255,255,0)\"},\"marker\":{\"color\":\"black\",\"size\":4},\"name\":\"85 Penn-North - Milford Mill\",\"pointpos\":0,\"showlegend\":false,\"x\":[\"0:00-6:00\",\"0:00-6:00\",\"6:00-9:00\",\"6:00-9:00\",\"6:00-9:00\",\"9:00-12:00\",\"9:00-12:00\",\"12:00-15:00\",\"12:00-15:00\",\"12:00-15:00\",\"15:00-19:00\",\"15:00-19:00\",\"15:00-19:00\",\"19:00-24:00\",\"19:00-24:00\"],\"y\":[2.5,2.3333333333333335,5.333333333333333,5.666666666666667,0.6666666666666666,6.333333333333333,5.666666666666667,6.0,0.3333333333333333,6.0,5.75,6.0,0.5,3.6,3.8],\"type\":\"box\"},{\"boxmean\":\"sd\",\"boxpoints\":\"all\",\"fillcolor\":\"rgba(255,255,255,0)\",\"hoveron\":\"points\",\"hovertemplate\":\"Time window=%{x}\\u003cbr\\u003eTrips per hour=%{y}\\u003cbr\\u003eRoute=%{name}\\u003cextra\\u003e\\u003c\\u002fextra\\u003e\",\"line\":{\"color\":\"rgba(255,255,255,0)\"},\"marker\":{\"color\":\"black\",\"size\":4},\"name\":\"CityLink ORANGE Essex - West Baltimore MARC\",\"pointpos\":0,\"showlegend\":false,\"x\":[\"0:00-6:00\",\"0:00-6:00\",\"6:00-9:00\",\"6:00-9:00\",\"9:00-12:00\",\"9:00-12:00\",\"12:00-15:00\",\"12:00-15:00\",\"12:00-15:00\",\"12:00-15:00\",\"12:00-15:00\",\"12:00-15:00\",\"15:00-19:00\",\"15:00-19:00\",\"15:00-19:00\",\"19:00-24:00\",\"19:00-24:00\"],\"y\":[2.3333333333333335,1.8333333333333333,8.0,7.0,7.333333333333333,7.666666666666667,8.0,1.3333333333333333,0.6666666666666666,8.666666666666666,0.3333333333333333,0.6666666666666666,8.75,0.25,9.0,4.2,4.6],\"type\":\"box\"},{\"boxmean\":\"sd\",\"boxpoints\":\"all\",\"fillcolor\":\"rgba(255,255,255,0)\",\"hoveron\":\"points\",\"hovertemplate\":\"Time window=%{x}\\u003cbr\\u003eTrips per hour=%{y}\\u003cbr\\u003eRoute=%{name}\\u003cextra\\u003e\\u003c\\u002fextra\\u003e\",\"line\":{\"color\":\"rgba(255,255,255,0)\"},\"marker\":{\"color\":\"black\",\"size\":4},\"name\":\"62 CCBC Essex - Turner Station\",\"pointpos\":0,\"showlegend\":false,\"x\":[\"0:00-6:00\",\"0:00-6:00\",\"6:00-9:00\",\"6:00-9:00\",\"9:00-12:00\",\"9:00-12:00\",\"12:00-15:00\",\"12:00-15:00\",\"15:00-19:00\",\"15:00-19:00\",\"19:00-24:00\",\"19:00-24:00\"],\"y\":[0.5,0.16666666666666666,2.3333333333333335,2.6666666666666665,2.6666666666666665,2.6666666666666665,2.3333333333333335,2.3333333333333335,3.0,3.0,2.0,1.8],\"type\":\"box\"},{\"boxmean\":\"sd\",\"boxpoints\":\"all\",\"fillcolor\":\"rgba(255,255,255,0)\",\"hoveron\":\"points\",\"hovertemplate\":\"Time window=%{x}\\u003cbr\\u003eTrips per hour=%{y}\\u003cbr\\u003eRoute=%{name}\\u003cextra\\u003e\\u003c\\u002fextra\\u003e\",\"line\":{\"color\":\"rgba(255,255,255,0)\"},\"marker\":{\"color\":\"black\",\"size\":4},\"name\":\"33 Mt Washington Station - Overlea\",\"pointpos\":0,\"showlegend\":false,\"x\":[\"0:00-6:00\",\"0:00-6:00\",\"6:00-9:00\",\"6:00-9:00\",\"6:00-9:00\",\"9:00-12:00\",\"9:00-12:00\",\"12:00-15:00\",\"12:00-15:00\",\"12:00-15:00\",\"15:00-19:00\",\"15:00-19:00\",\"19:00-24:00\",\"19:00-24:00\"],\"y\":[0.3333333333333333,0.3333333333333333,0.3333333333333333,2.0,2.0,2.3333333333333335,2.6666666666666665,2.6666666666666665,0.3333333333333333,2.3333333333333335,2.5,2.5,2.2,2.0],\"type\":\"box\"},{\"boxmean\":\"sd\",\"boxpoints\":\"all\",\"fillcolor\":\"rgba(255,255,255,0)\",\"hoveron\":\"points\",\"hovertemplate\":\"Time window=%{x}\\u003cbr\\u003eTrips per hour=%{y}\\u003cbr\\u003eRoute=%{name}\\u003cextra\\u003e\\u003c\\u002fextra\\u003e\",\"line\":{\"color\":\"rgba(255,255,255,0)\"},\"marker\":{\"color\":\"black\",\"size\":4},\"name\":\"87 Glyndon - Owings Mills\",\"pointpos\":0,\"showlegend\":false,\"x\":[\"0:00-6:00\",\"0:00-6:00\",\"6:00-9:00\",\"6:00-9:00\",\"9:00-12:00\",\"9:00-12:00\",\"12:00-15:00\",\"12:00-15:00\",\"15:00-19:00\",\"15:00-19:00\",\"19:00-24:00\",\"19:00-24:00\"],\"y\":[1.0,0.8333333333333334,2.6666666666666665,3.0,3.3333333333333335,3.3333333333333335,2.6666666666666665,3.0,3.25,3.5,2.8,2.6],\"type\":\"box\"},{\"boxmean\":\"sd\",\"boxpoints\":\"all\",\"fillcolor\":\"rgba(255,255,255,0)\",\"hoveron\":\"points\",\"hovertemplate\":\"Time window=%{x}\\u003cbr\\u003eTrips per hour=%{y}\\u003cbr\\u003eRoute=%{name}\\u003cextra\\u003e\\u003c\\u002fextra\\u003e\",\"line\":{\"color\":\"rgba(255,255,255,0)\"},\"marker\":{\"color\":\"black\",\"size\":4},\"name\":\"CityLink PURPLE City Hall - Paradise\\u002fCatonsville\",\"pointpos\":0,\"showlegend\":false,\"x\":[\"0:00-6:00\",\"0:00-6:00\",\"0:00-6:00\",\"0:00-6:00\",\"6:00-9:00\",\"6:00-9:00\",\"6:00-9:00\",\"6:00-9:00\",\"6:00-9:00\",\"9:00-12:00\",\"9:00-12:00\",\"9:00-12:00\",\"9:00-12:00\",\"12:00-15:00\",\"12:00-15:00\",\"12:00-15:00\",\"12:00-15:00\",\"12:00-15:00\",\"15:00-19:00\",\"15:00-19:00\",\"15:00-19:00\",\"15:00-19:00\",\"19:00-24:00\",\"19:00-24:00\",\"19:00-24:00\",\"19:00-24:00\"],\"y\":[1.3333333333333333,1.0,1.1666666666666667,0.6666666666666666,4.333333333333333,4.0,2.6666666666666665,2.6666666666666665,0.3333333333333333,2.0,2.0,4.0,4.0,0.3333333333333333,4.0,2.3333333333333335,4.333333333333333,2.0,2.5,5.0,4.5,2.5,0.8,1.2,2.4,2.4],\"type\":\"box\"},{\"boxmean\":\"sd\",\"boxpoints\":\"all\",\"fillcolor\":\"rgba(255,255,255,0)\",\"hoveron\":\"points\",\"hovertemplate\":\"Time window=%{x}\\u003cbr\\u003eTrips per hour=%{y}\\u003cbr\\u003eRoute=%{name}\\u003cextra\\u003e\\u003c\\u002fextra\\u003e\",\"line\":{\"color\":\"rgba(255,255,255,0)\"},\"marker\":{\"color\":\"black\",\"size\":4},\"name\":\"67 Downtown - Marley Neck\",\"pointpos\":0,\"showlegend\":false,\"x\":[\"0:00-6:00\",\"0:00-6:00\",\"6:00-9:00\",\"6:00-9:00\",\"9:00-12:00\",\"12:00-15:00\",\"12:00-15:00\",\"15:00-19:00\",\"15:00-19:00\",\"19:00-24:00\",\"19:00-24:00\"],\"y\":[0.6666666666666666,0.3333333333333333,3.0,2.3333333333333335,0.3333333333333333,1.3333333333333333,2.0,3.0,2.75,1.0,1.4],\"type\":\"box\"},{\"boxmean\":\"sd\",\"boxpoints\":\"all\",\"fillcolor\":\"rgba(255,255,255,0)\",\"hoveron\":\"points\",\"hovertemplate\":\"Time window=%{x}\\u003cbr\\u003eTrips per hour=%{y}\\u003cbr\\u003eRoute=%{name}\\u003cextra\\u003e\\u003c\\u002fextra\\u003e\",\"line\":{\"color\":\"rgba(255,255,255,0)\"},\"marker\":{\"color\":\"black\",\"size\":4},\"name\":\"29 Mondawmin - Brooklyn\",\"pointpos\":0,\"showlegend\":false,\"x\":[\"0:00-6:00\",\"0:00-6:00\",\"0:00-6:00\",\"0:00-6:00\",\"0:00-6:00\",\"0:00-6:00\",\"0:00-6:00\",\"0:00-6:00\",\"6:00-9:00\",\"6:00-9:00\",\"6:00-9:00\",\"6:00-9:00\",\"6:00-9:00\",\"9:00-12:00\",\"9:00-12:00\",\"9:00-12:00\",\"9:00-12:00\",\"9:00-12:00\",\"9:00-12:00\",\"12:00-15:00\",\"12:00-15:00\",\"12:00-15:00\",\"12:00-15:00\",\"12:00-15:00\",\"12:00-15:00\",\"15:00-19:00\",\"15:00-19:00\",\"15:00-19:00\",\"15:00-19:00\",\"15:00-19:00\",\"19:00-24:00\",\"19:00-24:00\",\"19:00-24:00\",\"19:00-24:00\"],\"y\":[0.5,0.3333333333333333,0.6666666666666666,0.3333333333333333,0.3333333333333333,0.3333333333333333,0.16666666666666666,0.16666666666666666,3.0,1.0,3.0,1.0,0.3333333333333333,0.3333333333333333,1.3333333333333333,0.6666666666666666,1.6666666666666667,1.0,0.3333333333333333,1.0,2.0,0.3333333333333333,0.3333333333333333,1.0,2.3333333333333335,1.0,1.0,3.0,0.25,3.0,1.0,1.2,1.0,1.2],\"type\":\"box\"},{\"boxmean\":\"sd\",\"boxpoints\":\"all\",\"fillcolor\":\"rgba(255,255,255,0)\",\"hoveron\":\"points\",\"hovertemplate\":\"Time window=%{x}\\u003cbr\\u003eTrips per hour=%{y}\\u003cbr\\u003eRoute=%{name}\\u003cextra\\u003e\\u003c\\u002fextra\\u003e\",\"line\":{\"color\":\"rgba(255,255,255,0)\"},\"marker\":{\"color\":\"black\",\"size\":4},\"name\":\"81 Deer Park - Milford Mill Station\",\"pointpos\":0,\"showlegend\":false,\"x\":[\"0:00-6:00\",\"0:00-6:00\",\"6:00-9:00\",\"6:00-9:00\",\"6:00-9:00\",\"6:00-9:00\",\"9:00-12:00\",\"9:00-12:00\",\"12:00-15:00\",\"12:00-15:00\",\"15:00-19:00\",\"15:00-19:00\",\"19:00-24:00\",\"19:00-24:00\",\"19:00-24:00\",\"19:00-24:00\"],\"y\":[1.6666666666666667,1.6666666666666667,0.6666666666666666,0.6666666666666666,2.0,2.0,3.0,3.0,3.3333333333333335,3.3333333333333335,3.75,4.0,1.6,1.4,1.6,1.4],\"type\":\"box\"},{\"boxmean\":\"sd\",\"boxpoints\":\"all\",\"fillcolor\":\"rgba(255,255,255,0)\",\"hoveron\":\"points\",\"hovertemplate\":\"Time window=%{x}\\u003cbr\\u003eTrips per hour=%{y}\\u003cbr\\u003eRoute=%{name}\\u003cextra\\u003e\\u003c\\u002fextra\\u003e\",\"line\":{\"color\":\"rgba(255,255,255,0)\"},\"marker\":{\"color\":\"black\",\"size\":4},\"name\":\"82 Park Circle - Reisterstown Plaza\",\"pointpos\":0,\"showlegend\":false,\"x\":[\"0:00-6:00\",\"0:00-6:00\",\"6:00-9:00\",\"6:00-9:00\",\"9:00-12:00\",\"9:00-12:00\",\"12:00-15:00\",\"12:00-15:00\",\"15:00-19:00\",\"15:00-19:00\",\"19:00-24:00\",\"19:00-24:00\"],\"y\":[1.0,1.1666666666666667,3.0,3.0,3.6666666666666665,3.3333333333333335,3.3333333333333335,3.6666666666666665,3.5,3.5,2.4,2.4],\"type\":\"box\"},{\"boxmean\":\"sd\",\"boxpoints\":\"all\",\"fillcolor\":\"rgba(255,255,255,0)\",\"hoveron\":\"points\",\"hovertemplate\":\"Time window=%{x}\\u003cbr\\u003eTrips per hour=%{y}\\u003cbr\\u003eRoute=%{name}\\u003cextra\\u003e\\u003c\\u002fextra\\u003e\",\"line\":{\"color\":\"rgba(255,255,255,0)\"},\"marker\":{\"color\":\"black\",\"size\":4},\"name\":\"30 Rogers Ave - Hollander Ridge\",\"pointpos\":0,\"showlegend\":false,\"x\":[\"0:00-6:00\",\"0:00-6:00\",\"6:00-9:00\",\"6:00-9:00\",\"6:00-9:00\",\"6:00-9:00\",\"6:00-9:00\",\"6:00-9:00\",\"6:00-9:00\",\"9:00-12:00\",\"9:00-12:00\",\"12:00-15:00\",\"12:00-15:00\",\"12:00-15:00\",\"12:00-15:00\",\"12:00-15:00\",\"15:00-19:00\",\"15:00-19:00\",\"15:00-19:00\",\"15:00-19:00\",\"19:00-24:00\",\"19:00-24:00\"],\"y\":[1.6666666666666667,1.8333333333333333,5.333333333333333,0.3333333333333333,0.6666666666666666,0.3333333333333333,0.3333333333333333,0.3333333333333333,5.0,5.333333333333333,4.666666666666667,6.0,0.3333333333333333,0.6666666666666666,5.666666666666667,1.0,0.25,5.75,5.5,0.25,2.8,3.0],\"type\":\"box\"},{\"boxmean\":\"sd\",\"boxpoints\":\"all\",\"fillcolor\":\"rgba(255,255,255,0)\",\"hoveron\":\"points\",\"hovertemplate\":\"Time window=%{x}\\u003cbr\\u003eTrips per hour=%{y}\\u003cbr\\u003eRoute=%{name}\\u003cextra\\u003e\\u003c\\u002fextra\\u003e\",\"line\":{\"color\":\"rgba(255,255,255,0)\"},\"marker\":{\"color\":\"black\",\"size\":4},\"name\":\"65 Downtown - Dundalk\",\"pointpos\":0,\"showlegend\":false,\"x\":[\"0:00-6:00\",\"0:00-6:00\",\"0:00-6:00\",\"6:00-9:00\",\"6:00-9:00\",\"6:00-9:00\",\"6:00-9:00\",\"9:00-12:00\",\"9:00-12:00\",\"12:00-15:00\",\"12:00-15:00\",\"15:00-19:00\",\"15:00-19:00\",\"15:00-19:00\",\"15:00-19:00\",\"19:00-24:00\",\"19:00-24:00\",\"19:00-24:00\"],\"y\":[2.0,1.5,0.3333333333333333,0.6666666666666666,3.3333333333333335,1.0,2.3333333333333335,2.6666666666666665,3.0,2.3333333333333335,2.0,0.75,1.25,3.5,3.75,2.4,2.2,0.2],\"type\":\"box\"},{\"boxmean\":\"sd\",\"boxpoints\":\"all\",\"fillcolor\":\"rgba(255,255,255,0)\",\"hoveron\":\"points\",\"hovertemplate\":\"Time window=%{x}\\u003cbr\\u003eTrips per hour=%{y}\\u003cbr\\u003eRoute=%{name}\\u003cextra\\u003e\\u003c\\u002fextra\\u003e\",\"line\":{\"color\":\"rgba(255,255,255,0)\"},\"marker\":{\"color\":\"black\",\"size\":4},\"name\":\"83 Mondawmin - Old Court Station\",\"pointpos\":0,\"showlegend\":false,\"x\":[\"0:00-6:00\",\"0:00-6:00\",\"6:00-9:00\",\"6:00-9:00\",\"9:00-12:00\",\"9:00-12:00\",\"12:00-15:00\",\"12:00-15:00\",\"15:00-19:00\",\"15:00-19:00\",\"19:00-24:00\",\"19:00-24:00\"],\"y\":[1.6666666666666667,1.8333333333333333,4.0,4.666666666666667,3.6666666666666665,4.0,4.666666666666667,4.666666666666667,5.0,5.25,3.0,2.8],\"type\":\"box\"},{\"boxmean\":\"sd\",\"boxpoints\":\"all\",\"fillcolor\":\"rgba(255,255,255,0)\",\"hoveron\":\"points\",\"hovertemplate\":\"Time window=%{x}\\u003cbr\\u003eTrips per hour=%{y}\\u003cbr\\u003eRoute=%{name}\\u003cextra\\u003e\\u003c\\u002fextra\\u003e\",\"line\":{\"color\":\"rgba(255,255,255,0)\"},\"marker\":{\"color\":\"black\",\"size\":4},\"name\":\"CityLink PINK Cedonia - West Baltimore MARC\",\"pointpos\":0,\"showlegend\":false,\"x\":[\"0:00-6:00\",\"0:00-6:00\",\"6:00-9:00\",\"6:00-9:00\",\"9:00-12:00\",\"9:00-12:00\",\"12:00-15:00\",\"12:00-15:00\",\"12:00-15:00\",\"15:00-19:00\",\"15:00-19:00\",\"19:00-24:00\",\"19:00-24:00\"],\"y\":[2.6666666666666665,2.8333333333333335,6.0,5.666666666666667,7.0,7.0,7.0,7.0,0.3333333333333333,7.0,7.0,4.4,4.8],\"type\":\"box\"},{\"boxmean\":\"sd\",\"boxpoints\":\"all\",\"fillcolor\":\"rgba(255,255,255,0)\",\"hoveron\":\"points\",\"hovertemplate\":\"Time window=%{x}\\u003cbr\\u003eTrips per hour=%{y}\\u003cbr\\u003eRoute=%{name}\\u003cextra\\u003e\\u003c\\u002fextra\\u003e\",\"line\":{\"color\":\"rgba(255,255,255,0)\"},\"marker\":{\"color\":\"black\",\"size\":4},\"name\":\"150 Columbia - Downtown\\u002fHarbor East\",\"pointpos\":0,\"showlegend\":false,\"x\":[\"0:00-6:00\",\"6:00-9:00\",\"6:00-9:00\",\"15:00-19:00\",\"15:00-19:00\",\"19:00-24:00\"],\"y\":[0.16666666666666666,1.0,0.3333333333333333,0.25,0.75,0.2],\"type\":\"box\"},{\"boxmean\":\"sd\",\"boxpoints\":\"all\",\"fillcolor\":\"rgba(255,255,255,0)\",\"hoveron\":\"points\",\"hovertemplate\":\"Time window=%{x}\\u003cbr\\u003eTrips per hour=%{y}\\u003cbr\\u003eRoute=%{name}\\u003cextra\\u003e\\u003c\\u002fextra\\u003e\",\"line\":{\"color\":\"rgba(255,255,255,0)\"},\"marker\":{\"color\":\"black\",\"size\":4},\"name\":\"89 Rogers Ave - Owings Mills\",\"pointpos\":0,\"showlegend\":false,\"x\":[\"0:00-6:00\",\"0:00-6:00\",\"0:00-6:00\",\"6:00-9:00\",\"6:00-9:00\",\"6:00-9:00\",\"6:00-9:00\",\"9:00-12:00\",\"9:00-12:00\",\"12:00-15:00\",\"12:00-15:00\",\"12:00-15:00\",\"15:00-19:00\",\"15:00-19:00\",\"15:00-19:00\",\"15:00-19:00\",\"19:00-24:00\",\"19:00-24:00\"],\"y\":[0.6666666666666666,0.5,0.16666666666666666,1.3333333333333333,1.6666666666666667,1.0,1.3333333333333333,2.6666666666666665,2.6666666666666665,3.0,2.3333333333333335,0.6666666666666666,1.5,1.5,2.0,1.0,2.4,2.4],\"type\":\"box\"},{\"boxmean\":\"sd\",\"boxpoints\":\"all\",\"fillcolor\":\"rgba(255,255,255,0)\",\"hoveron\":\"points\",\"hovertemplate\":\"Time window=%{x}\\u003cbr\\u003eTrips per hour=%{y}\\u003cbr\\u003eRoute=%{name}\\u003cextra\\u003e\\u003c\\u002fextra\\u003e\",\"line\":{\"color\":\"rgba(255,255,255,0)\"},\"marker\":{\"color\":\"black\",\"size\":4},\"name\":\"34 Falls Rd\\u002fGreenspring- Westview\",\"pointpos\":0,\"showlegend\":false,\"x\":[\"0:00-6:00\",\"0:00-6:00\",\"6:00-9:00\",\"6:00-9:00\",\"6:00-9:00\",\"6:00-9:00\",\"9:00-12:00\",\"9:00-12:00\",\"12:00-15:00\",\"12:00-15:00\",\"15:00-19:00\",\"15:00-19:00\",\"15:00-19:00\",\"15:00-19:00\",\"19:00-24:00\",\"19:00-24:00\"],\"y\":[0.5,0.3333333333333333,1.3333333333333333,1.0,1.3333333333333333,1.0,2.3333333333333335,2.3333333333333335,2.3333333333333335,2.3333333333333335,0.5,0.5,1.75,1.75,2.0,2.2],\"type\":\"box\"},{\"boxmean\":\"sd\",\"boxpoints\":\"all\",\"fillcolor\":\"rgba(255,255,255,0)\",\"hoveron\":\"points\",\"hovertemplate\":\"Time window=%{x}\\u003cbr\\u003eTrips per hour=%{y}\\u003cbr\\u003eRoute=%{name}\\u003cextra\\u003e\\u003c\\u002fextra\\u003e\",\"line\":{\"color\":\"rgba(255,255,255,0)\"},\"marker\":{\"color\":\"black\",\"size\":4},\"name\":\"CityLink GOLD Walbrook Junction - Canton\",\"pointpos\":0,\"showlegend\":false,\"x\":[\"0:00-6:00\",\"0:00-6:00\",\"0:00-6:00\",\"0:00-6:00\",\"6:00-9:00\",\"6:00-9:00\",\"6:00-9:00\",\"6:00-9:00\",\"6:00-9:00\",\"6:00-9:00\",\"9:00-12:00\",\"9:00-12:00\",\"9:00-12:00\",\"9:00-12:00\",\"12:00-15:00\",\"12:00-15:00\",\"12:00-15:00\",\"12:00-15:00\",\"12:00-15:00\",\"12:00-15:00\",\"12:00-15:00\",\"12:00-15:00\",\"15:00-19:00\",\"15:00-19:00\",\"15:00-19:00\",\"15:00-19:00\",\"15:00-19:00\",\"15:00-19:00\",\"19:00-24:00\",\"19:00-24:00\",\"19:00-24:00\",\"19:00-24:00\"],\"y\":[1.5,1.3333333333333333,1.5,1.6666666666666667,3.3333333333333335,5.333333333333333,3.3333333333333335,6.666666666666667,0.6666666666666666,0.3333333333333333,6.333333333333333,3.6666666666666665,6.0,4.0,0.6666666666666666,0.3333333333333333,0.3333333333333333,4.0,4.0,0.6666666666666666,6.0,6.0,4.0,5.5,3.75,0.25,0.25,5.5,2.2,2.4,2.2,2.4],\"type\":\"box\"},{\"boxmean\":\"sd\",\"boxpoints\":\"all\",\"fillcolor\":\"rgba(255,255,255,0)\",\"hoveron\":\"points\",\"hovertemplate\":\"Time window=%{x}\\u003cbr\\u003eTrips per hour=%{y}\\u003cbr\\u003eRoute=%{name}\\u003cextra\\u003e\\u003c\\u002fextra\\u003e\",\"line\":{\"color\":\"rgba(255,255,255,0)\"},\"marker\":{\"color\":\"black\",\"size\":4},\"name\":\"37 Old Court - UMBC\\u002fCatonsville\",\"pointpos\":0,\"showlegend\":false,\"x\":[\"0:00-6:00\",\"0:00-6:00\",\"0:00-6:00\",\"0:00-6:00\",\"6:00-9:00\",\"6:00-9:00\",\"6:00-9:00\",\"6:00-9:00\",\"9:00-12:00\",\"9:00-12:00\",\"9:00-12:00\",\"9:00-12:00\",\"12:00-15:00\",\"12:00-15:00\",\"12:00-15:00\",\"12:00-15:00\",\"15:00-19:00\",\"15:00-19:00\",\"15:00-19:00\",\"15:00-19:00\",\"19:00-24:00\",\"19:00-24:00\",\"19:00-24:00\",\"19:00-24:00\"],\"y\":[0.3333333333333333,0.5,0.6666666666666666,0.5,2.0,2.0,2.0,2.0,2.3333333333333335,2.6666666666666665,2.3333333333333335,2.3333333333333335,2.3333333333333335,2.3333333333333335,2.6666666666666665,2.3333333333333335,2.5,2.0,2.0,2.25,1.0,1.2,1.4,1.2],\"type\":\"box\"},{\"boxmean\":\"sd\",\"boxpoints\":\"all\",\"fillcolor\":\"rgba(255,255,255,0)\",\"hoveron\":\"points\",\"hovertemplate\":\"Time window=%{x}\\u003cbr\\u003eTrips per hour=%{y}\\u003cbr\\u003eRoute=%{name}\\u003cextra\\u003e\\u003c\\u002fextra\\u003e\",\"line\":{\"color\":\"rgba(255,255,255,0)\"},\"marker\":{\"color\":\"black\",\"size\":4},\"name\":\"94 Fort McHenry - Sinai Hospital\",\"pointpos\":0,\"showlegend\":false,\"x\":[\"0:00-6:00\",\"0:00-6:00\",\"6:00-9:00\",\"6:00-9:00\",\"6:00-9:00\",\"9:00-12:00\",\"9:00-12:00\",\"12:00-15:00\",\"12:00-15:00\",\"12:00-15:00\",\"12:00-15:00\",\"15:00-19:00\",\"15:00-19:00\",\"15:00-19:00\",\"19:00-24:00\",\"19:00-24:00\"],\"y\":[1.3333333333333333,1.6666666666666667,2.6666666666666665,2.6666666666666665,0.6666666666666666,2.6666666666666665,3.0,3.0,0.3333333333333333,0.3333333333333333,3.0,3.0,0.5,3.0,2.4,2.2],\"type\":\"box\"},{\"boxmean\":\"sd\",\"boxpoints\":\"all\",\"fillcolor\":\"rgba(255,255,255,0)\",\"hoveron\":\"points\",\"hovertemplate\":\"Time window=%{x}\\u003cbr\\u003eTrips per hour=%{y}\\u003cbr\\u003eRoute=%{name}\\u003cextra\\u003e\\u003c\\u002fextra\\u003e\",\"line\":{\"color\":\"rgba(255,255,255,0)\"},\"marker\":{\"color\":\"black\",\"size\":4},\"name\":\"51 Towson - Downtown\",\"pointpos\":0,\"showlegend\":false,\"x\":[\"0:00-6:00\",\"0:00-6:00\",\"6:00-9:00\",\"6:00-9:00\",\"9:00-12:00\",\"9:00-12:00\",\"12:00-15:00\",\"12:00-15:00\",\"15:00-19:00\",\"15:00-19:00\",\"19:00-24:00\",\"19:00-24:00\"],\"y\":[0.5,0.5,3.0,3.0,2.3333333333333335,2.3333333333333335,2.6666666666666665,2.6666666666666665,3.5,3.25,2.4,2.2],\"type\":\"box\"},{\"boxmean\":\"sd\",\"boxpoints\":\"all\",\"fillcolor\":\"rgba(255,255,255,0)\",\"hoveron\":\"points\",\"hovertemplate\":\"Time window=%{x}\\u003cbr\\u003eTrips per hour=%{y}\\u003cbr\\u003eRoute=%{name}\\u003cextra\\u003e\\u003c\\u002fextra\\u003e\",\"line\":{\"color\":\"rgba(255,255,255,0)\"},\"marker\":{\"color\":\"black\",\"size\":4},\"name\":\"54 State Center - Carney\\u002fHillendale\",\"pointpos\":0,\"showlegend\":false,\"x\":[\"0:00-6:00\",\"0:00-6:00\",\"0:00-6:00\",\"0:00-6:00\",\"6:00-9:00\",\"6:00-9:00\",\"6:00-9:00\",\"6:00-9:00\",\"6:00-9:00\",\"6:00-9:00\",\"6:00-9:00\",\"9:00-12:00\",\"9:00-12:00\",\"9:00-12:00\",\"9:00-12:00\",\"12:00-15:00\",\"12:00-15:00\",\"12:00-15:00\",\"12:00-15:00\",\"12:00-15:00\",\"15:00-19:00\",\"15:00-19:00\",\"15:00-19:00\",\"15:00-19:00\",\"15:00-19:00\",\"15:00-19:00\",\"15:00-19:00\",\"15:00-19:00\",\"19:00-24:00\",\"19:00-24:00\",\"19:00-24:00\",\"19:00-24:00\"],\"y\":[1.5,1.1666666666666667,1.5,1.6666666666666667,3.0,2.6666666666666665,0.3333333333333333,3.0,0.3333333333333333,0.3333333333333333,3.0,3.0,3.0,3.0,3.0,3.0,0.3333333333333333,3.0,3.0,3.0,2.75,0.25,2.75,2.75,0.25,0.25,2.5,0.25,2.0,2.0,2.0,2.0],\"type\":\"box\"},{\"boxmean\":\"sd\",\"boxpoints\":\"all\",\"fillcolor\":\"rgba(255,255,255,0)\",\"hoveron\":\"points\",\"hovertemplate\":\"Time window=%{x}\\u003cbr\\u003eTrips per hour=%{y}\\u003cbr\\u003eRoute=%{name}\\u003cextra\\u003e\\u003c\\u002fextra\\u003e\",\"line\":{\"color\":\"rgba(255,255,255,0)\"},\"marker\":{\"color\":\"black\",\"size\":4},\"name\":\"75 Patapsco Station - Arundel Mills\",\"pointpos\":0,\"showlegend\":false,\"x\":[\"0:00-6:00\",\"0:00-6:00\",\"0:00-6:00\",\"0:00-6:00\",\"6:00-9:00\",\"6:00-9:00\",\"6:00-9:00\",\"6:00-9:00\",\"9:00-12:00\",\"9:00-12:00\",\"9:00-12:00\",\"12:00-15:00\",\"12:00-15:00\",\"15:00-19:00\",\"15:00-19:00\",\"19:00-24:00\",\"19:00-24:00\",\"19:00-24:00\",\"19:00-24:00\"],\"y\":[0.5,2.0,2.0,0.5,1.0,1.3333333333333333,1.6666666666666667,1.6666666666666667,2.0,2.0,0.3333333333333333,3.3333333333333335,2.6666666666666665,2.75,3.0,1.4,0.8,0.8,1.4],\"type\":\"box\"},{\"boxmean\":\"sd\",\"boxpoints\":\"all\",\"fillcolor\":\"rgba(255,255,255,0)\",\"hoveron\":\"points\",\"hovertemplate\":\"Time window=%{x}\\u003cbr\\u003eTrips per hour=%{y}\\u003cbr\\u003eRoute=%{name}\\u003cextra\\u003e\\u003c\\u002fextra\\u003e\",\"line\":{\"color\":\"rgba(255,255,255,0)\"},\"marker\":{\"color\":\"black\",\"size\":4},\"name\":\"95 Downtown - Roland Park\",\"pointpos\":0,\"showlegend\":false,\"x\":[\"0:00-6:00\",\"0:00-6:00\",\"6:00-9:00\",\"6:00-9:00\",\"6:00-9:00\",\"12:00-15:00\",\"15:00-19:00\",\"15:00-19:00\",\"19:00-24:00\",\"19:00-24:00\"],\"y\":[0.16666666666666666,0.3333333333333333,2.0,2.0,0.3333333333333333,0.3333333333333333,2.0,1.75,0.2,0.2],\"type\":\"box\"},{\"boxmean\":\"sd\",\"boxpoints\":\"all\",\"fillcolor\":\"rgba(255,255,255,0)\",\"hoveron\":\"points\",\"hovertemplate\":\"Time window=%{x}\\u003cbr\\u003eTrips per hour=%{y}\\u003cbr\\u003eRoute=%{name}\\u003cextra\\u003e\\u003c\\u002fextra\\u003e\",\"line\":{\"color\":\"rgba(255,255,255,0)\"},\"marker\":{\"color\":\"black\",\"size\":4},\"name\":\"CityLink BLUE CMS - Johns Hopkins Bayview\",\"pointpos\":0,\"showlegend\":false,\"x\":[\"0:00-6:00\",\"0:00-6:00\",\"0:00-6:00\",\"0:00-6:00\",\"6:00-9:00\",\"6:00-9:00\",\"6:00-9:00\",\"6:00-9:00\",\"6:00-9:00\",\"9:00-12:00\",\"9:00-12:00\",\"9:00-12:00\",\"9:00-12:00\",\"12:00-15:00\",\"12:00-15:00\",\"12:00-15:00\",\"12:00-15:00\",\"12:00-15:00\",\"12:00-15:00\",\"15:00-19:00\",\"15:00-19:00\",\"15:00-19:00\",\"15:00-19:00\",\"15:00-19:00\",\"19:00-24:00\",\"19:00-24:00\",\"19:00-24:00\",\"19:00-24:00\"],\"y\":[1.1666666666666667,1.6666666666666667,1.0,1.5,0.3333333333333333,5.0,1.3333333333333333,4.333333333333333,1.0,2.0,6.0,5.666666666666667,2.0,6.333333333333333,0.3333333333333333,6.0,2.0,0.3333333333333333,2.0,0.25,5.75,1.75,5.75,2.0,1.2,2.8,2.6,1.4],\"type\":\"box\"},{\"boxmean\":\"sd\",\"boxpoints\":\"all\",\"fillcolor\":\"rgba(255,255,255,0)\",\"hoveron\":\"points\",\"hovertemplate\":\"Time window=%{x}\\u003cbr\\u003eTrips per hour=%{y}\\u003cbr\\u003eRoute=%{name}\\u003cextra\\u003e\\u003c\\u002fextra\\u003e\",\"line\":{\"color\":\"rgba(255,255,255,0)\"},\"marker\":{\"color\":\"black\",\"size\":4},\"name\":\"53 State Center - Towson\",\"pointpos\":0,\"showlegend\":false,\"x\":[\"0:00-6:00\",\"0:00-6:00\",\"0:00-6:00\",\"0:00-6:00\",\"6:00-9:00\",\"6:00-9:00\",\"6:00-9:00\",\"6:00-9:00\",\"6:00-9:00\",\"6:00-9:00\",\"9:00-12:00\",\"9:00-12:00\",\"9:00-12:00\",\"9:00-12:00\",\"12:00-15:00\",\"12:00-15:00\",\"12:00-15:00\",\"12:00-15:00\",\"12:00-15:00\",\"12:00-15:00\",\"12:00-15:00\",\"15:00-19:00\",\"15:00-19:00\",\"15:00-19:00\",\"15:00-19:00\",\"15:00-19:00\",\"19:00-24:00\",\"19:00-24:00\",\"19:00-24:00\",\"19:00-24:00\"],\"y\":[0.8333333333333334,1.0,0.6666666666666666,0.8333333333333334,3.0,3.0,0.3333333333333333,0.3333333333333333,2.6666666666666665,3.0,2.0,2.0,2.0,1.6666666666666667,2.0,2.3333333333333335,2.6666666666666665,2.3333333333333335,0.6666666666666666,0.6666666666666666,0.3333333333333333,2.5,0.25,2.75,2.5,2.75,1.4,1.8,2.0,1.8],\"type\":\"box\"},{\"boxmean\":\"sd\",\"boxpoints\":\"all\",\"fillcolor\":\"rgba(255,255,255,0)\",\"hoveron\":\"points\",\"hovertemplate\":\"Time window=%{x}\\u003cbr\\u003eTrips per hour=%{y}\\u003cbr\\u003eRoute=%{name}\\u003cextra\\u003e\\u003c\\u002fextra\\u003e\",\"line\":{\"color\":\"rgba(255,255,255,0)\"},\"marker\":{\"color\":\"black\",\"size\":4},\"name\":\"115 Downtown - Perry Hall\",\"pointpos\":0,\"showlegend\":false,\"x\":[\"0:00-6:00\",\"6:00-9:00\",\"6:00-9:00\",\"15:00-19:00\",\"15:00-19:00\"],\"y\":[0.16666666666666666,1.0,1.3333333333333333,1.0,1.0],\"type\":\"box\"},{\"boxmean\":\"sd\",\"boxpoints\":\"all\",\"fillcolor\":\"rgba(255,255,255,0)\",\"hoveron\":\"points\",\"hovertemplate\":\"Time window=%{x}\\u003cbr\\u003eTrips per hour=%{y}\\u003cbr\\u003eRoute=%{name}\\u003cextra\\u003e\\u003c\\u002fextra\\u003e\",\"line\":{\"color\":\"rgba(255,255,255,0)\"},\"marker\":{\"color\":\"black\",\"size\":4},\"name\":\"93 Towson - Hunt Valley\",\"pointpos\":0,\"showlegend\":false,\"x\":[\"0:00-6:00\",\"0:00-6:00\",\"6:00-9:00\",\"6:00-9:00\",\"9:00-12:00\",\"9:00-12:00\",\"12:00-15:00\",\"12:00-15:00\",\"15:00-19:00\",\"15:00-19:00\",\"19:00-24:00\",\"19:00-24:00\"],\"y\":[0.5,0.6666666666666666,3.3333333333333335,3.0,2.3333333333333335,2.6666666666666665,2.6666666666666665,2.3333333333333335,2.75,3.25,2.4,2.4],\"type\":\"box\"},{\"boxmean\":\"sd\",\"boxpoints\":\"all\",\"fillcolor\":\"rgba(255,255,255,0)\",\"hoveron\":\"points\",\"hovertemplate\":\"Time window=%{x}\\u003cbr\\u003eTrips per hour=%{y}\\u003cbr\\u003eRoute=%{name}\\u003cextra\\u003e\\u003c\\u002fextra\\u003e\",\"line\":{\"color\":\"rgba(255,255,255,0)\"},\"marker\":{\"color\":\"black\",\"size\":4},\"name\":\"CityLink LIME NW Hospital - Harbor East\",\"pointpos\":0,\"showlegend\":false,\"x\":[\"0:00-6:00\",\"0:00-6:00\",\"0:00-6:00\",\"0:00-6:00\",\"6:00-9:00\",\"6:00-9:00\",\"6:00-9:00\",\"6:00-9:00\",\"9:00-12:00\",\"9:00-12:00\",\"9:00-12:00\",\"9:00-12:00\",\"12:00-15:00\",\"12:00-15:00\",\"12:00-15:00\",\"12:00-15:00\",\"15:00-19:00\",\"15:00-19:00\",\"15:00-19:00\",\"15:00-19:00\",\"19:00-24:00\",\"19:00-24:00\",\"19:00-24:00\",\"19:00-24:00\"],\"y\":[1.0,1.6666666666666667,0.8333333333333334,1.6666666666666667,4.0,4.0,3.6666666666666665,3.3333333333333335,4.666666666666667,3.3333333333333335,4.333333333333333,3.0,3.3333333333333335,3.3333333333333335,5.333333333333333,4.666666666666667,4.0,3.5,3.75,3.75,2.2,2.6,2.2,2.2],\"type\":\"box\"},{\"boxmean\":\"sd\",\"boxpoints\":\"all\",\"fillcolor\":\"rgba(255,255,255,0)\",\"hoveron\":\"points\",\"hovertemplate\":\"Time window=%{x}\\u003cbr\\u003eTrips per hour=%{y}\\u003cbr\\u003eRoute=%{name}\\u003cextra\\u003e\\u003c\\u002fextra\\u003e\",\"line\":{\"color\":\"rgba(255,255,255,0)\"},\"marker\":{\"color\":\"black\",\"size\":4},\"name\":\"59 Moravia - Whispering Woods\",\"pointpos\":0,\"showlegend\":false,\"x\":[\"0:00-6:00\",\"0:00-6:00\",\"6:00-9:00\",\"6:00-9:00\",\"6:00-9:00\",\"9:00-12:00\",\"9:00-12:00\",\"12:00-15:00\",\"12:00-15:00\",\"12:00-15:00\",\"15:00-19:00\",\"15:00-19:00\",\"19:00-24:00\",\"19:00-24:00\"],\"y\":[0.16666666666666666,0.16666666666666666,2.0,0.6666666666666666,2.0,2.3333333333333335,2.0,2.0,2.0,1.0,1.75,2.25,2.0,2.0],\"type\":\"box\"},{\"boxmean\":\"sd\",\"boxpoints\":\"all\",\"fillcolor\":\"rgba(255,255,255,0)\",\"hoveron\":\"points\",\"hovertemplate\":\"Time window=%{x}\\u003cbr\\u003eTrips per hour=%{y}\\u003cbr\\u003eRoute=%{name}\\u003cextra\\u003e\\u003c\\u002fextra\\u003e\",\"line\":{\"color\":\"rgba(255,255,255,0)\"},\"marker\":{\"color\":\"black\",\"size\":4},\"name\":\"91 Mondawmin - Sinai Hospital\",\"pointpos\":0,\"showlegend\":false,\"x\":[\"0:00-6:00\",\"0:00-6:00\",\"6:00-9:00\",\"6:00-9:00\",\"9:00-12:00\",\"9:00-12:00\",\"12:00-15:00\",\"12:00-15:00\",\"15:00-19:00\",\"15:00-19:00\",\"19:00-24:00\",\"19:00-24:00\"],\"y\":[1.3333333333333333,1.1666666666666667,3.0,2.6666666666666665,3.0,3.0,2.6666666666666665,2.6666666666666665,2.75,3.0,2.6,2.8],\"type\":\"box\"},{\"boxmean\":\"sd\",\"boxpoints\":\"all\",\"fillcolor\":\"rgba(255,255,255,0)\",\"hoveron\":\"points\",\"hovertemplate\":\"Time window=%{x}\\u003cbr\\u003eTrips per hour=%{y}\\u003cbr\\u003eRoute=%{name}\\u003cextra\\u003e\\u003c\\u002fextra\\u003e\",\"line\":{\"color\":\"rgba(255,255,255,0)\"},\"marker\":{\"color\":\"black\",\"size\":4},\"name\":\"36 Towson Town Center - Fox Ridge\",\"pointpos\":0,\"showlegend\":false,\"x\":[\"0:00-6:00\",\"0:00-6:00\",\"6:00-9:00\",\"6:00-9:00\",\"9:00-12:00\",\"9:00-12:00\",\"12:00-15:00\",\"12:00-15:00\",\"15:00-19:00\",\"15:00-19:00\",\"19:00-24:00\",\"19:00-24:00\"],\"y\":[0.3333333333333333,0.5,3.0,3.0,2.0,2.0,2.6666666666666665,2.6666666666666665,2.5,2.75,1.8,2.0],\"type\":\"box\"},{\"boxmean\":\"sd\",\"boxpoints\":\"all\",\"fillcolor\":\"rgba(255,255,255,0)\",\"hoveron\":\"points\",\"hovertemplate\":\"Time window=%{x}\\u003cbr\\u003eTrips per hour=%{y}\\u003cbr\\u003eRoute=%{name}\\u003cextra\\u003e\\u003c\\u002fextra\\u003e\",\"line\":{\"color\":\"rgba(255,255,255,0)\"},\"marker\":{\"color\":\"black\",\"size\":4},\"name\":\"CityLink GREEN Downtown - Towson\",\"pointpos\":0,\"showlegend\":false,\"x\":[\"0:00-6:00\",\"0:00-6:00\",\"6:00-9:00\",\"6:00-9:00\",\"6:00-9:00\",\"9:00-12:00\",\"9:00-12:00\",\"12:00-15:00\",\"12:00-15:00\",\"12:00-15:00\",\"12:00-15:00\",\"12:00-15:00\",\"12:00-15:00\",\"15:00-19:00\",\"15:00-19:00\",\"19:00-24:00\",\"19:00-24:00\"],\"y\":[2.0,2.1666666666666665,5.333333333333333,0.3333333333333333,5.0,7.0,7.0,0.3333333333333333,7.0,7.0,0.3333333333333333,0.3333333333333333,0.3333333333333333,6.25,6.25,3.2,3.2],\"type\":\"box\"},{\"boxmean\":\"sd\",\"boxpoints\":\"all\",\"fillcolor\":\"rgba(255,255,255,0)\",\"hoveron\":\"points\",\"hovertemplate\":\"Time window=%{x}\\u003cbr\\u003eTrips per hour=%{y}\\u003cbr\\u003eRoute=%{name}\\u003cextra\\u003e\\u003c\\u002fextra\\u003e\",\"line\":{\"color\":\"rgba(255,255,255,0)\"},\"marker\":{\"color\":\"black\",\"size\":4},\"name\":\"56 Downtown - White Marsh\",\"pointpos\":0,\"showlegend\":false,\"x\":[\"0:00-6:00\",\"6:00-9:00\",\"9:00-12:00\",\"12:00-15:00\",\"15:00-19:00\",\"19:00-24:00\"],\"y\":[1.8333333333333333,5.0,4.333333333333333,5.333333333333333,5.0,2.8],\"type\":\"box\"},{\"boxmean\":\"sd\",\"boxpoints\":\"all\",\"fillcolor\":\"rgba(255,255,255,0)\",\"hoveron\":\"points\",\"hovertemplate\":\"Time window=%{x}\\u003cbr\\u003eTrips per hour=%{y}\\u003cbr\\u003eRoute=%{name}\\u003cextra\\u003e\\u003c\\u002fextra\\u003e\",\"line\":{\"color\":\"rgba(255,255,255,0)\"},\"marker\":{\"color\":\"black\",\"size\":4},\"name\":\"73 State Center - Patapsco Station\",\"pointpos\":0,\"showlegend\":false,\"x\":[\"0:00-6:00\",\"0:00-6:00\",\"6:00-9:00\",\"6:00-9:00\",\"9:00-12:00\",\"9:00-12:00\",\"12:00-15:00\",\"12:00-15:00\",\"15:00-19:00\",\"15:00-19:00\",\"19:00-24:00\",\"19:00-24:00\"],\"y\":[1.3333333333333333,1.5,3.3333333333333335,3.3333333333333335,2.6666666666666665,2.6666666666666665,2.6666666666666665,3.0,2.75,3.25,2.4,2.6],\"type\":\"box\"},{\"boxmean\":\"sd\",\"boxpoints\":\"all\",\"fillcolor\":\"rgba(255,255,255,0)\",\"hoveron\":\"points\",\"hovertemplate\":\"Time window=%{x}\\u003cbr\\u003eTrips per hour=%{y}\\u003cbr\\u003eRoute=%{name}\\u003cextra\\u003e\\u003c\\u002fextra\\u003e\",\"line\":{\"color\":\"rgba(255,255,255,0)\"},\"marker\":{\"color\":\"black\",\"size\":4},\"name\":\"78 Downtown - CMS\",\"pointpos\":0,\"showlegend\":false,\"x\":[\"0:00-6:00\",\"0:00-6:00\",\"6:00-9:00\",\"6:00-9:00\",\"9:00-12:00\",\"9:00-12:00\",\"12:00-15:00\",\"12:00-15:00\",\"12:00-15:00\",\"15:00-19:00\",\"15:00-19:00\",\"19:00-24:00\",\"19:00-24:00\"],\"y\":[1.3333333333333333,1.5,5.333333333333333,6.0,5.0,5.0,5.333333333333333,5.0,0.3333333333333333,5.5,5.75,3.0,3.4],\"type\":\"box\"},{\"boxmean\":\"sd\",\"boxpoints\":\"all\",\"fillcolor\":\"rgba(255,255,255,0)\",\"hoveron\":\"points\",\"hovertemplate\":\"Time window=%{x}\\u003cbr\\u003eTrips per hour=%{y}\\u003cbr\\u003eRoute=%{name}\\u003cextra\\u003e\\u003c\\u002fextra\\u003e\",\"line\":{\"color\":\"rgba(255,255,255,0)\"},\"marker\":{\"color\":\"black\",\"size\":4},\"name\":\"CityLink SILVER Curtis Bay - Hopkins\\u002fMorgan State\",\"pointpos\":0,\"showlegend\":false,\"x\":[\"0:00-6:00\",\"0:00-6:00\",\"0:00-6:00\",\"0:00-6:00\",\"6:00-9:00\",\"6:00-9:00\",\"6:00-9:00\",\"6:00-9:00\",\"6:00-9:00\",\"9:00-12:00\",\"9:00-12:00\",\"9:00-12:00\",\"9:00-12:00\",\"12:00-15:00\",\"12:00-15:00\",\"12:00-15:00\",\"12:00-15:00\",\"12:00-15:00\",\"12:00-15:00\",\"12:00-15:00\",\"15:00-19:00\",\"15:00-19:00\",\"15:00-19:00\",\"15:00-19:00\",\"19:00-24:00\",\"19:00-24:00\",\"19:00-24:00\",\"19:00-24:00\"],\"y\":[1.5,0.8333333333333334,1.5,1.0,3.3333333333333335,4.0,4.0,3.3333333333333335,0.3333333333333333,3.3333333333333335,3.6666666666666665,3.6666666666666665,3.6666666666666665,0.3333333333333333,3.3333333333333335,3.3333333333333335,4.0,0.6666666666666666,0.3333333333333333,3.3333333333333335,3.75,4.0,3.75,4.0,2.6,2.2,2.8,1.8],\"type\":\"box\"},{\"boxmean\":\"sd\",\"boxpoints\":\"all\",\"fillcolor\":\"rgba(255,255,255,0)\",\"hoveron\":\"points\",\"hovertemplate\":\"Time window=%{x}\\u003cbr\\u003eTrips per hour=%{y}\\u003cbr\\u003eRoute=%{name}\\u003cextra\\u003e\\u003c\\u002fextra\\u003e\",\"line\":{\"color\":\"rgba(255,255,255,0)\"},\"marker\":{\"color\":\"black\",\"size\":4},\"name\":\"76 CCBC - Downtown\",\"pointpos\":0,\"showlegend\":false,\"x\":[\"0:00-6:00\",\"0:00-6:00\",\"0:00-6:00\",\"0:00-6:00\",\"6:00-9:00\",\"6:00-9:00\",\"6:00-9:00\",\"6:00-9:00\",\"9:00-12:00\",\"9:00-12:00\",\"12:00-15:00\",\"12:00-15:00\",\"12:00-15:00\",\"12:00-15:00\",\"15:00-19:00\",\"15:00-19:00\",\"15:00-19:00\",\"15:00-19:00\",\"19:00-24:00\",\"19:00-24:00\",\"19:00-24:00\",\"19:00-24:00\"],\"y\":[0.5,1.1666666666666667,0.5,1.1666666666666667,2.6666666666666665,3.3333333333333335,1.0,1.3333333333333333,4.0,3.6666666666666665,3.6666666666666665,0.6666666666666666,3.0,0.6666666666666666,1.0,3.25,1.0,3.25,2.2,2.8,0.8,0.4],\"type\":\"box\"},{\"boxmean\":\"sd\",\"boxpoints\":\"all\",\"fillcolor\":\"rgba(255,255,255,0)\",\"hoveron\":\"points\",\"hovertemplate\":\"Time window=%{x}\\u003cbr\\u003eTrips per hour=%{y}\\u003cbr\\u003eRoute=%{name}\\u003cextra\\u003e\\u003c\\u002fextra\\u003e\",\"line\":{\"color\":\"rgba(255,255,255,0)\"},\"marker\":{\"color\":\"black\",\"size\":4},\"name\":\"70 Patapsco Station - Annapolis\",\"pointpos\":0,\"showlegend\":false,\"x\":[\"0:00-6:00\",\"0:00-6:00\",\"0:00-6:00\",\"0:00-6:00\",\"0:00-6:00\",\"0:00-6:00\",\"6:00-9:00\",\"6:00-9:00\",\"6:00-9:00\",\"6:00-9:00\",\"9:00-12:00\",\"9:00-12:00\",\"12:00-15:00\",\"12:00-15:00\",\"15:00-19:00\",\"15:00-19:00\",\"19:00-24:00\",\"19:00-24:00\",\"19:00-24:00\",\"19:00-24:00\",\"19:00-24:00\"],\"y\":[0.3333333333333333,0.16666666666666666,0.3333333333333333,0.16666666666666666,0.16666666666666666,0.16666666666666666,1.0,0.6666666666666666,1.0,0.6666666666666666,2.0,1.6666666666666667,2.0,2.0,2.0,1.75,0.6,0.4,0.6,0.6,1.0],\"type\":\"box\"},{\"boxmean\":\"sd\",\"boxpoints\":\"all\",\"fillcolor\":\"rgba(255,255,255,0)\",\"hoveron\":\"points\",\"hovertemplate\":\"Time window=%{x}\\u003cbr\\u003eTrips per hour=%{y}\\u003cbr\\u003eRoute=%{name}\\u003cextra\\u003e\\u003c\\u002fextra\\u003e\",\"line\":{\"color\":\"rgba(255,255,255,0)\"},\"marker\":{\"color\":\"black\",\"size\":4},\"name\":\"163 West Baltimore MARC - Tradepoint\",\"pointpos\":0,\"showlegend\":false,\"x\":[\"0:00-6:00\",\"0:00-6:00\",\"6:00-9:00\",\"6:00-9:00\",\"9:00-12:00\",\"9:00-12:00\",\"12:00-15:00\",\"12:00-15:00\",\"15:00-19:00\",\"15:00-19:00\",\"19:00-24:00\",\"19:00-24:00\"],\"y\":[3.0,2.6666666666666665,5.333333333333333,4.666666666666667,2.3333333333333335,2.3333333333333335,2.0,2.6666666666666665,6.0,6.0,2.4,2.0],\"type\":\"box\"},{\"boxmean\":\"sd\",\"boxpoints\":\"all\",\"fillcolor\":\"rgba(255,255,255,0)\",\"hoveron\":\"points\",\"hovertemplate\":\"Time window=%{x}\\u003cbr\\u003eTrips per hour=%{y}\\u003cbr\\u003eRoute=%{name}\\u003cextra\\u003e\\u003c\\u002fextra\\u003e\",\"line\":{\"color\":\"rgba(255,255,255,0)\"},\"marker\":{\"color\":\"black\",\"size\":4},\"name\":\"79 Mondawmin - CMS\",\"pointpos\":0,\"showlegend\":false,\"x\":[\"0:00-6:00\",\"0:00-6:00\",\"6:00-9:00\",\"6:00-9:00\",\"9:00-12:00\",\"9:00-12:00\",\"12:00-15:00\",\"12:00-15:00\",\"15:00-19:00\",\"15:00-19:00\",\"19:00-24:00\",\"19:00-24:00\"],\"y\":[0.3333333333333333,0.3333333333333333,3.3333333333333335,3.3333333333333335,2.3333333333333335,2.3333333333333335,2.6666666666666665,2.6666666666666665,3.0,3.0,2.4,2.4],\"type\":\"box\"},{\"boxmean\":\"sd\",\"boxpoints\":\"all\",\"fillcolor\":\"rgba(255,255,255,0)\",\"hoveron\":\"points\",\"hovertemplate\":\"Time window=%{x}\\u003cbr\\u003eTrips per hour=%{y}\\u003cbr\\u003eRoute=%{name}\\u003cextra\\u003e\\u003c\\u002fextra\\u003e\",\"line\":{\"color\":\"rgba(255,255,255,0)\"},\"marker\":{\"color\":\"black\",\"size\":4},\"name\":\"CityLink YELLOW Mondawmin - Patapsco\",\"pointpos\":0,\"showlegend\":false,\"x\":[\"0:00-6:00\",\"0:00-6:00\",\"0:00-6:00\",\"0:00-6:00\",\"0:00-6:00\",\"6:00-9:00\",\"6:00-9:00\",\"6:00-9:00\",\"6:00-9:00\",\"6:00-9:00\",\"6:00-9:00\",\"9:00-12:00\",\"9:00-12:00\",\"9:00-12:00\",\"9:00-12:00\",\"9:00-12:00\",\"12:00-15:00\",\"12:00-15:00\",\"12:00-15:00\",\"12:00-15:00\",\"15:00-19:00\",\"15:00-19:00\",\"15:00-19:00\",\"15:00-19:00\",\"19:00-24:00\",\"19:00-24:00\",\"19:00-24:00\",\"19:00-24:00\",\"19:00-24:00\",\"19:00-24:00\"],\"y\":[0.16666666666666666,2.1666666666666665,2.0,0.3333333333333333,0.16666666666666666,2.3333333333333335,3.0,2.0,1.3333333333333333,3.0,2.3333333333333335,4.0,0.3333333333333333,3.0,3.0,3.6666666666666665,3.6666666666666665,3.6666666666666665,3.6666666666666665,3.6666666666666665,3.75,3.75,3.25,4.0,1.8,1.6,1.6,1.2,0.8,1.0],\"type\":\"box\"},{\"boxmean\":\"sd\",\"boxpoints\":\"all\",\"fillcolor\":\"rgba(255,255,255,0)\",\"hoveron\":\"points\",\"hovertemplate\":\"Time window=%{x}\\u003cbr\\u003eTrips per hour=%{y}\\u003cbr\\u003eRoute=%{name}\\u003cextra\\u003e\\u003c\\u002fextra\\u003e\",\"line\":{\"color\":\"rgba(255,255,255,0)\"},\"marker\":{\"color\":\"black\",\"size\":4},\"name\":\"32 Catonsville - Patapsco Station\",\"pointpos\":0,\"showlegend\":false,\"x\":[\"0:00-6:00\",\"0:00-6:00\",\"6:00-9:00\",\"6:00-9:00\",\"9:00-12:00\",\"9:00-12:00\",\"12:00-15:00\",\"12:00-15:00\",\"15:00-19:00\",\"15:00-19:00\",\"19:00-24:00\",\"19:00-24:00\"],\"y\":[0.3333333333333333,0.3333333333333333,2.6666666666666665,2.6666666666666665,2.6666666666666665,3.0,2.6666666666666665,2.6666666666666665,2.75,2.5,2.2,2.2],\"type\":\"box\"},{\"boxmean\":\"sd\",\"boxpoints\":\"all\",\"fillcolor\":\"rgba(255,255,255,0)\",\"hoveron\":\"points\",\"hovertemplate\":\"Time window=%{x}\\u003cbr\\u003eTrips per hour=%{y}\\u003cbr\\u003eRoute=%{name}\\u003cextra\\u003e\\u003c\\u002fextra\\u003e\",\"line\":{\"color\":\"rgba(255,255,255,0)\"},\"marker\":{\"color\":\"black\",\"size\":4},\"name\":\"28 Moravia - Rogers Ave Station\",\"pointpos\":0,\"showlegend\":false,\"x\":[\"0:00-6:00\",\"0:00-6:00\",\"6:00-9:00\",\"6:00-9:00\",\"6:00-9:00\",\"6:00-9:00\",\"9:00-12:00\",\"9:00-12:00\",\"12:00-15:00\",\"12:00-15:00\",\"12:00-15:00\",\"12:00-15:00\",\"12:00-15:00\",\"15:00-19:00\",\"15:00-19:00\",\"19:00-24:00\",\"19:00-24:00\"],\"y\":[0.5,0.6666666666666666,4.666666666666667,0.6666666666666666,4.333333333333333,1.0,3.0,3.0,0.6666666666666666,3.0,3.0,0.6666666666666666,0.3333333333333333,4.75,4.75,2.8,2.8],\"type\":\"box\"},{\"boxmean\":\"sd\",\"boxpoints\":\"all\",\"fillcolor\":\"rgba(255,255,255,0)\",\"hoveron\":\"points\",\"hovertemplate\":\"Time window=%{x}\\u003cbr\\u003eTrips per hour=%{y}\\u003cbr\\u003eRoute=%{name}\\u003cextra\\u003e\\u003c\\u002fextra\\u003e\",\"line\":{\"color\":\"rgba(255,255,255,0)\"},\"marker\":{\"color\":\"black\",\"size\":4},\"name\":\"26 Patapsco Station - Mondawmin\",\"pointpos\":0,\"showlegend\":false,\"x\":[\"0:00-6:00\",\"0:00-6:00\",\"6:00-9:00\",\"6:00-9:00\",\"6:00-9:00\",\"9:00-12:00\",\"9:00-12:00\",\"12:00-15:00\",\"12:00-15:00\",\"12:00-15:00\",\"12:00-15:00\",\"15:00-19:00\",\"15:00-19:00\",\"19:00-24:00\",\"19:00-24:00\"],\"y\":[1.3333333333333333,1.5,5.333333333333333,5.0,0.3333333333333333,5.666666666666667,6.0,5.666666666666667,0.3333333333333333,5.666666666666667,0.3333333333333333,5.5,5.25,3.0,3.2],\"type\":\"box\"},{\"boxmean\":\"sd\",\"boxpoints\":\"all\",\"fillcolor\":\"rgba(255,255,255,0)\",\"hoveron\":\"points\",\"hovertemplate\":\"Time window=%{x}\\u003cbr\\u003eTrips per hour=%{y}\\u003cbr\\u003eRoute=%{name}\\u003cextra\\u003e\\u003c\\u002fextra\\u003e\",\"line\":{\"color\":\"rgba(255,255,255,0)\"},\"marker\":{\"color\":\"black\",\"size\":4},\"name\":\"22 Mondawmin - Bayview\",\"pointpos\":0,\"showlegend\":false,\"x\":[\"0:00-6:00\",\"0:00-6:00\",\"6:00-9:00\",\"6:00-9:00\",\"6:00-9:00\",\"6:00-9:00\",\"6:00-9:00\",\"6:00-9:00\",\"9:00-12:00\",\"9:00-12:00\",\"12:00-15:00\",\"12:00-15:00\",\"12:00-15:00\",\"12:00-15:00\",\"12:00-15:00\",\"12:00-15:00\",\"12:00-15:00\",\"12:00-15:00\",\"12:00-15:00\",\"12:00-15:00\",\"15:00-19:00\",\"15:00-19:00\",\"15:00-19:00\",\"15:00-19:00\",\"15:00-19:00\",\"19:00-24:00\",\"19:00-24:00\"],\"y\":[2.1666666666666665,2.3333333333333335,1.0,7.333333333333333,0.6666666666666666,0.6666666666666666,0.3333333333333333,7.0,5.666666666666667,5.666666666666667,6.0,0.3333333333333333,0.6666666666666666,0.6666666666666666,0.3333333333333333,6.0,0.3333333333333333,1.0,1.0,0.3333333333333333,7.25,0.25,0.25,0.25,7.25,3.6,3.4],\"type\":\"box\"},{\"boxmean\":\"sd\",\"boxpoints\":\"all\",\"fillcolor\":\"rgba(255,255,255,0)\",\"hoveron\":\"points\",\"hovertemplate\":\"Time window=%{x}\\u003cbr\\u003eTrips per hour=%{y}\\u003cbr\\u003eRoute=%{name}\\u003cextra\\u003e\\u003c\\u002fextra\\u003e\",\"line\":{\"color\":\"rgba(255,255,255,0)\"},\"marker\":{\"color\":\"black\",\"size\":4},\"name\":\"77 West Baltimore MARC - Catonsville\",\"pointpos\":0,\"showlegend\":false,\"x\":[\"0:00-6:00\",\"0:00-6:00\",\"6:00-9:00\",\"6:00-9:00\",\"9:00-12:00\",\"9:00-12:00\",\"12:00-15:00\",\"12:00-15:00\",\"15:00-19:00\",\"15:00-19:00\",\"19:00-24:00\",\"19:00-24:00\"],\"y\":[1.5,1.5,3.6666666666666665,3.6666666666666665,3.3333333333333335,3.3333333333333335,3.3333333333333335,3.0,3.75,3.75,2.8,3.0],\"type\":\"box\"},{\"boxmean\":\"sd\",\"boxpoints\":\"all\",\"fillcolor\":\"rgba(255,255,255,0)\",\"hoveron\":\"points\",\"hovertemplate\":\"Time window=%{x}\\u003cbr\\u003eTrips per hour=%{y}\\u003cbr\\u003eRoute=%{name}\\u003cextra\\u003e\\u003c\\u002fextra\\u003e\",\"line\":{\"color\":\"rgba(255,255,255,0)\"},\"marker\":{\"color\":\"black\",\"size\":4},\"name\":\"71 Downtown - Patapsco Station\",\"pointpos\":0,\"showlegend\":false,\"x\":[\"0:00-6:00\",\"0:00-6:00\",\"6:00-9:00\",\"6:00-9:00\",\"6:00-9:00\",\"9:00-12:00\",\"9:00-12:00\",\"12:00-15:00\",\"12:00-15:00\",\"15:00-19:00\",\"15:00-19:00\",\"19:00-24:00\",\"19:00-24:00\"],\"y\":[1.3333333333333333,1.5,3.0,3.6666666666666665,1.0,3.6666666666666665,3.6666666666666665,3.6666666666666665,3.3333333333333335,4.0,3.75,2.6,2.4],\"type\":\"box\"},{\"boxmean\":\"sd\",\"boxpoints\":\"all\",\"fillcolor\":\"rgba(255,255,255,0)\",\"hoveron\":\"points\",\"hovertemplate\":\"Time window=%{x}\\u003cbr\\u003eTrips per hour=%{y}\\u003cbr\\u003eRoute=%{name}\\u003cextra\\u003e\\u003c\\u002fextra\\u003e\",\"line\":{\"color\":\"rgba(255,255,255,0)\"},\"marker\":{\"color\":\"black\",\"size\":4},\"name\":\"CityLink RED Downtown - Towson\\u002fLutherville\",\"pointpos\":0,\"showlegend\":false,\"x\":[\"0:00-6:00\",\"0:00-6:00\",\"0:00-6:00\",\"0:00-6:00\",\"0:00-6:00\",\"0:00-6:00\",\"6:00-9:00\",\"6:00-9:00\",\"6:00-9:00\",\"6:00-9:00\",\"6:00-9:00\",\"6:00-9:00\",\"6:00-9:00\",\"6:00-9:00\",\"9:00-12:00\",\"9:00-12:00\",\"9:00-12:00\",\"9:00-12:00\",\"9:00-12:00\",\"9:00-12:00\",\"12:00-15:00\",\"12:00-15:00\",\"12:00-15:00\",\"12:00-15:00\",\"12:00-15:00\",\"12:00-15:00\",\"12:00-15:00\",\"15:00-19:00\",\"15:00-19:00\",\"15:00-19:00\",\"15:00-19:00\",\"15:00-19:00\",\"15:00-19:00\",\"15:00-19:00\",\"19:00-24:00\",\"19:00-24:00\",\"19:00-24:00\",\"19:00-24:00\"],\"y\":[0.3333333333333333,0.6666666666666666,0.5,0.6666666666666666,2.1666666666666665,2.3333333333333335,4.333333333333333,4.666666666666667,1.0,0.6666666666666666,0.3333333333333333,0.3333333333333333,5.0,4.0,4.333333333333333,4.0,0.3333333333333333,3.6666666666666665,4.333333333333333,0.6666666666666666,5.0,0.3333333333333333,0.3333333333333333,3.6666666666666665,4.333333333333333,0.6666666666666666,4.0,4.5,4.5,1.25,0.75,0.25,4.5,4.25,1.8,2.6,1.4,2.8],\"type\":\"box\"},{\"boxmean\":\"sd\",\"boxpoints\":\"all\",\"fillcolor\":\"rgba(255,255,255,0)\",\"hoveron\":\"points\",\"hovertemplate\":\"Time window=%{x}\\u003cbr\\u003eTrips per hour=%{y}\\u003cbr\\u003eRoute=%{name}\\u003cextra\\u003e\\u003c\\u002fextra\\u003e\",\"line\":{\"color\":\"rgba(255,255,255,0)\"},\"marker\":{\"color\":\"black\",\"size\":4},\"name\":\"69 Patapsco Station - Jumpers Hole\",\"pointpos\":0,\"showlegend\":false,\"x\":[\"0:00-6:00\",\"0:00-6:00\",\"0:00-6:00\",\"0:00-6:00\",\"6:00-9:00\",\"6:00-9:00\",\"6:00-9:00\",\"6:00-9:00\",\"9:00-12:00\",\"9:00-12:00\",\"9:00-12:00\",\"12:00-15:00\",\"12:00-15:00\",\"15:00-19:00\",\"15:00-19:00\",\"19:00-24:00\",\"19:00-24:00\",\"19:00-24:00\",\"19:00-24:00\"],\"y\":[0.3333333333333333,0.3333333333333333,0.3333333333333333,0.16666666666666666,0.6666666666666666,1.3333333333333333,0.3333333333333333,1.3333333333333333,0.3333333333333333,1.6666666666666667,1.3333333333333333,2.0,2.0,1.75,2.0,1.2,0.2,0.4,1.4],\"type\":\"box\"},{\"boxmean\":\"sd\",\"boxpoints\":\"all\",\"fillcolor\":\"rgba(255,255,255,0)\",\"hoveron\":\"points\",\"hovertemplate\":\"Time window=%{x}\\u003cbr\\u003eTrips per hour=%{y}\\u003cbr\\u003eRoute=%{name}\\u003cextra\\u003e\\u003c\\u002fextra\\u003e\",\"line\":{\"color\":\"rgba(255,255,255,0)\"},\"marker\":{\"color\":\"black\",\"size\":4},\"name\":\"21 Woodberry - Canton Crossing\",\"pointpos\":0,\"showlegend\":false,\"x\":[\"0:00-6:00\",\"0:00-6:00\",\"6:00-9:00\",\"6:00-9:00\",\"6:00-9:00\",\"9:00-12:00\",\"9:00-12:00\",\"12:00-15:00\",\"12:00-15:00\",\"15:00-19:00\",\"15:00-19:00\",\"15:00-19:00\",\"19:00-24:00\",\"19:00-24:00\"],\"y\":[1.5,1.5,0.3333333333333333,2.6666666666666665,3.3333333333333335,3.0,3.6666666666666665,3.6666666666666665,3.3333333333333335,3.5,0.25,3.5,2.6,2.8],\"type\":\"box\"},{\"boxmean\":\"sd\",\"boxpoints\":\"all\",\"fillcolor\":\"rgba(255,255,255,0)\",\"hoveron\":\"points\",\"hovertemplate\":\"Time window=%{x}\\u003cbr\\u003eTrips per hour=%{y}\\u003cbr\\u003eRoute=%{name}\\u003cextra\\u003e\\u003c\\u002fextra\\u003e\",\"line\":{\"color\":\"rgba(255,255,255,0)\"},\"marker\":{\"color\":\"black\",\"size\":4},\"name\":\"80 Downtown - Rogers Ave Station\",\"pointpos\":0,\"showlegend\":false,\"x\":[\"0:00-6:00\",\"0:00-6:00\",\"6:00-9:00\",\"6:00-9:00\",\"6:00-9:00\",\"9:00-12:00\",\"9:00-12:00\",\"12:00-15:00\",\"12:00-15:00\",\"12:00-15:00\",\"15:00-19:00\",\"15:00-19:00\",\"19:00-24:00\",\"19:00-24:00\"],\"y\":[3.0,3.0,4.0,0.3333333333333333,4.666666666666667,6.0,6.0,6.0,0.3333333333333333,6.0,6.0,6.0,4.4,4.2],\"type\":\"box\"},{\"boxmean\":\"sd\",\"boxpoints\":\"all\",\"fillcolor\":\"rgba(255,255,255,0)\",\"hoveron\":\"points\",\"hovertemplate\":\"Time window=%{x}\\u003cbr\\u003eTrips per hour=%{y}\\u003cbr\\u003eRoute=%{name}\\u003cextra\\u003e\\u003c\\u002fextra\\u003e\",\"line\":{\"color\":\"rgba(255,255,255,0)\"},\"marker\":{\"color\":\"black\",\"size\":4},\"name\":\"92 Glen - Baas & Talmudical\",\"pointpos\":0,\"showlegend\":false,\"x\":[\"6:00-9:00\",\"6:00-9:00\",\"6:00-9:00\",\"6:00-9:00\",\"12:00-15:00\",\"12:00-15:00\",\"15:00-19:00\",\"15:00-19:00\",\"15:00-19:00\",\"15:00-19:00\",\"19:00-24:00\"],\"y\":[0.3333333333333333,0.3333333333333333,1.3333333333333333,1.3333333333333333,1.0,0.6666666666666666,0.5,0.25,0.25,0.5,0.2],\"type\":\"box\"},{\"boxmean\":\"sd\",\"boxpoints\":\"all\",\"fillcolor\":\"rgba(255,255,255,0)\",\"hoveron\":\"points\",\"hovertemplate\":\"Time window=%{x}\\u003cbr\\u003eTrips per hour=%{y}\\u003cbr\\u003eRoute=%{name}\\u003cextra\\u003e\\u003c\\u002fextra\\u003e\",\"line\":{\"color\":\"rgba(255,255,255,0)\"},\"marker\":{\"color\":\"black\",\"size\":4},\"name\":\"120 White Marsh - Downtown\\u002fHopkins\",\"pointpos\":0,\"showlegend\":false,\"x\":[\"6:00-9:00\",\"6:00-9:00\",\"15:00-19:00\",\"15:00-19:00\"],\"y\":[0.6666666666666666,3.3333333333333335,0.5,2.25],\"type\":\"box\"},{\"boxmean\":\"sd\",\"boxpoints\":\"all\",\"fillcolor\":\"rgba(255,255,255,0)\",\"hoveron\":\"points\",\"hovertemplate\":\"Time window=%{x}\\u003cbr\\u003eTrips per hour=%{y}\\u003cbr\\u003eRoute=%{name}\\u003cextra\\u003e\\u003c\\u002fextra\\u003e\",\"line\":{\"color\":\"rgba(255,255,255,0)\"},\"marker\":{\"color\":\"black\",\"size\":4},\"name\":\"105 Cedonia - Downtown\",\"pointpos\":0,\"showlegend\":false,\"x\":[\"6:00-9:00\",\"15:00-19:00\"],\"y\":[1.3333333333333333,0.75],\"type\":\"box\"},{\"boxmean\":\"sd\",\"boxpoints\":\"all\",\"fillcolor\":\"rgba(255,255,255,0)\",\"hoveron\":\"points\",\"hovertemplate\":\"Time window=%{x}\\u003cbr\\u003eTrips per hour=%{y}\\u003cbr\\u003eRoute=%{name}\\u003cextra\\u003e\\u003c\\u002fextra\\u003e\",\"line\":{\"color\":\"rgba(255,255,255,0)\"},\"marker\":{\"color\":\"black\",\"size\":4},\"name\":\"103 Downtown - Cromwell Bridge\",\"pointpos\":0,\"showlegend\":false,\"x\":[\"6:00-9:00\",\"15:00-19:00\"],\"y\":[1.3333333333333333,1.0],\"type\":\"box\"},{\"boxmean\":\"sd\",\"boxpoints\":\"all\",\"fillcolor\":\"rgba(255,255,255,0)\",\"hoveron\":\"points\",\"hovertemplate\":\"Time window=%{x}\\u003cbr\\u003eTrips per hour=%{y}\\u003cbr\\u003eRoute=%{name}\\u003cextra\\u003e\\u003c\\u002fextra\\u003e\",\"line\":{\"color\":\"rgba(255,255,255,0)\"},\"marker\":{\"color\":\"black\",\"size\":4},\"name\":\"40 Westgate - Selig\",\"pointpos\":0,\"showlegend\":false,\"x\":[\"6:00-9:00\",\"6:00-9:00\",\"9:00-12:00\",\"9:00-12:00\",\"12:00-15:00\",\"12:00-15:00\",\"15:00-19:00\",\"15:00-19:00\"],\"y\":[3.0,3.0,2.0,2.0,2.3333333333333335,2.3333333333333335,2.5,2.5],\"type\":\"box\"},{\"boxmean\":\"sd\",\"boxpoints\":\"all\",\"fillcolor\":\"rgba(255,255,255,0)\",\"hoveron\":\"points\",\"hovertemplate\":\"Time window=%{x}\\u003cbr\\u003eTrips per hour=%{y}\\u003cbr\\u003eRoute=%{name}\\u003cextra\\u003e\\u003c\\u002fextra\\u003e\",\"line\":{\"color\":\"rgba(255,255,255,0)\"},\"marker\":{\"color\":\"black\",\"size\":4},\"name\":\"57 Belair - Edison Circulator\",\"pointpos\":0,\"showlegend\":false,\"x\":[\"6:00-9:00\",\"6:00-9:00\",\"9:00-12:00\",\"12:00-15:00\",\"15:00-19:00\",\"15:00-19:00\"],\"y\":[0.6666666666666666,2.0,2.6666666666666665,3.3333333333333335,2.0,2.0],\"type\":\"box\"},{\"boxmean\":\"sd\",\"boxpoints\":\"all\",\"fillcolor\":\"rgba(255,255,255,0)\",\"hoveron\":\"points\",\"hovertemplate\":\"Time window=%{x}\\u003cbr\\u003eTrips per hour=%{y}\\u003cbr\\u003eRoute=%{name}\\u003cextra\\u003e\\u003c\\u002fextra\\u003e\",\"line\":{\"color\":\"rgba(255,255,255,0)\"},\"marker\":{\"color\":\"black\",\"size\":4},\"name\":\"52 Greenmount North - Stella Maris\",\"pointpos\":0,\"showlegend\":false,\"x\":[\"6:00-9:00\",\"9:00-12:00\",\"15:00-19:00\",\"19:00-24:00\"],\"y\":[0.6666666666666666,0.6666666666666666,0.5,0.8],\"type\":\"box\"},{\"boxmean\":\"sd\",\"boxpoints\":\"all\",\"fillcolor\":\"rgba(255,255,255,0)\",\"hoveron\":\"points\",\"hovertemplate\":\"Time window=%{x}\\u003cbr\\u003eTrips per hour=%{y}\\u003cbr\\u003eRoute=%{name}\\u003cextra\\u003e\\u003c\\u002fextra\\u003e\",\"line\":{\"color\":\"rgba(255,255,255,0)\"},\"marker\":{\"color\":\"black\",\"size\":4},\"name\":\"38 Westgate - Medfield\",\"pointpos\":0,\"showlegend\":false,\"x\":[\"6:00-9:00\",\"12:00-15:00\"],\"y\":[0.6666666666666666,0.6666666666666666],\"type\":\"box\"},{\"boxmean\":\"sd\",\"boxpoints\":\"all\",\"fillcolor\":\"rgba(255,255,255,0)\",\"hoveron\":\"points\",\"hovertemplate\":\"Time window=%{x}\\u003cbr\\u003eTrips per hour=%{y}\\u003cbr\\u003eRoute=%{name}\\u003cextra\\u003e\\u003c\\u002fextra\\u003e\",\"line\":{\"color\":\"rgba(255,255,255,0)\"},\"marker\":{\"color\":\"black\",\"size\":4},\"name\":\"160 Downtown\\u002fHopkins - Essex\",\"pointpos\":0,\"showlegend\":false,\"x\":[\"6:00-9:00\",\"6:00-9:00\",\"15:00-19:00\",\"15:00-19:00\"],\"y\":[0.6666666666666666,0.3333333333333333,0.5,0.25],\"type\":\"box\"},{\"boxmean\":\"sd\",\"boxpoints\":\"all\",\"fillcolor\":\"rgba(255,255,255,0)\",\"hoveron\":\"points\",\"hovertemplate\":\"Time window=%{x}\\u003cbr\\u003eTrips per hour=%{y}\\u003cbr\\u003eRoute=%{name}\\u003cextra\\u003e\\u003c\\u002fextra\\u003e\",\"line\":{\"color\":\"rgba(255,255,255,0)\"},\"marker\":{\"color\":\"black\",\"size\":4},\"name\":\"154 State Center - Carney\\u002fHillendale\",\"pointpos\":0,\"showlegend\":false,\"x\":[\"6:00-9:00\",\"6:00-9:00\",\"15:00-19:00\",\"15:00-19:00\"],\"y\":[1.6666666666666667,1.3333333333333333,0.75,1.0],\"type\":\"box\"},{\"line\":{\"color\":\"red\"},\"mode\":\"lines\",\"name\":\"Median\",\"x\":[\"0:00-6:00\",\"6:00-9:00\",\"9:00-12:00\",\"12:00-15:00\",\"15:00-19:00\",\"19:00-24:00\"],\"y\":[1.0,2.166666666666667,3.0,2.3333333333333335,2.75,2.2],\"type\":\"scatter\"}],                        {\"title\":{\"text\":\"Categorical X-Axis, with Jitter for Trips per hour and window for each line\"},\"template\":{\"data\":{\"histogram2dcontour\":[{\"type\":\"histogram2dcontour\",\"colorbar\":{\"outlinewidth\":0,\"ticks\":\"\"},\"colorscale\":[[0.0,\"#0d0887\"],[0.1111111111111111,\"#46039f\"],[0.2222222222222222,\"#7201a8\"],[0.3333333333333333,\"#9c179e\"],[0.4444444444444444,\"#bd3786\"],[0.5555555555555556,\"#d8576b\"],[0.6666666666666666,\"#ed7953\"],[0.7777777777777778,\"#fb9f3a\"],[0.8888888888888888,\"#fdca26\"],[1.0,\"#f0f921\"]]}],\"choropleth\":[{\"type\":\"choropleth\",\"colorbar\":{\"outlinewidth\":0,\"ticks\":\"\"}}],\"histogram2d\":[{\"type\":\"histogram2d\",\"colorbar\":{\"outlinewidth\":0,\"ticks\":\"\"},\"colorscale\":[[0.0,\"#0d0887\"],[0.1111111111111111,\"#46039f\"],[0.2222222222222222,\"#7201a8\"],[0.3333333333333333,\"#9c179e\"],[0.4444444444444444,\"#bd3786\"],[0.5555555555555556,\"#d8576b\"],[0.6666666666666666,\"#ed7953\"],[0.7777777777777778,\"#fb9f3a\"],[0.8888888888888888,\"#fdca26\"],[1.0,\"#f0f921\"]]}],\"heatmap\":[{\"type\":\"heatmap\",\"colorbar\":{\"outlinewidth\":0,\"ticks\":\"\"},\"colorscale\":[[0.0,\"#0d0887\"],[0.1111111111111111,\"#46039f\"],[0.2222222222222222,\"#7201a8\"],[0.3333333333333333,\"#9c179e\"],[0.4444444444444444,\"#bd3786\"],[0.5555555555555556,\"#d8576b\"],[0.6666666666666666,\"#ed7953\"],[0.7777777777777778,\"#fb9f3a\"],[0.8888888888888888,\"#fdca26\"],[1.0,\"#f0f921\"]]}],\"heatmapgl\":[{\"type\":\"heatmapgl\",\"colorbar\":{\"outlinewidth\":0,\"ticks\":\"\"},\"colorscale\":[[0.0,\"#0d0887\"],[0.1111111111111111,\"#46039f\"],[0.2222222222222222,\"#7201a8\"],[0.3333333333333333,\"#9c179e\"],[0.4444444444444444,\"#bd3786\"],[0.5555555555555556,\"#d8576b\"],[0.6666666666666666,\"#ed7953\"],[0.7777777777777778,\"#fb9f3a\"],[0.8888888888888888,\"#fdca26\"],[1.0,\"#f0f921\"]]}],\"contourcarpet\":[{\"type\":\"contourcarpet\",\"colorbar\":{\"outlinewidth\":0,\"ticks\":\"\"}}],\"contour\":[{\"type\":\"contour\",\"colorbar\":{\"outlinewidth\":0,\"ticks\":\"\"},\"colorscale\":[[0.0,\"#0d0887\"],[0.1111111111111111,\"#46039f\"],[0.2222222222222222,\"#7201a8\"],[0.3333333333333333,\"#9c179e\"],[0.4444444444444444,\"#bd3786\"],[0.5555555555555556,\"#d8576b\"],[0.6666666666666666,\"#ed7953\"],[0.7777777777777778,\"#fb9f3a\"],[0.8888888888888888,\"#fdca26\"],[1.0,\"#f0f921\"]]}],\"surface\":[{\"type\":\"surface\",\"colorbar\":{\"outlinewidth\":0,\"ticks\":\"\"},\"colorscale\":[[0.0,\"#0d0887\"],[0.1111111111111111,\"#46039f\"],[0.2222222222222222,\"#7201a8\"],[0.3333333333333333,\"#9c179e\"],[0.4444444444444444,\"#bd3786\"],[0.5555555555555556,\"#d8576b\"],[0.6666666666666666,\"#ed7953\"],[0.7777777777777778,\"#fb9f3a\"],[0.8888888888888888,\"#fdca26\"],[1.0,\"#f0f921\"]]}],\"mesh3d\":[{\"type\":\"mesh3d\",\"colorbar\":{\"outlinewidth\":0,\"ticks\":\"\"}}],\"scatter\":[{\"fillpattern\":{\"fillmode\":\"overlay\",\"size\":10,\"solidity\":0.2},\"type\":\"scatter\"}],\"parcoords\":[{\"type\":\"parcoords\",\"line\":{\"colorbar\":{\"outlinewidth\":0,\"ticks\":\"\"}}}],\"scatterpolargl\":[{\"type\":\"scatterpolargl\",\"marker\":{\"colorbar\":{\"outlinewidth\":0,\"ticks\":\"\"}}}],\"bar\":[{\"error_x\":{\"color\":\"#2a3f5f\"},\"error_y\":{\"color\":\"#2a3f5f\"},\"marker\":{\"line\":{\"color\":\"#E5ECF6\",\"width\":0.5},\"pattern\":{\"fillmode\":\"overlay\",\"size\":10,\"solidity\":0.2}},\"type\":\"bar\"}],\"scattergeo\":[{\"type\":\"scattergeo\",\"marker\":{\"colorbar\":{\"outlinewidth\":0,\"ticks\":\"\"}}}],\"scatterpolar\":[{\"type\":\"scatterpolar\",\"marker\":{\"colorbar\":{\"outlinewidth\":0,\"ticks\":\"\"}}}],\"histogram\":[{\"marker\":{\"pattern\":{\"fillmode\":\"overlay\",\"size\":10,\"solidity\":0.2}},\"type\":\"histogram\"}],\"scattergl\":[{\"type\":\"scattergl\",\"marker\":{\"colorbar\":{\"outlinewidth\":0,\"ticks\":\"\"}}}],\"scatter3d\":[{\"type\":\"scatter3d\",\"line\":{\"colorbar\":{\"outlinewidth\":0,\"ticks\":\"\"}},\"marker\":{\"colorbar\":{\"outlinewidth\":0,\"ticks\":\"\"}}}],\"scattermapbox\":[{\"type\":\"scattermapbox\",\"marker\":{\"colorbar\":{\"outlinewidth\":0,\"ticks\":\"\"}}}],\"scatterternary\":[{\"type\":\"scatterternary\",\"marker\":{\"colorbar\":{\"outlinewidth\":0,\"ticks\":\"\"}}}],\"scattercarpet\":[{\"type\":\"scattercarpet\",\"marker\":{\"colorbar\":{\"outlinewidth\":0,\"ticks\":\"\"}}}],\"carpet\":[{\"aaxis\":{\"endlinecolor\":\"#2a3f5f\",\"gridcolor\":\"white\",\"linecolor\":\"white\",\"minorgridcolor\":\"white\",\"startlinecolor\":\"#2a3f5f\"},\"baxis\":{\"endlinecolor\":\"#2a3f5f\",\"gridcolor\":\"white\",\"linecolor\":\"white\",\"minorgridcolor\":\"white\",\"startlinecolor\":\"#2a3f5f\"},\"type\":\"carpet\"}],\"table\":[{\"cells\":{\"fill\":{\"color\":\"#EBF0F8\"},\"line\":{\"color\":\"white\"}},\"header\":{\"fill\":{\"color\":\"#C8D4E3\"},\"line\":{\"color\":\"white\"}},\"type\":\"table\"}],\"barpolar\":[{\"marker\":{\"line\":{\"color\":\"#E5ECF6\",\"width\":0.5},\"pattern\":{\"fillmode\":\"overlay\",\"size\":10,\"solidity\":0.2}},\"type\":\"barpolar\"}],\"pie\":[{\"automargin\":true,\"type\":\"pie\"}]},\"layout\":{\"autotypenumbers\":\"strict\",\"colorway\":[\"#636efa\",\"#EF553B\",\"#00cc96\",\"#ab63fa\",\"#FFA15A\",\"#19d3f3\",\"#FF6692\",\"#B6E880\",\"#FF97FF\",\"#FECB52\"],\"font\":{\"color\":\"#2a3f5f\"},\"hovermode\":\"closest\",\"hoverlabel\":{\"align\":\"left\"},\"paper_bgcolor\":\"white\",\"plot_bgcolor\":\"#E5ECF6\",\"polar\":{\"bgcolor\":\"#E5ECF6\",\"angularaxis\":{\"gridcolor\":\"white\",\"linecolor\":\"white\",\"ticks\":\"\"},\"radialaxis\":{\"gridcolor\":\"white\",\"linecolor\":\"white\",\"ticks\":\"\"}},\"ternary\":{\"bgcolor\":\"#E5ECF6\",\"aaxis\":{\"gridcolor\":\"white\",\"linecolor\":\"white\",\"ticks\":\"\"},\"baxis\":{\"gridcolor\":\"white\",\"linecolor\":\"white\",\"ticks\":\"\"},\"caxis\":{\"gridcolor\":\"white\",\"linecolor\":\"white\",\"ticks\":\"\"}},\"coloraxis\":{\"colorbar\":{\"outlinewidth\":0,\"ticks\":\"\"}},\"colorscale\":{\"sequential\":[[0.0,\"#0d0887\"],[0.1111111111111111,\"#46039f\"],[0.2222222222222222,\"#7201a8\"],[0.3333333333333333,\"#9c179e\"],[0.4444444444444444,\"#bd3786\"],[0.5555555555555556,\"#d8576b\"],[0.6666666666666666,\"#ed7953\"],[0.7777777777777778,\"#fb9f3a\"],[0.8888888888888888,\"#fdca26\"],[1.0,\"#f0f921\"]],\"sequentialminus\":[[0.0,\"#0d0887\"],[0.1111111111111111,\"#46039f\"],[0.2222222222222222,\"#7201a8\"],[0.3333333333333333,\"#9c179e\"],[0.4444444444444444,\"#bd3786\"],[0.5555555555555556,\"#d8576b\"],[0.6666666666666666,\"#ed7953\"],[0.7777777777777778,\"#fb9f3a\"],[0.8888888888888888,\"#fdca26\"],[1.0,\"#f0f921\"]],\"diverging\":[[0,\"#8e0152\"],[0.1,\"#c51b7d\"],[0.2,\"#de77ae\"],[0.3,\"#f1b6da\"],[0.4,\"#fde0ef\"],[0.5,\"#f7f7f7\"],[0.6,\"#e6f5d0\"],[0.7,\"#b8e186\"],[0.8,\"#7fbc41\"],[0.9,\"#4d9221\"],[1,\"#276419\"]]},\"xaxis\":{\"gridcolor\":\"white\",\"linecolor\":\"white\",\"ticks\":\"\",\"title\":{\"standoff\":15},\"zerolinecolor\":\"white\",\"automargin\":true,\"zerolinewidth\":2},\"yaxis\":{\"gridcolor\":\"white\",\"linecolor\":\"white\",\"ticks\":\"\",\"title\":{\"standoff\":15},\"zerolinecolor\":\"white\",\"automargin\":true,\"zerolinewidth\":2},\"scene\":{\"xaxis\":{\"backgroundcolor\":\"#E5ECF6\",\"gridcolor\":\"white\",\"linecolor\":\"white\",\"showbackground\":true,\"ticks\":\"\",\"zerolinecolor\":\"white\",\"gridwidth\":2},\"yaxis\":{\"backgroundcolor\":\"#E5ECF6\",\"gridcolor\":\"white\",\"linecolor\":\"white\",\"showbackground\":true,\"ticks\":\"\",\"zerolinecolor\":\"white\",\"gridwidth\":2},\"zaxis\":{\"backgroundcolor\":\"#E5ECF6\",\"gridcolor\":\"white\",\"linecolor\":\"white\",\"showbackground\":true,\"ticks\":\"\",\"zerolinecolor\":\"white\",\"gridwidth\":2}},\"shapedefaults\":{\"line\":{\"color\":\"#2a3f5f\"}},\"annotationdefaults\":{\"arrowcolor\":\"#2a3f5f\",\"arrowhead\":0,\"arrowwidth\":1},\"geo\":{\"bgcolor\":\"white\",\"landcolor\":\"#E5ECF6\",\"subunitcolor\":\"white\",\"showland\":true,\"showlakes\":true,\"lakecolor\":\"white\"},\"title\":{\"x\":0.05},\"mapbox\":{\"style\":\"light\"}}}},                        {\"responsive\": true}                    ).then(function(){\n",
       "                            \n",
       "var gd = document.getElementById('7952a169-4e94-424e-b5ef-e64213a06871');\n",
       "var x = new MutationObserver(function (mutations, observer) {{\n",
       "        var display = window.getComputedStyle(gd).display;\n",
       "        if (!display || display === 'none') {{\n",
       "            console.log([gd, 'removed!']);\n",
       "            Plotly.purge(gd);\n",
       "            observer.disconnect();\n",
       "        }}\n",
       "}});\n",
       "\n",
       "// Listen for the removal of the full notebook cells\n",
       "var notebookContainer = gd.closest('#notebook-container');\n",
       "if (notebookContainer) {{\n",
       "    x.observe(notebookContainer, {childList: true});\n",
       "}}\n",
       "\n",
       "// Listen for the clearing of the current output cell\n",
       "var outputEl = gd.closest('.output');\n",
       "if (outputEl) {{\n",
       "    x.observe(outputEl, {childList: true});\n",
       "}}\n",
       "\n",
       "                        })                };                });            </script>        </div>"
      ]
     },
     "metadata": {},
     "output_type": "display_data"
    }
   ],
   "source": [
    "line_freq = line_freq.sort_values('window_start')\n",
    "\n",
    "layout = {'title': 'Categorical X-Axis, with Jitter for Trips per hour and window for each line'}\n",
    "traces = []\n",
    "\n",
    "# Instead, we'll use a for loop to create the traces.\n",
    "for line in line_freq.route_name.unique():\n",
    "    df = line_freq[line_freq.route_name == line]\n",
    "    traces.append({'y': df['tph'], 'x': df['window'], 'name': line, 'marker': {'color': 'black', 'size': 4}})\n",
    "    \n",
    "# Update (add) trace elements common to all traces.\n",
    "for t in traces:\n",
    "    t.update({'type': 'box',\n",
    "              'boxpoints': 'all',\n",
    "              'fillcolor': 'rgba(255,255,255,0)',\n",
    "              'hoveron': 'points',\n",
    "              'hovertemplate': 'Time window=%{x}<br>Trips per hour=%{y}<br>Route=%{name}<extra></extra>',\n",
    "              'line': {'color': 'rgba(255,255,255,0)'},\n",
    "              'boxmean': 'sd',  # Show the standard deviation in the box\n",
    "            #   'marker': {'outliercolor': 'rgba(255,0,0,0.6)'},  # Change the color of outliers\n",
    "              'pointpos': 0,\n",
    "              'showlegend': False})\n",
    "    \n",
    "# Calculate the median for each window and sort by 'window_start'\n",
    "medians = line_freq.groupby(['window', 'window_start'])['tph'].median().reset_index()\n",
    "medians = medians.sort_values('window_start')\n",
    "\n",
    "# Create a line trace for the medians\n",
    "median_trace = {\n",
    "    'x': medians['window'],\n",
    "    'y': medians['tph'],\n",
    "    'mode': 'lines',\n",
    "    'name': 'Median',\n",
    "    'line': {'color': 'red'}\n",
    "}\n",
    "\n",
    "# Add the median trace to the list of traces and show the figure\n",
    "traces.append(median_trace)\n",
    "pio.show({'data': traces, 'layout': layout})"
   ]
  },
  {
   "cell_type": "code",
   "execution_count": null,
   "metadata": {},
   "outputs": [],
   "source": []
  }
 ],
 "metadata": {
  "kernelspec": {
   "display_name": "streamlit-gtfs-functions",
   "language": "python",
   "name": "python3"
  },
  "language_info": {
   "codemirror_mode": {
    "name": "ipython",
    "version": 3
   },
   "file_extension": ".py",
   "mimetype": "text/x-python",
   "name": "python",
   "nbconvert_exporter": "python",
   "pygments_lexer": "ipython3",
   "version": "3.10.14"
  }
 },
 "nbformat": 4,
 "nbformat_minor": 2
}
